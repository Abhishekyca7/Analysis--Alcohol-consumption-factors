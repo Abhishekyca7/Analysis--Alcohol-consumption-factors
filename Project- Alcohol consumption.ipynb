{
 "cells": [
  {
   "cell_type": "markdown",
   "metadata": {},
   "source": [
    "<div class=\"alert alert-block alert-info\">   \n",
    "\n",
    "#  Project  \n",
    "\n",
    "\n",
    "</div>"
   ]
  },
  {
   "cell_type": "markdown",
   "metadata": {},
   "source": [
    "## Instructions and reminders for Jupyter notebooks\n",
    "\n",
    "**Add markdown and code cells as needed to complete your project.** Please do not modify the headings of the sections.\n",
    "\n",
    "Helpful notes abouts markdown in Jupyter to get you started:\n",
    "* When you have a cell selected (by clicking on the white space to the left of the cell) in Command mode (blue box around the cell), press `a` or `b` to add a cell \"above\" or \"below\"\n",
    "* In Command mode, press `d` twice to delete the cell. Press z to undo deleting a cell\n",
    "* In Command mode, press `m` to change a code cell to a markdown cell, or press `y` to change a markdown cell to a code cell\n",
    "* In Command mode, press `x` to cut cell, `c` to copy cell, and `v` to paste cell below the selected cell\n",
    "  \n",
    "* Double click a cell to enter Edit mode (green box around the cell), or press `Enter`\n",
    "* Add two empty spaces at the end of a line to add a line break\n",
    "* Press `shift + enter` to execute a cell to see either the formatted version (for a markdown cell) or to run the code (for a code cell). This will cause you to leave edit mode.\n",
    "* Press `Ctrl + Shift + -` to split the current cell into two cells where the cursor is\n",
    "* Press `Shift + m` to merge multiple cells. You can use `Shift + up arrow` or `Shift + down` arrow to select multiple cells.\n",
    "\n",
    "\n",
    "\n",
    "[See cheat sheet for Markdown in Jupyter for more details](https://medium.com/analytics-vidhya/the-ultimate-markdown-guide-for-jupyter-notebook-d5e5abf728fd)"
   ]
  },
  {
   "cell_type": "markdown",
   "metadata": {},
   "source": [
    "### Names \n",
    "\n",
    "- Hamed Asa \n",
    "- Abhishek Kumar  \n",
    "</code> "
   ]
  },
  {
   "cell_type": "markdown",
   "metadata": {},
   "source": [
    "---\n",
    "\n",
    "## Table of Contents\n",
    "[Project description](#Description)  \n",
    "[Introduction](#Introduction)  \n",
    "[Data preparation for Logistic Regression](#Data_prep1)  \n",
    "[Predictions and Exploratory Data Analysis for Logistic Regression](#EDA1)  \n",
    "[Logistic regression model](#Logistic)  \n",
    "[Data preparation for Poisson Regression](#Data_prep2)  \n",
    "[Predictions and Exploratory Data Analysis for Poisson Regression](#EDA2)  \n",
    "[Poisson regression model](#Poisson)  \n",
    "[Discussion](#Discussion)\n",
    "\n",
    "\n",
    "[Appendix A: Building the Logistic Rgression Model](#AppendixA)  \n",
    "[Appendix B: Building the Poisson Rgression Model](#AppendixB)\n",
    "\n",
    "---"
   ]
  },
  {
   "cell_type": "markdown",
   "metadata": {},
   "source": [
    "<div class=\"alert alert-block alert-info\">   \n",
    "<a id=\"Description\"></a>\n",
    "\n",
    "# Project description\n",
    "\n",
    "You will create logistic and Poisson regression models to understand factors that relate to alcohol consumption.  \n",
    "<br>\n",
    "The dataset you will use is from the Behavioural Risk Factor Surveillance System (BRFSS) Survey from 2013. The data was collected from adults (18 years +) living in the United States. The data was collected via telephone survey, using disproportionate stratified sampling (to yield better estimates than simple random sampling) for the landline sample, and using randomly selected respondents for the cellular phone sample. (https://www.cdc.gov/brfss/)  \n",
    "<br>\n",
    "The purpose of the survey is to collect data about health-related risk behaviours (food, sleep, alcohol, smoking), medical/health conditions, and the use of medical services. \n",
    "<br>\n",
    "All data collected is observational, so we will not be able to determine causal relationships. However, a better understanding of the associations can help identify potential risk factors or variables to target for intervention.   \n",
    "    </div>"
   ]
  },
  {
   "cell_type": "markdown",
   "metadata": {},
   "source": [
    "### Response variables   \n",
    "\n",
    "The dataset includes two variables of interest about alcohol consumption:\n",
    "- `alcday5` (count), which includes responses to the question: During the past 30 days, how many days per week or per month did you have at least one drink of any alcoholic beverage such as beer, wine, a malt beverage or liquor? **Exclude NAs and values 1 and 2**\n",
    "- `drnk3ge5` (count), which includes responses to the question: Considering all types of alcoholic beverages, how many times during the past 30 days did you have 5 or more drinks for men or 4 or more drinks for women on an occasion? **Replace all NAs with 0, Exclude values >30**"
   ]
  },
  {
   "cell_type": "markdown",
   "metadata": {},
   "source": [
    "### Potential explanatory variables  \n",
    "  \n",
    "Note that criteria for cleaning the dataset are provided in **bold** after the description for each variable.  \n",
    "   \n",
    "1. `physhlth` (quantitative); Now thinking about your physical health, which includes physical illness and injury, for how many days during the past 30 days was your physical health not good? **Exclude values >30 and NAs**  \n",
    "2. `menthlth` (quantitative); Now thinking about your mental health, which includes stress, depression, and problems with emotions, for how many days during the past 30 days was your mental health not good? **Exclude values >30 and NAs** \n",
    "3. `poorhlth` (quantitative); During the past 30 days, for about how many days did poor physical or mental health keep you from doing your usual activities, such as self-care, work, or recreation? **Exclude values >30 and NAs** \n",
    "3. `sleptim1` (quantitative); On average, how many hours of sleep do you get in a 24-hour period? **Exclude values >24 and NAs**\n",
    "4. `marital` (categorical); Are you: married, divorced, widowed, separated, never married, a member of an unmarried couple? **Exclude NAs**\n",
    "5. `educa` (categorical); What is the highest grade or year of school you completed? **Exclude NAs**\n",
    "    - Never attended school or only kindergarten\n",
    "    - Grades 1 through 8 (Elementary)\n",
    "    - Grades 9 through 11 (Some high school)\n",
    "    - Grade 12 or GED (High school graduate)\n",
    "    - College 1 year to 3 years (Some college or technical school)\n",
    "    - College 4 years or more (College graduate)\n",
    "6. `income2` (categorical); Is your annual household income from all sources (choose from below) **Exclude NAs**\n",
    "    - Less than \\\\$10,000\n",
    "    - Less than \\\\$15,000 (between \\\\$10,000 and \\\\$15,000)\n",
    "    - Less than \\\\$20,000 (between \\\\$15,000 and \\\\$20,000)\n",
    "    - Less than \\\\$25,000 (between \\\\$20,000 and \\\\$25,000)\n",
    "    - Less than \\\\$35,000 (between \\\\$25,000 and \\\\$35,000)\n",
    "    - Less than \\\\$50,000 (between \\\\$35,000 and \\\\$50,000)\n",
    "    - Less than \\\\$75,000 (between \\\\$50,000 and \\\\$75,000)\n",
    "    - $75,000 or more  \n",
    "7. `sex` (categorical); Indicate sex of respondent. Note that this is defined as binary categorical and the original survey used the term \"sex\" rather than \"gender\". **Exclude NAs**"
   ]
  },
  {
   "cell_type": "markdown",
   "metadata": {},
   "source": [
    "<div class=\"alert alert-block alert-info\">   \n",
    "\n",
    "### Methods  \n",
    "    \n",
    "You will conduct exploratory data analysis, visualizing the relationships between the variables.\n",
    "\n",
    "In the main part of the project, you create and interpret the results for a logistic regression model and a Poisson regression model. \n",
    "\n",
    "At the end of the project, you should include code for any other candidate models that you considered. \n",
    "  \n",
    "You will discuss the strengths and limitations of your models, and provide any recommendations to address the limitations.\n",
    "<div>\n"
   ]
  },
  {
   "cell_type": "markdown",
   "metadata": {},
   "source": [
    "<div class=\"alert alert-block alert-danger\">\n",
    "    \n",
    "### Make sure that your code is organized and includes useful annotations and written descriptions of what you are seeing on plots or the conclusions that you are drawing.\n",
    "  \n",
    "### Prepare all plots for publication by including detailed axis labels. Use jitter on plots to avoid overplotting (points covering other observations).\n",
    "<div>"
   ]
  },
  {
   "cell_type": "markdown",
   "metadata": {},
   "source": [
    "<div class=\"alert alert-block alert-success\">\n",
    "<a id=\"Introduction\"></a>  \n",
    "\n",
    "# Introduction \n",
    "Write an introduction to the project.  \n",
    "\n",
    "What to include: objective and purpose of the analysis, background information, and the insights that could be gained from having an explanatory model.  \n",
    "  \n",
    "If you include any references, please put the bibliographical information (APA style) at the end of your introduction; this does not contribute to the word count.\n",
    "</div>"
   ]
  },
  {
   "cell_type": "markdown",
   "metadata": {},
   "source": [
    "\n",
    "### Introduction:\n",
    "\n",
    "Alcohol consumption is typically regarded as an unhealthy behavior, but the relationship between alcohol and healthy behaviours is complex and multi-faced and studies show that “moderate intake of alcohol drinking has been associated with a lower risk of cardiovascular disease” (*).  However, this project is trying to predict the probability of alcohol consumption and the frequency of heavy drinking behaviours based on some medical/health, social, economical, (demographic) and health related risk behaviours. \n",
    "The objective of this project is to develop two regression models to predict, first the probability of consumption of alcohol drink at least once a month based on the factors such as physical and mental health situation, hours of sleep, marital status, income, education, and gender using logistic regression and second, to predict the number of days an individual may drink 4 or 5+ drink in a day based on the same potential exploratory variables using the Poisson regression model.\n",
    "To complete the analyses, the dataset was cleaned, many different plots, test of significance and models were analysed and additional test such as goodness of fit and AIC conducted. To determine the most appropriate model, AIC comparison has been done.\n",
    "Even though this data was collected to study the health-related risk behaviours, it can also be used for the marketing and targeting purposes for the liquors and other alcoholic beverages, too.\n",
    "\n",
    "Reference (*):https://www.ncbi.nlm.nih.gov/pmc/articles/PMC4629692/\n",
    " \n",
    "\n"
   ]
  },
  {
   "cell_type": "markdown",
   "metadata": {},
   "source": [
    "---\n",
    "### Import the data"
   ]
  },
  {
   "cell_type": "code",
   "execution_count": 1,
   "metadata": {
    "scrolled": true
   },
   "outputs": [],
   "source": [
    "# Import the data:\n",
    "load(file= \"data/brfss2013.RData\")"
   ]
  },
  {
   "cell_type": "code",
   "execution_count": 2,
   "metadata": {
    "scrolled": true
   },
   "outputs": [
    {
     "name": "stderr",
     "output_type": "stream",
     "text": [
      "Warning message:\n",
      "\"package 'dplyr' was built under R version 4.0.5\"\n",
      "\n",
      "Attaching package: 'dplyr'\n",
      "\n",
      "\n",
      "The following objects are masked from 'package:stats':\n",
      "\n",
      "    filter, lag\n",
      "\n",
      "\n",
      "The following objects are masked from 'package:base':\n",
      "\n",
      "    intersect, setdiff, setequal, union\n",
      "\n",
      "\n"
     ]
    }
   ],
   "source": [
    "# Here is a version of the data including only the columns of interest:\n",
    "mydata <- brfss2013[,c(20, 21, 22, 27, 46, 48, 50, 59, 73, 75)]\n",
    "#head(mydata)\n",
    "library(dplyr)"
   ]
  },
  {
   "cell_type": "markdown",
   "metadata": {},
   "source": [
    "<div class=\"alert alert-block alert-warning\">\n",
    "<a id=\"Data_prep1\"></a>\n",
    "\n",
    "# Data preparation for Logistic Regression \n",
    "\n",
    "You will prepare the dataset for analysis.\n",
    "</div>"
   ]
  },
  {
   "cell_type": "markdown",
   "metadata": {},
   "source": [
    "Tidy up the dataset using the criteria above for each variable. "
   ]
  },
  {
   "cell_type": "code",
   "execution_count": 3,
   "metadata": {},
   "outputs": [],
   "source": [
    "# Datapreparation :\n",
    "mydata$drnk3ge5 = mydata$drnk3ge5 %>% tidyr::replace_na(0)\n",
    "mydata = mydata %>% na.exclude"
   ]
  },
  {
   "cell_type": "code",
   "execution_count": 4,
   "metadata": {},
   "outputs": [],
   "source": [
    "mydata = filter(mydata, physhlth < 31 )\n",
    "mydata = filter(mydata, menthlth < 31 )\n",
    "mydata = filter(mydata, poorhlth < 31 )\n",
    "mydata = filter(mydata, sleptim1 < 25 )\n",
    "mydata = filter(mydata, drnk3ge5 < 31 )\n",
    "mydata = filter(mydata, alcday5 !=1 ) \n",
    "mydata = filter(mydata, alcday5 !=2 )"
   ]
  },
  {
   "cell_type": "markdown",
   "metadata": {},
   "source": [
    "How many observations are in the clean dataset? (0.25 marks)\n"
   ]
  },
  {
   "cell_type": "code",
   "execution_count": 5,
   "metadata": {},
   "outputs": [
    {
     "data": {
      "text/html": [
       "196673"
      ],
      "text/latex": [
       "196673"
      ],
      "text/markdown": [
       "196673"
      ],
      "text/plain": [
       "[1] 196673"
      ]
     },
     "metadata": {},
     "output_type": "display_data"
    }
   ],
   "source": [
    "nrow(mydata)"
   ]
  },
  {
   "cell_type": "markdown",
   "metadata": {},
   "source": [
    "#### Using the function `ifelse`, create a new version of the variable `alcday5`, encoded as 0 to represent no alcohol and 1 to represent at least one alcoholic drink consumed in the last 30 days. "
   ]
  },
  {
   "cell_type": "code",
   "execution_count": 6,
   "metadata": {},
   "outputs": [],
   "source": [
    "mydata$alcday5 = ifelse(mydata$alcday5==0,0,1)"
   ]
  },
  {
   "cell_type": "markdown",
   "metadata": {},
   "source": [
    "What is the proportion of individuals who have consumed at least 1 alcoholic drink in the last 30 days? "
   ]
  },
  {
   "cell_type": "code",
   "execution_count": 7,
   "metadata": {},
   "outputs": [
    {
     "data": {
      "text/html": [
       "<strong>1:</strong> 50.749"
      ],
      "text/latex": [
       "\\textbf{1:} 50.749"
      ],
      "text/markdown": [
       "**1:** 50.749"
      ],
      "text/plain": [
       "     1 \n",
       "50.749 "
      ]
     },
     "metadata": {},
     "output_type": "display_data"
    }
   ],
   "source": [
    "round(prop.table(table(mydata$alcday5))[2]*100,3)"
   ]
  },
  {
   "cell_type": "markdown",
   "metadata": {},
   "source": [
    "<div class=\"alert alert-block alert-warning\">\n",
    "<a id=\"EDA1\"></a>\n",
    "\n",
    "# Predictions and Exploratory Data Analysis for Logistic Regression \n",
    "\n",
    "Complete the following for each potential explanatory variable:  \n",
    "    \n",
    "A) What is your prediction for the relationship between the explanatory variable and the response variable?  (0.25 marks)\n",
    "\n",
    "B1) If quantitative, visualize the relationship using a scatterplot with a lowess line (0.25 marks). What relationship do you see on the plot?  (0.5 marks)\n",
    "\n",
    "B2) If categorical, what is the proportion of individuals who have consumed at least 1 alcoholic drink in the last 30 days for EACH category level? (0.25 marks) Are there differences that indicate that this could be a good explanatory variable to use? (0.5 marks)\n",
    "</div>"
   ]
  },
  {
   "cell_type": "code",
   "execution_count": 8,
   "metadata": {},
   "outputs": [
    {
     "name": "stderr",
     "output_type": "stream",
     "text": [
      "Warning message:\n",
      "\"package 'repr' was built under R version 4.0.5\"\n"
     ]
    }
   ],
   "source": [
    "library(repr)\n",
    "options(repr.plot.width=16, repr.plot.height=10)"
   ]
  },
  {
   "cell_type": "markdown",
   "metadata": {},
   "source": [
    "### 1. Physical health"
   ]
  },
  {
   "cell_type": "markdown",
   "metadata": {},
   "source": [
    "A: Althogh it may persume that people who are caring about thier physical health condition, do not drink alcohol, there are studies that show the moderate consumption of alcohol is good for heart disease. Having said that people who have a living style of doing consistent excersies, can drink more without being worry about the consequence becasue their body can burn the extra sugar and fat and those people can drink more alcohol becasue of their better body metabolisim. So we don't have any prejudice about what association (negative or positive ) this predictor may have.  "
   ]
  },
  {
   "cell_type": "code",
   "execution_count": 453,
   "metadata": {},
   "outputs": [
    {
     "data": {
      "image/png": "[encoded data removed]",
      "text/plain": [
       "plot without title"
      ]
     },
     "metadata": {
      "image/png": {
       "height": 600,
       "width": 960
      }
     },
     "output_type": "display_data"
    }
   ],
   "source": [
    "#B1\n",
    "plot(jitter(alcday5, f = 0.5) ~ physhlth, data=mydata, pch=16,ylab = \"Alcohol consumption\",xlab = \"Physical health\")\n",
    "lines(lowess(mydata$physhlth, mydata$alcday5), col = \"red\")"
   ]
  },
  {
   "cell_type": "markdown",
   "metadata": {},
   "source": [
    "### B2\n",
    "Lowess line tends to be closer to the area with higher number of observation points. Therefore, it seems that the alcohol consumption has a negative relationship with the increase in the number of days of not having good physical health condition. It means people more likely to drink when they have a better physical condition and less likely to drink when they experience unhealthy physical situation. Therefore this difference may indicate a good explanatory variable for the prediction model because it seems there is a negative relationship."
   ]
  },
  {
   "cell_type": "markdown",
   "metadata": {},
   "source": [
    "### 2. Mental health"
   ]
  },
  {
   "cell_type": "markdown",
   "metadata": {},
   "source": [
    "We predict that people who have more and longer mental health issue, tend to drink alcohol because they may think that alcohol will help them to be more relax. But if the mental health issue is a continious problem for their every day life, then they may not be able to drink at all."
   ]
  },
  {
   "cell_type": "code",
   "execution_count": 454,
   "metadata": {},
   "outputs": [
    {
     "data": {
      "image/png": "[encoded data removed]",
      "text/plain": [
       "plot without title"
      ]
     },
     "metadata": {
      "image/png": {
       "height": 600,
       "width": 960
      }
     },
     "output_type": "display_data"
    }
   ],
   "source": [
    "#B1\n",
    "plot(jitter(alcday5, f = 0.5) ~ menthlth, data=mydata, pch=16,ylab = \"Alcohol consumption\",xlab = \"Menthal health\")\n",
    "lines(lowess(mydata$menthlth, mydata$alcday5), col = \"red\")"
   ]
  },
  {
   "cell_type": "markdown",
   "metadata": {},
   "source": [
    "Lowess line shows that if the metal health is a issue for a few days, then the person tends to more likely drink but if the issue continues for more than a few days then there is a negative relationship between drinking and the number of days not being in a good mental health situation. Although there is an association, it seems the relationship is not linear (changing direction) and the variable may not be a good predictor."
   ]
  },
  {
   "cell_type": "markdown",
   "metadata": {},
   "source": [
    "### 3. Poor health"
   ]
  },
  {
   "cell_type": "markdown",
   "metadata": {},
   "source": [
    "While the poor heath situation is a combination of both mental and physical health issures, we predict that the number of poor health situation days follow the similar pattern like physical and mental health issues,( a reduandat variable), a negative relationship between drinking alcohol and increasing number of days of having the poor health issues."
   ]
  },
  {
   "cell_type": "code",
   "execution_count": 455,
   "metadata": {},
   "outputs": [
    {
     "data": {
      "image/png": "[encoded data removed]",
      "text/plain": [
       "plot without title"
      ]
     },
     "metadata": {
      "image/png": {
       "height": 600,
       "width": 960
      }
     },
     "output_type": "display_data"
    }
   ],
   "source": [
    "#B1\n",
    "plot(jitter(alcday5, f = 0.5) ~ poorhlth, data=mydata, pch=16,ylab = \"Alcohol consumption\",xlab = \"Poor health\")\n",
    "lines(lowess(mydata$poorhlth, mydata$alcday5), col = \"red\")"
   ]
  },
  {
   "cell_type": "markdown",
   "metadata": {},
   "source": [
    "Lowess line shows fisrt a positive and then a negative association between number of days having poor health issue and probabilty of drinking. Although there is an association, it seems the relationship is not linear ( changes its moving direction ) and the variable may not be a good predictor. Another reason is that the poor health is probably a redundance of pysical health issue, too."
   ]
  },
  {
   "cell_type": "markdown",
   "metadata": {},
   "source": [
    "### 4. Average amount of sleep"
   ]
  },
  {
   "cell_type": "markdown",
   "metadata": {},
   "source": [
    "We think that the average amount of sleep is a complex parameter because different people with different physical and mental situations may have a different sleep needs and also the quality of sleep is important. Some people may use alcohol to have a better quality of sleep while heavy drinking may result in a bad or short sleep, too. We don't think this variable is a good explanatory variable and may show contradiced results."
   ]
  },
  {
   "cell_type": "code",
   "execution_count": 456,
   "metadata": {},
   "outputs": [
    {
     "data": {
      "image/png": "[encoded data removed]",
      "text/plain": [
       "plot without title"
      ]
     },
     "metadata": {
      "image/png": {
       "height": 600,
       "width": 960
      }
     },
     "output_type": "display_data"
    }
   ],
   "source": [
    "#B1\n",
    "plot(jitter(alcday5, f = 0.5) ~ sleptim1, data=mydata, pch=16,ylab = \"Alcohol consumption\",xlab = \"Average amount of sleep\")\n",
    "lines(lowess(mydata$sleptim1, mydata$alcday5), col = \"red\")"
   ]
  },
  {
   "cell_type": "markdown",
   "metadata": {},
   "source": [
    "Lowess line shows that average people probably drink alcohol when they have enough sleep ( around 7-8 hours). Shorter sleep time shows a positive relationship to probability of drinking while longer sleep time shows a negative association. Therefore, the relationship is not linear ( changes its direction ) and perhaps this variable is not a good predictor. "
   ]
  },
  {
   "cell_type": "markdown",
   "metadata": {},
   "source": [
    "### 5. Marital status"
   ]
  },
  {
   "cell_type": "markdown",
   "metadata": {},
   "source": [
    "A person who never married, an unmarried couple and a married couple, specially if they do not have kids, have less constraint to consume alcohol drink and they probably drink. Even if thay have kids, one person can drink while the other one take care of kids. For other category levels such as divorced or separated, if they have kids, they are less likely to have a chance and free mind to drink easily. We predict that we will see a significant differeneces between category levels."
   ]
  },
  {
   "cell_type": "code",
   "execution_count": 42,
   "metadata": {},
   "outputs": [],
   "source": [
    "p <- tapply(mydata$alcday5, mydata$marital, FUN=\"table\")"
   ]
  },
  {
   "cell_type": "code",
   "execution_count": 459,
   "metadata": {},
   "outputs": [
    {
     "data": {
      "text/html": [
       "<span style=white-space:pre-wrap>'  Married:  0.537228756004638 '</span>"
      ],
      "text/latex": [
       "'  Married:  0.537228756004638 '"
      ],
      "text/markdown": [
       "<span style=white-space:pre-wrap>'  Married:  0.537228756004638 '</span>"
      ],
      "text/plain": [
       "[1] \"  Married:  0.537228756004638 \""
      ]
     },
     "metadata": {},
     "output_type": "display_data"
    },
    {
     "data": {
      "text/html": [
       "<span style=white-space:pre-wrap>'  Divorced:  0.469060398544019 '</span>"
      ],
      "text/latex": [
       "'  Divorced:  0.469060398544019 '"
      ],
      "text/markdown": [
       "<span style=white-space:pre-wrap>'  Divorced:  0.469060398544019 '</span>"
      ],
      "text/plain": [
       "[1] \"  Divorced:  0.469060398544019 \""
      ]
     },
     "metadata": {},
     "output_type": "display_data"
    },
    {
     "data": {
      "text/html": [
       "<span style=white-space:pre-wrap>'  Widowed:  0.337932238910234 '</span>"
      ],
      "text/latex": [
       "'  Widowed:  0.337932238910234 '"
      ],
      "text/markdown": [
       "<span style=white-space:pre-wrap>'  Widowed:  0.337932238910234 '</span>"
      ],
      "text/plain": [
       "[1] \"  Widowed:  0.337932238910234 \""
      ]
     },
     "metadata": {},
     "output_type": "display_data"
    },
    {
     "data": {
      "text/html": [
       "<span style=white-space:pre-wrap>'  Separated:  0.450588655012487 '</span>"
      ],
      "text/latex": [
       "'  Separated:  0.450588655012487 '"
      ],
      "text/markdown": [
       "<span style=white-space:pre-wrap>'  Separated:  0.450588655012487 '</span>"
      ],
      "text/plain": [
       "[1] \"  Separated:  0.450588655012487 \""
      ]
     },
     "metadata": {},
     "output_type": "display_data"
    },
    {
     "data": {
      "text/html": [
       "<span style=white-space:pre-wrap>'  Never married:  0.559967041015625 '</span>"
      ],
      "text/latex": [
       "'  Never married:  0.559967041015625 '"
      ],
      "text/markdown": [
       "<span style=white-space:pre-wrap>'  Never married:  0.559967041015625 '</span>"
      ],
      "text/plain": [
       "[1] \"  Never married:  0.559967041015625 \""
      ]
     },
     "metadata": {},
     "output_type": "display_data"
    },
    {
     "data": {
      "text/html": [
       "<span style=white-space:pre-wrap>'  A member of an unmarried couple:  0.641503523884103 '</span>"
      ],
      "text/latex": [
       "'  A member of an unmarried couple:  0.641503523884103 '"
      ],
      "text/markdown": [
       "<span style=white-space:pre-wrap>'  A member of an unmarried couple:  0.641503523884103 '</span>"
      ],
      "text/plain": [
       "[1] \"  A member of an unmarried couple:  0.641503523884103 \""
      ]
     },
     "metadata": {},
     "output_type": "display_data"
    }
   ],
   "source": [
    "sprintf(\"  Married:  %s \" ,prop.table(p$Married)[2] )\n",
    "sprintf(\"  Divorced:  %s \" ,prop.table(p$Divorced)[2] )\n",
    "sprintf(\"  Widowed:  %s \" ,prop.table(p$Widowed)[2] )\n",
    "sprintf(\"  Separated:  %s \" ,prop.table(p$Separated)[2] )\n",
    "sprintf(\"  Never married:  %s \" ,prop.table(p$`Never married`)[2] )\n",
    "sprintf(\"  A member of an unmarried couple:  %s \" ,prop.table(p$`A member of an unmarried couple`)[2] )\n"
   ]
  },
  {
   "cell_type": "code",
   "execution_count": 460,
   "metadata": {},
   "outputs": [
    {
     "data": {
      "image/png": "[encoded data removed]",
      "text/plain": [
       "plot without title"
      ]
     },
     "metadata": {
      "image/png": {
       "height": 600,
       "width": 960
      }
     },
     "output_type": "display_data"
    }
   ],
   "source": [
    "#B1\n",
    "plot(jitter(alcday5, f = 0.4) ~ marital , data=mydata, pch=16,ylab = \"Alcohol consumption\",xlab = \"Marital Status\")\n",
    "lines(lowess(mydata$marital , mydata$alcday5), col = \"red\")"
   ]
  },
  {
   "cell_type": "markdown",
   "metadata": {},
   "source": [
    "Both different category level means and plots show the significant differences between the levels of marital category regarding the consumption of alcohol drink. Therefore, the martial variable could be a good indicator for the response variable. Widowed and separated individuals tend to drink proportionatly less than other groups."
   ]
  },
  {
   "cell_type": "markdown",
   "metadata": {},
   "source": [
    "### 6. Education"
   ]
  },
  {
   "cell_type": "markdown",
   "metadata": {},
   "source": [
    "There are some reasons to believe that the higher education have an positive association with the consumption of alcohol such as probabilty of higher income and affordability, peer pressure, lack of parental control, and seeking for more fun. On the other hand, higher education may result in a higher awareness and higher self-care, too. Overal, we predict to see a difference between levels of education and consuming alcohol at least once a month."
   ]
  },
  {
   "cell_type": "code",
   "execution_count": 461,
   "metadata": {},
   "outputs": [],
   "source": [
    "p <- tapply(mydata$alcday5, mydata$educa, FUN=\"table\")"
   ]
  },
  {
   "cell_type": "code",
   "execution_count": 462,
   "metadata": {},
   "outputs": [
    {
     "data": {
      "text/html": [
       "<span style=white-space:pre-wrap>'  Never attended school or only kindergarten:  0.252747252747253 '</span>"
      ],
      "text/latex": [
       "'  Never attended school or only kindergarten:  0.252747252747253 '"
      ],
      "text/markdown": [
       "<span style=white-space:pre-wrap>'  Never attended school or only kindergarten:  0.252747252747253 '</span>"
      ],
      "text/plain": [
       "[1] \"  Never attended school or only kindergarten:  0.252747252747253 \""
      ]
     },
     "metadata": {},
     "output_type": "display_data"
    },
    {
     "data": {
      "text/html": [
       "<span style=white-space:pre-wrap>'  Grades 1 through 8 (Elementary):  0.229692470837752 '</span>"
      ],
      "text/latex": [
       "'  Grades 1 through 8 (Elementary):  0.229692470837752 '"
      ],
      "text/markdown": [
       "<span style=white-space:pre-wrap>'  Grades 1 through 8 (Elementary):  0.229692470837752 '</span>"
      ],
      "text/plain": [
       "[1] \"  Grades 1 through 8 (Elementary):  0.229692470837752 \""
      ]
     },
     "metadata": {},
     "output_type": "display_data"
    },
    {
     "data": {
      "text/html": [
       "<span style=white-space:pre-wrap>'  Grades 9 though 11 (Some high school):  0.306762663923888 '</span>"
      ],
      "text/latex": [
       "'  Grades 9 though 11 (Some high school):  0.306762663923888 '"
      ],
      "text/markdown": [
       "<span style=white-space:pre-wrap>'  Grades 9 though 11 (Some high school):  0.306762663923888 '</span>"
      ],
      "text/plain": [
       "[1] \"  Grades 9 though 11 (Some high school):  0.306762663923888 \""
      ]
     },
     "metadata": {},
     "output_type": "display_data"
    },
    {
     "data": {
      "text/html": [
       "<span style=white-space:pre-wrap>'  Grade 12 or GED (High school graduate):  0.413167396763137 '</span>"
      ],
      "text/latex": [
       "'  Grade 12 or GED (High school graduate):  0.413167396763137 '"
      ],
      "text/markdown": [
       "<span style=white-space:pre-wrap>'  Grade 12 or GED (High school graduate):  0.413167396763137 '</span>"
      ],
      "text/plain": [
       "[1] \"  Grade 12 or GED (High school graduate):  0.413167396763137 \""
      ]
     },
     "metadata": {},
     "output_type": "display_data"
    },
    {
     "data": {
      "text/html": [
       "<span style=white-space:pre-wrap>'  College 1 year to 3 years (Some college or technical school):  0.506582743246787 '</span>"
      ],
      "text/latex": [
       "'  College 1 year to 3 years (Some college or technical school):  0.506582743246787 '"
      ],
      "text/markdown": [
       "<span style=white-space:pre-wrap>'  College 1 year to 3 years (Some college or technical school):  0.506582743246787 '</span>"
      ],
      "text/plain": [
       "[1] \"  College 1 year to 3 years (Some college or technical school):  0.506582743246787 \""
      ]
     },
     "metadata": {},
     "output_type": "display_data"
    },
    {
     "data": {
      "text/html": [
       "<span style=white-space:pre-wrap>'  College 4 years or more (College graduate):  0.637627093848292 '</span>"
      ],
      "text/latex": [
       "'  College 4 years or more (College graduate):  0.637627093848292 '"
      ],
      "text/markdown": [
       "<span style=white-space:pre-wrap>'  College 4 years or more (College graduate):  0.637627093848292 '</span>"
      ],
      "text/plain": [
       "[1] \"  College 4 years or more (College graduate):  0.637627093848292 \""
      ]
     },
     "metadata": {},
     "output_type": "display_data"
    }
   ],
   "source": [
    "sprintf(\"  Never attended school or only kindergarten:  %s \" ,prop.table(p$`Never attended school or only kindergarten`)[2] )\n",
    "sprintf(\"  Grades 1 through 8 (Elementary):  %s \" ,prop.table(p$`Grades 1 through 8 (Elementary)`)[2] )\n",
    "sprintf(\"  Grades 9 though 11 (Some high school):  %s \" ,prop.table(p$`Grades 9 though 11 (Some high school)`)[2] )\n",
    "sprintf(\"  Grade 12 or GED (High school graduate):  %s \" ,prop.table(p$`Grade 12 or GED (High school graduate)`)[2] )\n",
    "sprintf(\"  College 1 year to 3 years (Some college or technical school):  %s \" ,prop.table(p$`College 1 year to 3 years (Some college or technical school)`)[2] )\n",
    "sprintf(\"  College 4 years or more (College graduate):  %s \" ,prop.table(p$`College 4 years or more (College graduate)`)[2] )\n"
   ]
  },
  {
   "cell_type": "code",
   "execution_count": 463,
   "metadata": {},
   "outputs": [
    {
     "data": {
      "image/png": "[encoded data removed]",
      "text/plain": [
       "plot without title"
      ]
     },
     "metadata": {
      "image/png": {
       "height": 600,
       "width": 960
      }
     },
     "output_type": "display_data"
    }
   ],
   "source": [
    "#B1\n",
    "plot(jitter(alcday5, f = 0.4) ~ educa , data=mydata, pch=16, ylab = \"Alcohol consumption\",xlab = \"Education\")\n",
    "lines(lowess(mydata$educa , mydata$alcday5), col = \"red\")"
   ]
  },
  {
   "cell_type": "markdown",
   "metadata": {},
   "source": [
    "Both average proportion of people who consume alcohol and plot show a signifinant differences between category levels regarding the response variable. Therefore, it seems that this categorical variable is a good indicator for the regression model. This variable more likely has a correlation with the income levels and we should pay attention and avoid redundancy in our final model. "
   ]
  },
  {
   "cell_type": "markdown",
   "metadata": {},
   "source": [
    "### 7. Income"
   ]
  },
  {
   "cell_type": "markdown",
   "metadata": {},
   "source": [
    "We predict the higher income provide more affordability to buy and consume alcohol at least once a month because liqours are not cheap. The higher the income, the more probability to consume alcohol."
   ]
  },
  {
   "cell_type": "code",
   "execution_count": 464,
   "metadata": {},
   "outputs": [],
   "source": [
    "p <- tapply(mydata$alcday5, mydata$income2, FUN=\"table\")"
   ]
  },
  {
   "cell_type": "code",
   "execution_count": 465,
   "metadata": {},
   "outputs": [
    {
     "data": {
      "text/html": [
       "<span style=white-space:pre-wrap>'  Less than $10,000  proportion:  0.319148936170213 '</span>"
      ],
      "text/latex": [
       "'  Less than \\$10,000  proportion:  0.319148936170213 '"
      ],
      "text/markdown": [
       "<span style=white-space:pre-wrap>'  Less than $10,000  proportion:  0.319148936170213 '</span>"
      ],
      "text/plain": [
       "[1] \"  Less than $10,000  proportion:  0.319148936170213 \""
      ]
     },
     "metadata": {},
     "output_type": "display_data"
    },
    {
     "data": {
      "text/html": [
       "<span style=white-space:pre-wrap>'  Less than $15,000  proportion:  0.308161258603736 '</span>"
      ],
      "text/latex": [
       "'  Less than \\$15,000  proportion:  0.308161258603736 '"
      ],
      "text/markdown": [
       "<span style=white-space:pre-wrap>'  Less than $15,000  proportion:  0.308161258603736 '</span>"
      ],
      "text/plain": [
       "[1] \"  Less than $15,000  proportion:  0.308161258603736 \""
      ]
     },
     "metadata": {},
     "output_type": "display_data"
    },
    {
     "data": {
      "text/html": [
       "<span style=white-space:pre-wrap>'  Less than $20,000  proportion:  0.355296034763715 '</span>"
      ],
      "text/latex": [
       "'  Less than \\$20,000  proportion:  0.355296034763715 '"
      ],
      "text/markdown": [
       "<span style=white-space:pre-wrap>'  Less than $20,000  proportion:  0.355296034763715 '</span>"
      ],
      "text/plain": [
       "[1] \"  Less than $20,000  proportion:  0.355296034763715 \""
      ]
     },
     "metadata": {},
     "output_type": "display_data"
    },
    {
     "data": {
      "text/html": [
       "<span style=white-space:pre-wrap>'  Less than $25,000  proportion:  0.404761904761905 '</span>"
      ],
      "text/latex": [
       "'  Less than \\$25,000  proportion:  0.404761904761905 '"
      ],
      "text/markdown": [
       "<span style=white-space:pre-wrap>'  Less than $25,000  proportion:  0.404761904761905 '</span>"
      ],
      "text/plain": [
       "[1] \"  Less than $25,000  proportion:  0.404761904761905 \""
      ]
     },
     "metadata": {},
     "output_type": "display_data"
    },
    {
     "data": {
      "text/html": [
       "<span style=white-space:pre-wrap>'  Less than $35,000  proportion:  0.454369699898941 '</span>"
      ],
      "text/latex": [
       "'  Less than \\$35,000  proportion:  0.454369699898941 '"
      ],
      "text/markdown": [
       "<span style=white-space:pre-wrap>'  Less than $35,000  proportion:  0.454369699898941 '</span>"
      ],
      "text/plain": [
       "[1] \"  Less than $35,000  proportion:  0.454369699898941 \""
      ]
     },
     "metadata": {},
     "output_type": "display_data"
    },
    {
     "data": {
      "text/html": [
       "<span style=white-space:pre-wrap>'  Less than $50,000  proportion:  0.523850574712644 '</span>"
      ],
      "text/latex": [
       "'  Less than \\$50,000  proportion:  0.523850574712644 '"
      ],
      "text/markdown": [
       "<span style=white-space:pre-wrap>'  Less than $50,000  proportion:  0.523850574712644 '</span>"
      ],
      "text/plain": [
       "[1] \"  Less than $50,000  proportion:  0.523850574712644 \""
      ]
     },
     "metadata": {},
     "output_type": "display_data"
    },
    {
     "data": {
      "text/html": [
       "<span style=white-space:pre-wrap>'  Less than $75,000  proportion:  0.588734329383479 '</span>"
      ],
      "text/latex": [
       "'  Less than \\$75,000  proportion:  0.588734329383479 '"
      ],
      "text/markdown": [
       "<span style=white-space:pre-wrap>'  Less than $75,000  proportion:  0.588734329383479 '</span>"
      ],
      "text/plain": [
       "[1] \"  Less than $75,000  proportion:  0.588734329383479 \""
      ]
     },
     "metadata": {},
     "output_type": "display_data"
    },
    {
     "data": {
      "text/html": [
       "<span style=white-space:pre-wrap>'  $75,000 or more  proportion:  0.701319784111992 '</span>"
      ],
      "text/latex": [
       "'  \\$75,000 or more  proportion:  0.701319784111992 '"
      ],
      "text/markdown": [
       "<span style=white-space:pre-wrap>'  $75,000 or more  proportion:  0.701319784111992 '</span>"
      ],
      "text/plain": [
       "[1] \"  $75,000 or more  proportion:  0.701319784111992 \""
      ]
     },
     "metadata": {},
     "output_type": "display_data"
    }
   ],
   "source": [
    "sprintf(\"  Less than $10,000  proportion:  %s \" ,prop.table(p$`Less than $10,000`)[2] )\n",
    "sprintf(\"  Less than $15,000  proportion:  %s \" ,prop.table(p$`Less than $15,000`)[2] )\n",
    "sprintf(\"  Less than $20,000  proportion:  %s \" ,prop.table(p$`Less than $20,000`)[2] )\n",
    "sprintf(\"  Less than $25,000  proportion:  %s \" ,prop.table(p$`Less than $25,000`)[2] )\n",
    "sprintf(\"  Less than $35,000  proportion:  %s \" ,prop.table(p$`Less than $35,000`)[2] )\n",
    "sprintf(\"  Less than $50,000  proportion:  %s \" ,prop.table(p$`Less than $50,000`)[2] )\n",
    "sprintf(\"  Less than $75,000  proportion:  %s \" ,prop.table(p$`Less than $75,000`)[2] )\n",
    "sprintf(\"  $75,000 or more  proportion:  %s \" ,prop.table(p$`$75,000 or more`)[2] )\n"
   ]
  },
  {
   "cell_type": "code",
   "execution_count": 466,
   "metadata": {
    "scrolled": false
   },
   "outputs": [
    {
     "data": {
      "image/png": "[encoded data removed]",
      "text/plain": [
       "plot without title"
      ]
     },
     "metadata": {
      "image/png": {
       "height": 600,
       "width": 960
      }
     },
     "output_type": "display_data"
    }
   ],
   "source": [
    "plot(jitter(alcday5, f = 0.4) ~ income2 , data=mydata, pch=16, ylab = \"Alcohol consumption\",xlab = \"Income\")\n",
    "lines(lowess(mydata$income2 , mydata$alcday5), col = \"red\")"
   ]
  },
  {
   "cell_type": "markdown",
   "metadata": {},
   "source": [
    "The analysis shows that the proportion of obseved groups who drink in every level of income category is consistantly increasing by their income levels. It means the probability of consuming alcohol at least once in a month is increasing by the increase in income. Therefore, this categorical variable could be a good indicator of response variable for our model. On the other hand, this variable could also be used instead of education level, because the income more likely has a positive correlation with the level of education and we need to be aware of the redundancy of variables, too."
   ]
  },
  {
   "cell_type": "markdown",
   "metadata": {},
   "source": [
    "### 8. Sex/gender"
   ]
  },
  {
   "cell_type": "markdown",
   "metadata": {},
   "source": [
    "We predict that Male have more probability to consume alcohol rather than Female in general."
   ]
  },
  {
   "cell_type": "code",
   "execution_count": 468,
   "metadata": {},
   "outputs": [],
   "source": [
    "p <- tapply(mydata$alcday5, mydata$sex, FUN=\"table\")\n"
   ]
  },
  {
   "cell_type": "code",
   "execution_count": 469,
   "metadata": {},
   "outputs": [
    {
     "data": {
      "text/html": [
       "<span style=white-space:pre-wrap>'Male proportion :  0.583806224642467 '</span>"
      ],
      "text/latex": [
       "'Male proportion :  0.583806224642467 '"
      ],
      "text/markdown": [
       "<span style=white-space:pre-wrap>'Male proportion :  0.583806224642467 '</span>"
      ],
      "text/plain": [
       "[1] \"Male proportion :  0.583806224642467 \""
      ]
     },
     "metadata": {},
     "output_type": "display_data"
    },
    {
     "data": {
      "text/html": [
       "<span style=white-space:pre-wrap>'Female proportion :  0.461260246236243 '</span>"
      ],
      "text/latex": [
       "'Female proportion :  0.461260246236243 '"
      ],
      "text/markdown": [
       "<span style=white-space:pre-wrap>'Female proportion :  0.461260246236243 '</span>"
      ],
      "text/plain": [
       "[1] \"Female proportion :  0.461260246236243 \""
      ]
     },
     "metadata": {},
     "output_type": "display_data"
    }
   ],
   "source": [
    "sprintf(\"Male proportion :  %s \" ,prop.table(p$Male)[2] )\n",
    "sprintf(\"Female proportion :  %s \" ,prop.table(p$Female)[2] )"
   ]
  },
  {
   "cell_type": "code",
   "execution_count": 470,
   "metadata": {},
   "outputs": [
    {
     "data": {
      "image/png": "[encoded data removed]",
      "text/plain": [
       "plot without title"
      ]
     },
     "metadata": {
      "image/png": {
       "height": 600,
       "width": 960
      }
     },
     "output_type": "display_data"
    }
   ],
   "source": [
    "plot(jitter(alcday5, f = 0.4) ~ sex , data=mydata, pch=16, ylab = \"Alcohol consumption\",xlab = \"Gender\")\n",
    "lines(lowess(mydata$sex , mydata$alcday5), col = \"red\")"
   ]
  },
  {
   "cell_type": "markdown",
   "metadata": {},
   "source": [
    "While 58 % of Male in average consume alcohol at least one time in a month, only46% of Female consume alcohol in a month. Therefore gender could be a good indicator of our response variable showing the tendency for category level of Male more likely to consume alcohol at least once comparing to Female. "
   ]
  },
  {
   "cell_type": "markdown",
   "metadata": {},
   "source": [
    "<div class=\"alert alert-block alert-success\">\n",
    "<a id=\"Logistic\"></a>\n",
    "\n",
    "# Logistic Regression Model\n",
    "\n",
    "Build a logistic regression model using **at most 4 explanatory variables (where at least one is a categorical variable)**. You can try alternate models and compare models using AIC. Remember to include interactions when appropriate. Show the results below for your final model. Include any other models you tried in **Appendix A**.\n",
    "    \n",
    "</div>    "
   ]
  },
  {
   "cell_type": "markdown",
   "metadata": {},
   "source": [
    "### Fit your final model "
   ]
  },
  {
   "cell_type": "code",
   "execution_count": 46,
   "metadata": {
    "scrolled": false
   },
   "outputs": [
    {
     "data": {
      "text/plain": [
       "\n",
       "Call:\n",
       "glm(formula = alcday5 ~ physhlth + sex * income2 + marital, family = binomial(link = \"logit\"), \n",
       "    data = mydata)\n",
       "\n",
       "Deviance Residuals: \n",
       "    Min       1Q   Median       3Q      Max  \n",
       "-2.0212  -1.0615   0.6138   1.0382   2.0359  \n",
       "\n",
       "Coefficients:\n",
       "                                         Estimate Std. Error z value Pr(>|z|)\n",
       "(Intercept)                            -0.2644799  0.0325206  -8.133 4.20e-16\n",
       "physhlth                               -0.0304482  0.0004828 -63.061  < 2e-16\n",
       "sexFemale                              -0.6636006  0.0379743 -17.475  < 2e-16\n",
       "income2Less than $15,000               -0.0525071  0.0424577  -1.237 0.216201\n",
       "income2Less than $20,000                0.1511411  0.0400624   3.773 0.000162\n",
       "income2Less than $25,000                0.2861911  0.0388963   7.358 1.87e-13\n",
       "income2Less than $35,000                0.4499610  0.0380021  11.840  < 2e-16\n",
       "income2Less than $50,000                0.6571395  0.0366916  17.910  < 2e-16\n",
       "income2Less than $75,000                0.9098728  0.0368528  24.689  < 2e-16\n",
       "income2$75,000 or more                  1.3878877  0.0354781  39.120  < 2e-16\n",
       "maritalDivorced                         0.3509215  0.0145955  24.043  < 2e-16\n",
       "maritalWidowed                         -0.0963424  0.0171126  -5.630 1.80e-08\n",
       "maritalSeparated                        0.3896433  0.0300544  12.965  < 2e-16\n",
       "maritalNever married                    0.5078868  0.0145262  34.964  < 2e-16\n",
       "maritalA member of an unmarried couple  0.7803468  0.0287197  27.171  < 2e-16\n",
       "sexFemale:income2Less than $15,000      0.0861906  0.0532535   1.618 0.105556\n",
       "sexFemale:income2Less than $20,000      0.0511785  0.0501924   1.020 0.307896\n",
       "sexFemale:income2Less than $25,000      0.1652713  0.0484350   3.412 0.000644\n",
       "sexFemale:income2Less than $35,000      0.1986798  0.0473086   4.200 2.67e-05\n",
       "sexFemale:income2Less than $50,000      0.2877728  0.0455598   6.316 2.68e-10\n",
       "sexFemale:income2Less than $75,000      0.2968804  0.0454603   6.531 6.55e-11\n",
       "sexFemale:income2$75,000 or more        0.3334697  0.0433260   7.697 1.40e-14\n",
       "                                          \n",
       "(Intercept)                            ***\n",
       "physhlth                               ***\n",
       "sexFemale                              ***\n",
       "income2Less than $15,000                  \n",
       "income2Less than $20,000               ***\n",
       "income2Less than $25,000               ***\n",
       "income2Less than $35,000               ***\n",
       "income2Less than $50,000               ***\n",
       "income2Less than $75,000               ***\n",
       "income2$75,000 or more                 ***\n",
       "maritalDivorced                        ***\n",
       "maritalWidowed                         ***\n",
       "maritalSeparated                       ***\n",
       "maritalNever married                   ***\n",
       "maritalA member of an unmarried couple ***\n",
       "sexFemale:income2Less than $15,000        \n",
       "sexFemale:income2Less than $20,000        \n",
       "sexFemale:income2Less than $25,000     ***\n",
       "sexFemale:income2Less than $35,000     ***\n",
       "sexFemale:income2Less than $50,000     ***\n",
       "sexFemale:income2Less than $75,000     ***\n",
       "sexFemale:income2$75,000 or more       ***\n",
       "---\n",
       "Signif. codes:  0 '***' 0.001 '**' 0.01 '*' 0.05 '.' 0.1 ' ' 1\n",
       "\n",
       "(Dispersion parameter for binomial family taken to be 1)\n",
       "\n",
       "    Null deviance: 272603  on 196672  degrees of freedom\n",
       "Residual deviance: 247458  on 196651  degrees of freedom\n",
       "AIC: 247502\n",
       "\n",
       "Number of Fisher Scoring iterations: 4\n"
      ]
     },
     "metadata": {},
     "output_type": "display_data"
    }
   ],
   "source": [
    "# Fit your final model here.\n",
    "# Model Final: Income + Marital, Physical health*sex , Marital\n",
    "z.Final = glm(alcday5 ~ physhlth + sex * income2 + marital   , data=mydata, family=\"binomial\"(link=\"logit\"))\n",
    "summary(z.Final)"
   ]
  },
  {
   "cell_type": "markdown",
   "metadata": {},
   "source": [
    "### Write the equation of your model, replacing the co-efficients with the numbers from the output of the summary command. Show the link function and describe how any categorical variables are encoded. (1.5 marks)"
   ]
  },
  {
   "cell_type": "markdown",
   "metadata": {},
   "source": [
    "### Equation:\n",
    "\n",
    "Log(P/(1-P)) = -0.2644799  - 0.0304482 * physhlth - 0.6636006 * sexFemale - 0.0525071 * income2Less than $15,000 + 0.1511411 * income2Less than $20,000 + 0.2861911 * income2Less than $25,000 + 0.4499610 * income2Less than $35,000 + 0.6571395 * income2Less than $50,000 + 0.9098728 * income2Less than $75,000 + 1.3878877 * income2$75,000 or more + 0.3509215 * maritalDivorced - 0.0963424 * maritalWidowed + 0.3896433 * maritalSeparated + 0.5078868 * maritalNever married + 0.7803468 * maritalA member of an unmarried couple + 0.0861906 * sexFemale:income2Less than $15,000 + 0.0511785 * sexFemale:income2Less than $20,000 + 0.1652713 * sexFemale:income2Less than $25,000  + 0.1986798 * sexFemale:income2Less than $35,000  + 0.2877728 * sexFemale:income2Less than $50,000 + 0.2968804 * sexFemale:income2Less than $75,000 + 0.3334697 * sexFemale:income2$75,000 or more\n",
    "\n",
    "#### Link function : logit\n",
    "For example for a male, married and highest level of income ( more than$75,000) the above formula would be:\n",
    "Log(P/(1-P)) = -0.2644799 + 0.3334697 - 0.0304482  * physhlth = 0.0689898 - 0.0304482 * physhlth\n",
    "\n",
    "P ( or alcday5 ) is the probability of alcohol consumption given the above formula and explanatory variables.\n",
    "Basicly, there is only one quantitative variables, physical health ( as a number of days not having good physical condition) which has a negative relationship with the response variable. All other variables are categorical. \n",
    "There is one interaction between sex and income level which will adjust the intercept for the female's income levels comparing to the reference level (males). \n",
    "Female group in general compared to the Male group drink proportionatly less ( negative sign shows the less probability of consumption for females by adjusting the intercept for females) but increasing income has an reinforced possitive impact on the females drinking probability. \n",
    "Other categorical variables will adjust the intercept for their category levels comparing to their reference level, for example never married group has more probability to consume alcohol referring to the married group as a reference level and so on.\n",
    "Higher income levels show the higher probabilty of consumption comparing to the basic income level of less than $10,000. Even though the coefficient for income level less than $15,000 and $20,000 are not significant, we keep them in the model because the AIC is more than 10 unit lower than the model when we combined (collapsed) first three income levels into the one level.\n",
    "We added the interaction based on a theory that affordability might be a reason for females drink less than males in general and the result from interaction shows that females with higher income may tend to drink more than low income females.  "
   ]
  },
  {
   "cell_type": "markdown",
   "metadata": {},
   "source": [
    "### Create plots to visualize the model fit."
   ]
  },
  {
   "cell_type": "code",
   "execution_count": 44,
   "metadata": {},
   "outputs": [],
   "source": [
    "# plot function\n",
    "makeplot  <- function(maritalstatus){\n",
    "# Sex: Female\n",
    "# income: 1\n",
    "physhlth <- seq(min(mydata$physhlth), max(mydata$physhlth), length.out = 31)\n",
    "xnewm  <- as.data.frame(physhlth)\n",
    "xnewm$marital  <- maritalstatus\n",
    "xnewm$sex  <- \"Female\"\n",
    "xnewm$income2  <- \"Less than $10,000\"\n",
    "xnewm$response  <- predict(z.Final, newdata = xnewm , type=\"response\")\n",
    "lines(xnewm$response ~ xnewm$physhlth, col = \"red\")\n",
    "# income: 2\n",
    "xnewm  <- as.data.frame(physhlth)\n",
    "xnewm$marital  <- maritalstatus\n",
    "xnewm$sex  <- \"Female\"\n",
    "xnewm$income2  <- \"Less than $15,000\"\n",
    "xnewm$response  <- predict(z.Final, newdata = xnewm , type=\"response\")\n",
    "lines(xnewm$response ~ xnewm$physhlth, col = \"blue\")\n",
    "# income: 3\n",
    "xnewm  <- as.data.frame(physhlth)\n",
    "xnewm$marital  <- maritalstatus\n",
    "xnewm$sex  <- \"Female\"\n",
    "xnewm$income2  <- \"Less than $20,000\"\n",
    "xnewm$response  <- predict(z.Final, newdata = xnewm , type=\"response\")\n",
    "lines(xnewm$response ~ xnewm$physhlth, col = \"darkgreen\")\n",
    "# income: 4\n",
    "xnewm  <- as.data.frame(physhlth)\n",
    "xnewm$marital  <- maritalstatus\n",
    "xnewm$sex  <- \"Female\"\n",
    "xnewm$income2  <- \"Less than $25,000\"\n",
    "xnewm$response  <- predict(z.Final, newdata = xnewm , type=\"response\")\n",
    "lines(xnewm$response ~ xnewm$physhlth, col = \"brown1\")\n",
    "# income: 5\n",
    "xnewm  <- as.data.frame(physhlth)\n",
    "xnewm$marital  <- maritalstatus\n",
    "xnewm$sex  <- \"Female\"\n",
    "xnewm$income2  <- \"Less than $35,000\"\n",
    "xnewm$response  <- predict(z.Final, newdata = xnewm , type=\"response\")\n",
    "lines(xnewm$response ~ xnewm$physhlth, col = \"cyan\")\n",
    "# income: 6\n",
    "xnewm  <- as.data.frame(physhlth)\n",
    "xnewm$marital  <- maritalstatus\n",
    "xnewm$sex  <- \"Female\"\n",
    "xnewm$income2  <- \"Less than $50,000\"\n",
    "xnewm$response  <- predict(z.Final, newdata = xnewm , type=\"response\")\n",
    "lines(xnewm$response ~ xnewm$physhlth, col = \"cornsilk3\")\n",
    "# income: 7\n",
    "xnewm  <- as.data.frame(physhlth)\n",
    "xnewm$marital  <- maritalstatus\n",
    "xnewm$sex  <- \"Female\"\n",
    "xnewm$income2  <- \"Less than $75,000\"\n",
    "xnewm$response  <- predict(z.Final, newdata = xnewm , type=\"response\")\n",
    "lines(xnewm$response ~ xnewm$physhlth, col = \"burlywood\")\n",
    "# income: 8\n",
    "xnewm  <- as.data.frame(physhlth)\n",
    "xnewm$marital  <- maritalstatus\n",
    "xnewm$sex  <- \"Female\"\n",
    "xnewm$income2  <- \"$75,000 or more\"\n",
    "xnewm$response  <- predict(z.Final, newdata = xnewm , type=\"response\")\n",
    "lines(xnewm$response ~ xnewm$physhlth, col = \"darkorange\")\n",
    "\n",
    "# Sex: Male\n",
    "# income: 1\n",
    "xnewm  <- as.data.frame(physhlth)\n",
    "xnewm$marital  <- maritalstatus\n",
    "xnewm$sex  <- \"Male\"\n",
    "xnewm$income2  <- \"Less than $10,000\"\n",
    "xnewm$response  <- predict(z.Final, newdata = xnewm , type=\"response\")\n",
    "lines(xnewm$response ~ xnewm$physhlth, col = \"red\",lty = 2)\n",
    "# income: 2\n",
    "xnewm  <- as.data.frame(physhlth)\n",
    "xnewm$marital  <- maritalstatus\n",
    "xnewm$sex  <- \"Male\"\n",
    "xnewm$income2  <- \"Less than $15,000\"\n",
    "xnewm$response  <- predict(z.Final, newdata = xnewm , type=\"response\")\n",
    "lines(xnewm$response ~ xnewm$physhlth, col = \"blue\",lty = 2)\n",
    "# income: 3\n",
    "xnewm  <- as.data.frame(physhlth)\n",
    "xnewm$marital  <- maritalstatus\n",
    "xnewm$sex  <- \"Male\"\n",
    "xnewm$income2  <- \"Less than $20,000\"\n",
    "xnewm$response  <- predict(z.Final, newdata = xnewm , type=\"response\")\n",
    "lines(xnewm$response ~ xnewm$physhlth, col = \"darkgreen\",lty = 2)\n",
    "# income: 4\n",
    "xnewm  <- as.data.frame(physhlth)\n",
    "xnewm$marital  <- maritalstatus\n",
    "xnewm$sex  <- \"Male\"\n",
    "xnewm$income2  <- \"Less than $25,000\"\n",
    "xnewm$response  <- predict(z.Final, newdata = xnewm , type=\"response\")\n",
    "lines(xnewm$response ~ xnewm$physhlth, col = \"brown1\",lty = 2)\n",
    "# income: 5\n",
    "xnewm  <- as.data.frame(physhlth)\n",
    "xnewm$marital  <- maritalstatus\n",
    "xnewm$sex  <- \"Male\"\n",
    "xnewm$income2  <- \"Less than $35,000\"\n",
    "xnewm$response  <- predict(z.Final, newdata = xnewm , type=\"response\")\n",
    "lines(xnewm$response ~ xnewm$physhlth, col = \"cyan\",lty = 2)\n",
    "# income: 6\n",
    "xnewm  <- as.data.frame(physhlth)\n",
    "xnewm$marital  <- maritalstatus\n",
    "xnewm$sex  <- \"Male\"\n",
    "xnewm$income2  <- \"Less than $50,000\"\n",
    "xnewm$response  <- predict(z.Final, newdata = xnewm , type=\"response\")\n",
    "lines(xnewm$response ~ xnewm$physhlth, col = \"cornsilk3\",lty = 2)\n",
    "# income: 7\n",
    "xnewm  <- as.data.frame(physhlth)\n",
    "xnewm$marital  <- maritalstatus\n",
    "xnewm$sex  <- \"Male\"\n",
    "xnewm$income2  <- \"Less than $75,000\"\n",
    "xnewm$response  <- predict(z.Final, newdata = xnewm , type=\"response\")\n",
    "lines(xnewm$response ~ xnewm$physhlth, col = \"burlywood\",lty = 2)\n",
    "# income: 8\n",
    "xnewm  <- as.data.frame(physhlth)\n",
    "xnewm$marital  <- maritalstatus\n",
    "xnewm$sex  <- \"Male\"\n",
    "xnewm$income2  <- \"$75,000 or more\"\n",
    "xnewm$response  <- predict(z.Final, newdata = xnewm , type=\"response\")\n",
    "lines(xnewm$response ~ xnewm$physhlth, col = \"darkorange\",lty = 2)\n",
    "legend(\"topright\",legend= \"Female\",lty=1)\n",
    "legend(\"topleft\",legend= \"Male\",lty=2)}"
   ]
  },
  {
   "cell_type": "markdown",
   "metadata": {},
   "source": [
    "### Married Category plot - income levels presented with different colors from lower to higher income "
   ]
  },
  {
   "cell_type": "code",
   "execution_count": 47,
   "metadata": {
    "scrolled": false
   },
   "outputs": [
    {
     "data": {
      "image/png": "[encoded data removed]",
      "text/plain": [
       "Plot with title \"Married Category, different level of income\""
      ]
     },
     "metadata": {
      "image/png": {
       "height": 600,
       "width": 960
      }
     },
     "output_type": "display_data"
    }
   ],
   "source": [
    "# Marital Category: Married , We decided to mask data to show the lines better\n",
    "plot(mydata$alcday5 ~ mydata$physhlth,type = 'n' , xlim = c(0,30), ylim = c(0,1),xlab = \"Physical Health\",ylab = \"Probability of alcohol consumption\", main =\"Married Category, different level of income\")\n",
    "maritalstatus  <- \"Married\"\n",
    "makeplot(maritalstatus)"
   ]
  },
  {
   "cell_type": "markdown",
   "metadata": {},
   "source": [
    "### Divorced Category plot"
   ]
  },
  {
   "cell_type": "code",
   "execution_count": 21,
   "metadata": {},
   "outputs": [
    {
     "data": {
      "image/png": "[encoded data removed]",
      "text/plain": [
       "Plot with title \"Divorced Category, different level of income\""
      ]
     },
     "metadata": {
      "image/png": {
       "height": 600,
       "width": 960
      }
     },
     "output_type": "display_data"
    }
   ],
   "source": [
    "# Marital Category: Divorced\n",
    "plot(mydata$alcday5 ~ mydata$physhlth,type = 'n' , xlim = c(0,30), ylim = c(0,1),xlab = \"Physical Health\",ylab = \"Probability of alcohol consumption\", main =\"Divorced Category, different level of income\")\n",
    "maritalstatus  <- \"Divorced\"\n",
    "makeplot(maritalstatus)"
   ]
  },
  {
   "cell_type": "markdown",
   "metadata": {},
   "source": [
    "### Widowed Category plot"
   ]
  },
  {
   "cell_type": "code",
   "execution_count": 22,
   "metadata": {},
   "outputs": [
    {
     "data": {
      "image/png": "[encoded data removed]",
      "text/plain": [
       "Plot with title \"Widowed Category, different level of income\""
      ]
     },
     "metadata": {
      "image/png": {
       "height": 600,
       "width": 960
      }
     },
     "output_type": "display_data"
    }
   ],
   "source": [
    "# Marital Category: Widowed\n",
    "plot(mydata$alcday5 ~ mydata$physhlth,type = 'n' , xlim = c(0,30), ylim = c(0,1),xlab = \"Physical Health\",ylab = \"Probability of alcohol consumption\", main =\"Widowed Category, different level of income\")\n",
    "maritalstatus  <- \"Widowed\"\n",
    "makeplot(maritalstatus)"
   ]
  },
  {
   "cell_type": "markdown",
   "metadata": {},
   "source": [
    "### Separated Category plot"
   ]
  },
  {
   "cell_type": "code",
   "execution_count": 23,
   "metadata": {},
   "outputs": [
    {
     "data": {
      "image/png": "[encoded data removed]",
      "text/plain": [
       "Plot with title \"Separated Category, different level of income\""
      ]
     },
     "metadata": {
      "image/png": {
       "height": 600,
       "width": 960
      }
     },
     "output_type": "display_data"
    }
   ],
   "source": [
    "# Marital Category: Separated\n",
    "plot(mydata$alcday5 ~ mydata$physhlth,type = 'n' , xlim = c(0,30), ylim = c(0,1),xlab = \"Physical Health\",ylab = \"Probability of alcohol consumption\", main =\"Separated Category, different level of income\")\n",
    "maritalstatus  <- \"Separated\"\n",
    "makeplot(maritalstatus)"
   ]
  },
  {
   "cell_type": "markdown",
   "metadata": {},
   "source": [
    "### Never married Category plot"
   ]
  },
  {
   "cell_type": "code",
   "execution_count": 24,
   "metadata": {},
   "outputs": [
    {
     "data": {
      "image/png": "[encoded data removed]",
      "text/plain": [
       "Plot with title \"Never married Category, different level of income\""
      ]
     },
     "metadata": {
      "image/png": {
       "height": 600,
       "width": 960
      }
     },
     "output_type": "display_data"
    }
   ],
   "source": [
    "# Marital Category: Never married\n",
    "plot(mydata$alcday5 ~ mydata$physhlth,type = 'n' , xlim = c(0,30), ylim = c(0,1),xlab = \"Physical Health\",ylab = \"Probability of alcohol consumption\", main =\"Never married Category, different level of income\")\n",
    "maritalstatus  <- \"Never married\"\n",
    "makeplot(maritalstatus)"
   ]
  },
  {
   "cell_type": "markdown",
   "metadata": {},
   "source": [
    "### A member of an unmarried couple Category plot"
   ]
  },
  {
   "cell_type": "code",
   "execution_count": 26,
   "metadata": {},
   "outputs": [
    {
     "data": {
      "image/png": "[encoded data removed]",
      "text/plain": [
       "Plot with title \"A member of an unmarried couple Category, different level of income\""
      ]
     },
     "metadata": {
      "image/png": {
       "height": 600,
       "width": 960
      }
     },
     "output_type": "display_data"
    }
   ],
   "source": [
    "# Marital Category: A member of an unmarried couple\n",
    "plot(mydata$alcday5 ~ mydata$physhlth,type = 'n' , xlim = c(0,30), ylim = c(0,1),xlab = \"Physical Health\",ylab = \"Probability of alcohol consumption\", main =\"A member of an unmarried couple Category, different level of income\")\n",
    "maritalstatus  <- \"A member of an unmarried couple\"\n",
    "makeplot(maritalstatus)"
   ]
  },
  {
   "cell_type": "markdown",
   "metadata": {},
   "source": [
    "### What are the main results of your model? "
   ]
  },
  {
   "cell_type": "markdown",
   "metadata": {},
   "source": [
    "Having a model with three different categorical axplanatory variables and one quantitative variable makes it difficult to visualize the model fit in just one plot. We decided to have physical health, sex and income levels for every marital status in separated plot to show the differences in response values better. We also masked the data because there are many 0 and 1 and having them in the plot are not going to add value to the model fit visualization.\n",
    "From above plots, it is obvious that gender ( line for Female and dash-line foe Male) and every income levels have a significant differences whit each others. In general, males are expected to drink more than females and therefore in every single plot we see that the dash-line is located somewhere above the line with the same color. Higher income levels tend to drink more than lower income levels ( different color show the income level vertically from lower to higher).\n",
    "lines and dash lines are not parallel together and have slightly different slopes, because of the effect of intercept in logit link function. Interstingly, the slopes for females seem to have a bigger gap for the higher income levels which shows the reinforcement effect of interaction between sex and income levels. Females with higher income levels tend to drink more likely even within the right side of the plots ( gaps between dash-lines are increasing by the income levels).   \n",
    "The number of days with unhealthy physical situation has a negative association with the probablity of drinking once a month for all different martial situations. \n",
    "Even though we can not see the differences between marital category levels in just one plot, by comparing two plots together, it is obvious that marital situation also has a signifincat effect on the probability of drinking. For example, A member of an unmarried couple tends to more likely drink rather than a widowed.\n",
    "The plots confirm the interperation of model coefficients in the final model explanation cell.\n"
   ]
  },
  {
   "cell_type": "markdown",
   "metadata": {},
   "source": [
    "---\n",
    "## Do you have any concerns about the explanatory variables being related to each other? \n",
    "\n",
    "Show plots and/or do analyses to support your conclusions. If there are associations between explanatory variables, what effect could this have on your model?"
   ]
  },
  {
   "cell_type": "code",
   "execution_count": 504,
   "metadata": {},
   "outputs": [
    {
     "data": {
      "text/html": [
       "<table>\n",
       "<caption>A matrix: 4 × 4 of type dbl</caption>\n",
       "<thead>\n",
       "\t<tr><th></th><th scope=col>physhlth</th><th scope=col>menthlth</th><th scope=col>poorhlth</th><th scope=col>sleptim1</th></tr>\n",
       "</thead>\n",
       "<tbody>\n",
       "\t<tr><th scope=row>physhlth</th><td> 1.0000</td><td> 0.1734</td><td> 0.5854</td><td>-0.0410</td></tr>\n",
       "\t<tr><th scope=row>menthlth</th><td> 0.1734</td><td> 1.0000</td><td> 0.3245</td><td>-0.1285</td></tr>\n",
       "\t<tr><th scope=row>poorhlth</th><td> 0.5854</td><td> 0.3245</td><td> 1.0000</td><td>-0.0558</td></tr>\n",
       "\t<tr><th scope=row>sleptim1</th><td>-0.0410</td><td>-0.1285</td><td>-0.0558</td><td> 1.0000</td></tr>\n",
       "</tbody>\n",
       "</table>\n"
      ],
      "text/latex": [
       "A matrix: 4 × 4 of type dbl\n",
       "\\begin{tabular}{r|llll}\n",
       "  & physhlth & menthlth & poorhlth & sleptim1\\\\\n",
       "\\hline\n",
       "\tphyshlth &  1.0000 &  0.1734 &  0.5854 & -0.0410\\\\\n",
       "\tmenthlth &  0.1734 &  1.0000 &  0.3245 & -0.1285\\\\\n",
       "\tpoorhlth &  0.5854 &  0.3245 &  1.0000 & -0.0558\\\\\n",
       "\tsleptim1 & -0.0410 & -0.1285 & -0.0558 &  1.0000\\\\\n",
       "\\end{tabular}\n"
      ],
      "text/markdown": [
       "\n",
       "A matrix: 4 × 4 of type dbl\n",
       "\n",
       "| <!--/--> | physhlth | menthlth | poorhlth | sleptim1 |\n",
       "|---|---|---|---|---|\n",
       "| physhlth |  1.0000 |  0.1734 |  0.5854 | -0.0410 |\n",
       "| menthlth |  0.1734 |  1.0000 |  0.3245 | -0.1285 |\n",
       "| poorhlth |  0.5854 |  0.3245 |  1.0000 | -0.0558 |\n",
       "| sleptim1 | -0.0410 | -0.1285 | -0.0558 |  1.0000 |\n",
       "\n"
      ],
      "text/plain": [
       "         physhlth menthlth poorhlth sleptim1\n",
       "physhlth  1.0000   0.1734   0.5854  -0.0410 \n",
       "menthlth  0.1734   1.0000   0.3245  -0.1285 \n",
       "poorhlth  0.5854   0.3245   1.0000  -0.0558 \n",
       "sleptim1 -0.0410  -0.1285  -0.0558   1.0000 "
      ]
     },
     "metadata": {},
     "output_type": "display_data"
    }
   ],
   "source": [
    "mydata.corr <- mydata[c(1,2,3,4)] \n",
    "cor.matrix <- cor(mydata.corr, method=\"pearson\")\n",
    "round(cor.matrix, 4)"
   ]
  },
  {
   "cell_type": "markdown",
   "metadata": {},
   "source": [
    "We only use one quantitative variable, because the poor health is a combination of mental and physical health condition, we did not include poor health variable and only include the physical health condition in our final model, therefore there is no concern regarding the correlation of quantitative variables.\n",
    "For the categorical variables, we exclude the education from the final model because we assume there is a strong correlation between income and education so we decide to use income and exclude the education and eliminate the redundancy. If there were any correlation between explanaotry variables, then the multi-colliniarity effect would have happened. "
   ]
  },
  {
   "cell_type": "markdown",
   "metadata": {},
   "source": [
    "<div class=\"alert alert-block alert-info\"> \n",
    "    \n",
    "## Classification table \n",
    "\n",
    "Create a classification table (use potential cut-off values that you think makes sense for the data). (0.5 marks)  \n",
    "What cut-off value would you use to maximize the accuracy (% of correct predictions)? (0.25 marks)\n",
    "<div>"
   ]
  },
  {
   "cell_type": "code",
   "execution_count": 505,
   "metadata": {},
   "outputs": [
    {
     "data": {
      "text/html": [
       "0.5075"
      ],
      "text/latex": [
       "0.5075"
      ],
      "text/markdown": [
       "0.5075"
      ],
      "text/plain": [
       "[1] 0.5075"
      ]
     },
     "metadata": {},
     "output_type": "display_data"
    }
   ],
   "source": [
    "round(mean(fitted(z.null)),4)"
   ]
  },
  {
   "cell_type": "markdown",
   "metadata": {},
   "source": [
    "The estimated mean is 0.5075. This might be a natural cut-off point, where any predicted values below the sample mean would get a predicted value of 0, and any above would get a predicted value of 1.\n",
    "Depends on the objective of the prediction and trade-off between cost and benefit resulted from the output, we may decide on the best potential cut-off value. For the sudy purpose, the best potential cut-off point could be a maximum accuracy but for example for the marketing purpose it may be another cut-off value based on the marketing budget and cost-benefit analysis. "
   ]
  },
  {
   "cell_type": "code",
   "execution_count": 506,
   "metadata": {
    "scrolled": true
   },
   "outputs": [
    {
     "data": {
      "text/html": [
       "<table>\n",
       "<caption>A data.frame: 51 × 10</caption>\n",
       "<thead>\n",
       "\t<tr><th scope=col>prob.level</th><th scope=col>true.positive</th><th scope=col>true.negative</th><th scope=col>false.positive</th><th scope=col>false.negative</th><th scope=col>correct.percent</th><th scope=col>sensitivity</th><th scope=col>specificity</th><th scope=col>false.pos.rate</th><th scope=col>false.neg.rate</th></tr>\n",
       "\t<tr><th scope=col>&lt;dbl&gt;</th><th scope=col>&lt;dbl&gt;</th><th scope=col>&lt;dbl&gt;</th><th scope=col>&lt;dbl&gt;</th><th scope=col>&lt;dbl&gt;</th><th scope=col>&lt;dbl&gt;</th><th scope=col>&lt;dbl&gt;</th><th scope=col>&lt;dbl&gt;</th><th scope=col>&lt;dbl&gt;</th><th scope=col>&lt;dbl&gt;</th></tr>\n",
       "</thead>\n",
       "<tbody>\n",
       "\t<tr><td>0.00</td><td>99809</td><td>    0</td><td>96864</td><td>    0</td><td>50.74870</td><td>100.0000000</td><td>  0.000000</td><td>100.00000000</td><td>  0.0000000</td></tr>\n",
       "\t<tr><td>0.02</td><td>99809</td><td>    0</td><td>96864</td><td>    0</td><td>50.74870</td><td>100.0000000</td><td>  0.000000</td><td>100.00000000</td><td>  0.0000000</td></tr>\n",
       "\t<tr><td>0.04</td><td>99809</td><td>    0</td><td>96864</td><td>    0</td><td>50.74870</td><td>100.0000000</td><td>  0.000000</td><td>100.00000000</td><td>  0.0000000</td></tr>\n",
       "\t<tr><td>0.06</td><td>99809</td><td>    0</td><td>96864</td><td>    0</td><td>50.74870</td><td>100.0000000</td><td>  0.000000</td><td>100.00000000</td><td>  0.0000000</td></tr>\n",
       "\t<tr><td>0.08</td><td>99809</td><td>    0</td><td>96864</td><td>    0</td><td>50.74870</td><td>100.0000000</td><td>  0.000000</td><td>100.00000000</td><td>  0.0000000</td></tr>\n",
       "\t<tr><td>0.10</td><td>99809</td><td>    0</td><td>96864</td><td>    0</td><td>50.74870</td><td>100.0000000</td><td>  0.000000</td><td>100.00000000</td><td>  0.0000000</td></tr>\n",
       "\t<tr><td>0.12</td><td>99809</td><td>    0</td><td>96864</td><td>    0</td><td>50.74870</td><td>100.0000000</td><td>  0.000000</td><td>100.00000000</td><td>  0.0000000</td></tr>\n",
       "\t<tr><td>0.14</td><td>99569</td><td> 1546</td><td>95318</td><td>  240</td><td>51.41275</td><td> 99.7595407</td><td>  1.596052</td><td> 98.40394780</td><td>  0.2404593</td></tr>\n",
       "\t<tr><td>0.16</td><td>99367</td><td> 2769</td><td>94095</td><td>  442</td><td>51.93189</td><td> 99.5571542</td><td>  2.858647</td><td> 97.14135282</td><td>  0.4428458</td></tr>\n",
       "\t<tr><td>0.18</td><td>99184</td><td> 3676</td><td>93188</td><td>  625</td><td>52.30001</td><td> 99.3738040</td><td>  3.795012</td><td> 96.20498844</td><td>  0.6261960</td></tr>\n",
       "\t<tr><td>0.20</td><td>98318</td><td> 7502</td><td>89362</td><td> 1491</td><td>53.80505</td><td> 98.5061467</td><td>  7.744879</td><td> 92.25512058</td><td>  1.4938533</td></tr>\n",
       "\t<tr><td>0.22</td><td>97544</td><td>10156</td><td>86708</td><td> 2265</td><td>54.76095</td><td> 97.7306656</td><td> 10.484803</td><td> 89.51519656</td><td>  2.2693344</td></tr>\n",
       "\t<tr><td>0.24</td><td>96867</td><td>12503</td><td>84361</td><td> 2942</td><td>55.61007</td><td> 97.0523700</td><td> 12.907788</td><td> 87.09221176</td><td>  2.9476300</td></tr>\n",
       "\t<tr><td>0.26</td><td>96240</td><td>14815</td><td>82049</td><td> 3569</td><td>56.46683</td><td> 96.4241702</td><td> 15.294640</td><td> 84.70536009</td><td>  3.5758298</td></tr>\n",
       "\t<tr><td>0.28</td><td>94858</td><td>18662</td><td>78202</td><td> 4951</td><td>57.72018</td><td> 95.0395255</td><td> 19.266188</td><td> 80.73381236</td><td>  4.9604745</td></tr>\n",
       "\t<tr><td>0.30</td><td>93146</td><td>22859</td><td>74005</td><td> 6663</td><td>58.98369</td><td> 93.3242493</td><td> 23.599067</td><td> 76.40093327</td><td>  6.6757507</td></tr>\n",
       "\t<tr><td>0.32</td><td>91832</td><td>25989</td><td>70875</td><td> 7977</td><td>59.90705</td><td> 92.0077348</td><td> 26.830401</td><td> 73.16959861</td><td>  7.9922652</td></tr>\n",
       "\t<tr><td>0.34</td><td>89751</td><td>30259</td><td>66605</td><td>10058</td><td>61.02007</td><td> 89.9227525</td><td> 31.238644</td><td> 68.76135613</td><td> 10.0772475</td></tr>\n",
       "\t<tr><td>0.36</td><td>87920</td><td>33785</td><td>63079</td><td>11889</td><td>61.88191</td><td> 88.0882486</td><td> 34.878799</td><td> 65.12120086</td><td> 11.9117514</td></tr>\n",
       "\t<tr><td>0.38</td><td>85164</td><td>38390</td><td>58474</td><td>14645</td><td>62.82204</td><td> 85.3269745</td><td> 39.632887</td><td> 60.36711265</td><td> 14.6730255</td></tr>\n",
       "\t<tr><td>0.40</td><td>82627</td><td>42123</td><td>54741</td><td>17182</td><td>63.43016</td><td> 82.7851196</td><td> 43.486744</td><td> 56.51325570</td><td> 17.2148804</td></tr>\n",
       "\t<tr><td>0.42</td><td>80019</td><td>45740</td><td>51124</td><td>19790</td><td>63.94320</td><td> 80.1721288</td><td> 47.220846</td><td> 52.77915428</td><td> 19.8278712</td></tr>\n",
       "\t<tr><td>0.44</td><td>77367</td><td>49021</td><td>47843</td><td>22442</td><td>64.26302</td><td> 77.5150538</td><td> 50.608069</td><td> 49.39193095</td><td> 22.4849462</td></tr>\n",
       "\t<tr><td>0.46</td><td>75123</td><td>51869</td><td>44995</td><td>24686</td><td>64.57012</td><td> 75.2667595</td><td> 53.548274</td><td> 46.45172613</td><td> 24.7332405</td></tr>\n",
       "\t<tr><td>0.48</td><td>72045</td><td>55360</td><td>41504</td><td>27764</td><td>64.78012</td><td> 72.1828693</td><td> 57.152296</td><td> 42.84770400</td><td> 27.8171307</td></tr>\n",
       "\t<tr><td>0.50</td><td>68666</td><td>59014</td><td>37850</td><td>31143</td><td>64.91994</td><td> 68.7974030</td><td> 60.924595</td><td> 39.07540469</td><td> 31.2025970</td></tr>\n",
       "\t<tr><td>0.52</td><td>64208</td><td>63068</td><td>33796</td><td>35601</td><td>64.71453</td><td> 64.3308720</td><td> 65.109845</td><td> 34.89015527</td><td> 35.6691280</td></tr>\n",
       "\t<tr><td>0.54</td><td>61447</td><td>65790</td><td>31074</td><td>38362</td><td>64.69470</td><td> 61.5645884</td><td> 67.919970</td><td> 32.08002973</td><td> 38.4354116</td></tr>\n",
       "\t<tr><td>0.56</td><td>56140</td><td>70183</td><td>26681</td><td>43669</td><td>64.22997</td><td> 56.2474326</td><td> 72.455195</td><td> 27.54480509</td><td> 43.7525674</td></tr>\n",
       "\t<tr><td>0.58</td><td>51410</td><td>73816</td><td>23048</td><td>48399</td><td>63.67219</td><td> 51.5083810</td><td> 76.205814</td><td> 23.79418566</td><td> 48.4916190</td></tr>\n",
       "\t<tr><td>0.60</td><td>46892</td><td>76816</td><td>20048</td><td>52917</td><td>62.90035</td><td> 46.9817351</td><td> 79.302940</td><td> 20.69705980</td><td> 53.0182649</td></tr>\n",
       "\t<tr><td>0.62</td><td>44792</td><td>78197</td><td>18667</td><td>55017</td><td>62.53477</td><td> 44.8777164</td><td> 80.728650</td><td> 19.27134952</td><td> 55.1222836</td></tr>\n",
       "\t<tr><td>0.64</td><td>41164</td><td>80347</td><td>16517</td><td>58645</td><td>61.78326</td><td> 41.2427737</td><td> 82.948257</td><td> 17.05174265</td><td> 58.7572263</td></tr>\n",
       "\t<tr><td>0.66</td><td>35446</td><td>83369</td><td>13495</td><td>64363</td><td>60.41246</td><td> 35.5138314</td><td> 86.068095</td><td> 13.93190453</td><td> 64.4861686</td></tr>\n",
       "\t<tr><td>0.68</td><td>29307</td><td>86452</td><td>10412</td><td>70502</td><td>58.85861</td><td> 29.3630835</td><td> 89.250908</td><td> 10.74909151</td><td> 70.6369165</td></tr>\n",
       "\t<tr><td>0.70</td><td>19719</td><td>90419</td><td> 6445</td><td>80090</td><td>56.00057</td><td> 19.7567354</td><td> 93.346341</td><td>  6.65365874</td><td> 80.2432646</td></tr>\n",
       "\t<tr><td>0.72</td><td>17850</td><td>91182</td><td> 5682</td><td>81959</td><td>55.43821</td><td> 17.8841587</td><td> 94.134044</td><td>  5.86595639</td><td> 82.1158413</td></tr>\n",
       "\t<tr><td>0.74</td><td>14589</td><td>92350</td><td> 4514</td><td>85220</td><td>54.37401</td><td> 14.6169183</td><td> 95.339858</td><td>  4.66014205</td><td> 85.3830817</td></tr>\n",
       "\t<tr><td>0.76</td><td> 5693</td><td>95049</td><td> 1815</td><td>94116</td><td>51.22310</td><td>  5.7038944</td><td> 98.126239</td><td>  1.87376115</td><td> 94.2961056</td></tr>\n",
       "\t<tr><td>0.78</td><td> 4484</td><td>95501</td><td> 1363</td><td>95325</td><td>50.83819</td><td>  4.4925808</td><td> 98.592872</td><td>  1.40712752</td><td> 95.5074192</td></tr>\n",
       "\t<tr><td>0.80</td><td> 3363</td><td>95897</td><td>  967</td><td>96446</td><td>50.46956</td><td>  3.3694356</td><td> 99.001693</td><td>  0.99830690</td><td> 96.6305644</td></tr>\n",
       "\t<tr><td>0.82</td><td> 2055</td><td>96233</td><td>  631</td><td>97754</td><td>49.97534</td><td>  2.0589326</td><td> 99.348571</td><td>  0.65142881</td><td> 97.9410674</td></tr>\n",
       "\t<tr><td>0.84</td><td>  432</td><td>96792</td><td>   72</td><td>99377</td><td>49.43434</td><td>  0.4328267</td><td> 99.925669</td><td>  0.07433102</td><td> 99.5671733</td></tr>\n",
       "\t<tr><td>0.86</td><td>  332</td><td>96811</td><td>   53</td><td>99477</td><td>49.39316</td><td>  0.3326353</td><td> 99.945284</td><td>  0.05471589</td><td> 99.6673647</td></tr>\n",
       "\t<tr><td>0.88</td><td>    0</td><td>96864</td><td>    0</td><td>99809</td><td>49.25130</td><td>  0.0000000</td><td>100.000000</td><td>  0.00000000</td><td>100.0000000</td></tr>\n",
       "\t<tr><td>0.90</td><td>    0</td><td>96864</td><td>    0</td><td>99809</td><td>49.25130</td><td>  0.0000000</td><td>100.000000</td><td>  0.00000000</td><td>100.0000000</td></tr>\n",
       "\t<tr><td>0.92</td><td>    0</td><td>96864</td><td>    0</td><td>99809</td><td>49.25130</td><td>  0.0000000</td><td>100.000000</td><td>  0.00000000</td><td>100.0000000</td></tr>\n",
       "\t<tr><td>0.94</td><td>    0</td><td>96864</td><td>    0</td><td>99809</td><td>49.25130</td><td>  0.0000000</td><td>100.000000</td><td>  0.00000000</td><td>100.0000000</td></tr>\n",
       "\t<tr><td>0.96</td><td>    0</td><td>96864</td><td>    0</td><td>99809</td><td>49.25130</td><td>  0.0000000</td><td>100.000000</td><td>  0.00000000</td><td>100.0000000</td></tr>\n",
       "\t<tr><td>0.98</td><td>    0</td><td>96864</td><td>    0</td><td>99809</td><td>49.25130</td><td>  0.0000000</td><td>100.000000</td><td>  0.00000000</td><td>100.0000000</td></tr>\n",
       "\t<tr><td>1.00</td><td>    0</td><td>96864</td><td>    0</td><td>99809</td><td>49.25130</td><td>  0.0000000</td><td>100.000000</td><td>  0.00000000</td><td>100.0000000</td></tr>\n",
       "</tbody>\n",
       "</table>\n"
      ],
      "text/latex": [
       "A data.frame: 51 × 10\n",
       "\\begin{tabular}{llllllllll}\n",
       " prob.level & true.positive & true.negative & false.positive & false.negative & correct.percent & sensitivity & specificity & false.pos.rate & false.neg.rate\\\\\n",
       " <dbl> & <dbl> & <dbl> & <dbl> & <dbl> & <dbl> & <dbl> & <dbl> & <dbl> & <dbl>\\\\\n",
       "\\hline\n",
       "\t 0.00 & 99809 &     0 & 96864 &     0 & 50.74870 & 100.0000000 &   0.000000 & 100.00000000 &   0.0000000\\\\\n",
       "\t 0.02 & 99809 &     0 & 96864 &     0 & 50.74870 & 100.0000000 &   0.000000 & 100.00000000 &   0.0000000\\\\\n",
       "\t 0.04 & 99809 &     0 & 96864 &     0 & 50.74870 & 100.0000000 &   0.000000 & 100.00000000 &   0.0000000\\\\\n",
       "\t 0.06 & 99809 &     0 & 96864 &     0 & 50.74870 & 100.0000000 &   0.000000 & 100.00000000 &   0.0000000\\\\\n",
       "\t 0.08 & 99809 &     0 & 96864 &     0 & 50.74870 & 100.0000000 &   0.000000 & 100.00000000 &   0.0000000\\\\\n",
       "\t 0.10 & 99809 &     0 & 96864 &     0 & 50.74870 & 100.0000000 &   0.000000 & 100.00000000 &   0.0000000\\\\\n",
       "\t 0.12 & 99809 &     0 & 96864 &     0 & 50.74870 & 100.0000000 &   0.000000 & 100.00000000 &   0.0000000\\\\\n",
       "\t 0.14 & 99569 &  1546 & 95318 &   240 & 51.41275 &  99.7595407 &   1.596052 &  98.40394780 &   0.2404593\\\\\n",
       "\t 0.16 & 99367 &  2769 & 94095 &   442 & 51.93189 &  99.5571542 &   2.858647 &  97.14135282 &   0.4428458\\\\\n",
       "\t 0.18 & 99184 &  3676 & 93188 &   625 & 52.30001 &  99.3738040 &   3.795012 &  96.20498844 &   0.6261960\\\\\n",
       "\t 0.20 & 98318 &  7502 & 89362 &  1491 & 53.80505 &  98.5061467 &   7.744879 &  92.25512058 &   1.4938533\\\\\n",
       "\t 0.22 & 97544 & 10156 & 86708 &  2265 & 54.76095 &  97.7306656 &  10.484803 &  89.51519656 &   2.2693344\\\\\n",
       "\t 0.24 & 96867 & 12503 & 84361 &  2942 & 55.61007 &  97.0523700 &  12.907788 &  87.09221176 &   2.9476300\\\\\n",
       "\t 0.26 & 96240 & 14815 & 82049 &  3569 & 56.46683 &  96.4241702 &  15.294640 &  84.70536009 &   3.5758298\\\\\n",
       "\t 0.28 & 94858 & 18662 & 78202 &  4951 & 57.72018 &  95.0395255 &  19.266188 &  80.73381236 &   4.9604745\\\\\n",
       "\t 0.30 & 93146 & 22859 & 74005 &  6663 & 58.98369 &  93.3242493 &  23.599067 &  76.40093327 &   6.6757507\\\\\n",
       "\t 0.32 & 91832 & 25989 & 70875 &  7977 & 59.90705 &  92.0077348 &  26.830401 &  73.16959861 &   7.9922652\\\\\n",
       "\t 0.34 & 89751 & 30259 & 66605 & 10058 & 61.02007 &  89.9227525 &  31.238644 &  68.76135613 &  10.0772475\\\\\n",
       "\t 0.36 & 87920 & 33785 & 63079 & 11889 & 61.88191 &  88.0882486 &  34.878799 &  65.12120086 &  11.9117514\\\\\n",
       "\t 0.38 & 85164 & 38390 & 58474 & 14645 & 62.82204 &  85.3269745 &  39.632887 &  60.36711265 &  14.6730255\\\\\n",
       "\t 0.40 & 82627 & 42123 & 54741 & 17182 & 63.43016 &  82.7851196 &  43.486744 &  56.51325570 &  17.2148804\\\\\n",
       "\t 0.42 & 80019 & 45740 & 51124 & 19790 & 63.94320 &  80.1721288 &  47.220846 &  52.77915428 &  19.8278712\\\\\n",
       "\t 0.44 & 77367 & 49021 & 47843 & 22442 & 64.26302 &  77.5150538 &  50.608069 &  49.39193095 &  22.4849462\\\\\n",
       "\t 0.46 & 75123 & 51869 & 44995 & 24686 & 64.57012 &  75.2667595 &  53.548274 &  46.45172613 &  24.7332405\\\\\n",
       "\t 0.48 & 72045 & 55360 & 41504 & 27764 & 64.78012 &  72.1828693 &  57.152296 &  42.84770400 &  27.8171307\\\\\n",
       "\t 0.50 & 68666 & 59014 & 37850 & 31143 & 64.91994 &  68.7974030 &  60.924595 &  39.07540469 &  31.2025970\\\\\n",
       "\t 0.52 & 64208 & 63068 & 33796 & 35601 & 64.71453 &  64.3308720 &  65.109845 &  34.89015527 &  35.6691280\\\\\n",
       "\t 0.54 & 61447 & 65790 & 31074 & 38362 & 64.69470 &  61.5645884 &  67.919970 &  32.08002973 &  38.4354116\\\\\n",
       "\t 0.56 & 56140 & 70183 & 26681 & 43669 & 64.22997 &  56.2474326 &  72.455195 &  27.54480509 &  43.7525674\\\\\n",
       "\t 0.58 & 51410 & 73816 & 23048 & 48399 & 63.67219 &  51.5083810 &  76.205814 &  23.79418566 &  48.4916190\\\\\n",
       "\t 0.60 & 46892 & 76816 & 20048 & 52917 & 62.90035 &  46.9817351 &  79.302940 &  20.69705980 &  53.0182649\\\\\n",
       "\t 0.62 & 44792 & 78197 & 18667 & 55017 & 62.53477 &  44.8777164 &  80.728650 &  19.27134952 &  55.1222836\\\\\n",
       "\t 0.64 & 41164 & 80347 & 16517 & 58645 & 61.78326 &  41.2427737 &  82.948257 &  17.05174265 &  58.7572263\\\\\n",
       "\t 0.66 & 35446 & 83369 & 13495 & 64363 & 60.41246 &  35.5138314 &  86.068095 &  13.93190453 &  64.4861686\\\\\n",
       "\t 0.68 & 29307 & 86452 & 10412 & 70502 & 58.85861 &  29.3630835 &  89.250908 &  10.74909151 &  70.6369165\\\\\n",
       "\t 0.70 & 19719 & 90419 &  6445 & 80090 & 56.00057 &  19.7567354 &  93.346341 &   6.65365874 &  80.2432646\\\\\n",
       "\t 0.72 & 17850 & 91182 &  5682 & 81959 & 55.43821 &  17.8841587 &  94.134044 &   5.86595639 &  82.1158413\\\\\n",
       "\t 0.74 & 14589 & 92350 &  4514 & 85220 & 54.37401 &  14.6169183 &  95.339858 &   4.66014205 &  85.3830817\\\\\n",
       "\t 0.76 &  5693 & 95049 &  1815 & 94116 & 51.22310 &   5.7038944 &  98.126239 &   1.87376115 &  94.2961056\\\\\n",
       "\t 0.78 &  4484 & 95501 &  1363 & 95325 & 50.83819 &   4.4925808 &  98.592872 &   1.40712752 &  95.5074192\\\\\n",
       "\t 0.80 &  3363 & 95897 &   967 & 96446 & 50.46956 &   3.3694356 &  99.001693 &   0.99830690 &  96.6305644\\\\\n",
       "\t 0.82 &  2055 & 96233 &   631 & 97754 & 49.97534 &   2.0589326 &  99.348571 &   0.65142881 &  97.9410674\\\\\n",
       "\t 0.84 &   432 & 96792 &    72 & 99377 & 49.43434 &   0.4328267 &  99.925669 &   0.07433102 &  99.5671733\\\\\n",
       "\t 0.86 &   332 & 96811 &    53 & 99477 & 49.39316 &   0.3326353 &  99.945284 &   0.05471589 &  99.6673647\\\\\n",
       "\t 0.88 &     0 & 96864 &     0 & 99809 & 49.25130 &   0.0000000 & 100.000000 &   0.00000000 & 100.0000000\\\\\n",
       "\t 0.90 &     0 & 96864 &     0 & 99809 & 49.25130 &   0.0000000 & 100.000000 &   0.00000000 & 100.0000000\\\\\n",
       "\t 0.92 &     0 & 96864 &     0 & 99809 & 49.25130 &   0.0000000 & 100.000000 &   0.00000000 & 100.0000000\\\\\n",
       "\t 0.94 &     0 & 96864 &     0 & 99809 & 49.25130 &   0.0000000 & 100.000000 &   0.00000000 & 100.0000000\\\\\n",
       "\t 0.96 &     0 & 96864 &     0 & 99809 & 49.25130 &   0.0000000 & 100.000000 &   0.00000000 & 100.0000000\\\\\n",
       "\t 0.98 &     0 & 96864 &     0 & 99809 & 49.25130 &   0.0000000 & 100.000000 &   0.00000000 & 100.0000000\\\\\n",
       "\t 1.00 &     0 & 96864 &     0 & 99809 & 49.25130 &   0.0000000 & 100.000000 &   0.00000000 & 100.0000000\\\\\n",
       "\\end{tabular}\n"
      ],
      "text/markdown": [
       "\n",
       "A data.frame: 51 × 10\n",
       "\n",
       "| prob.level &lt;dbl&gt; | true.positive &lt;dbl&gt; | true.negative &lt;dbl&gt; | false.positive &lt;dbl&gt; | false.negative &lt;dbl&gt; | correct.percent &lt;dbl&gt; | sensitivity &lt;dbl&gt; | specificity &lt;dbl&gt; | false.pos.rate &lt;dbl&gt; | false.neg.rate &lt;dbl&gt; |\n",
       "|---|---|---|---|---|---|---|---|---|---|\n",
       "| 0.00 | 99809 |     0 | 96864 |     0 | 50.74870 | 100.0000000 |   0.000000 | 100.00000000 |   0.0000000 |\n",
       "| 0.02 | 99809 |     0 | 96864 |     0 | 50.74870 | 100.0000000 |   0.000000 | 100.00000000 |   0.0000000 |\n",
       "| 0.04 | 99809 |     0 | 96864 |     0 | 50.74870 | 100.0000000 |   0.000000 | 100.00000000 |   0.0000000 |\n",
       "| 0.06 | 99809 |     0 | 96864 |     0 | 50.74870 | 100.0000000 |   0.000000 | 100.00000000 |   0.0000000 |\n",
       "| 0.08 | 99809 |     0 | 96864 |     0 | 50.74870 | 100.0000000 |   0.000000 | 100.00000000 |   0.0000000 |\n",
       "| 0.10 | 99809 |     0 | 96864 |     0 | 50.74870 | 100.0000000 |   0.000000 | 100.00000000 |   0.0000000 |\n",
       "| 0.12 | 99809 |     0 | 96864 |     0 | 50.74870 | 100.0000000 |   0.000000 | 100.00000000 |   0.0000000 |\n",
       "| 0.14 | 99569 |  1546 | 95318 |   240 | 51.41275 |  99.7595407 |   1.596052 |  98.40394780 |   0.2404593 |\n",
       "| 0.16 | 99367 |  2769 | 94095 |   442 | 51.93189 |  99.5571542 |   2.858647 |  97.14135282 |   0.4428458 |\n",
       "| 0.18 | 99184 |  3676 | 93188 |   625 | 52.30001 |  99.3738040 |   3.795012 |  96.20498844 |   0.6261960 |\n",
       "| 0.20 | 98318 |  7502 | 89362 |  1491 | 53.80505 |  98.5061467 |   7.744879 |  92.25512058 |   1.4938533 |\n",
       "| 0.22 | 97544 | 10156 | 86708 |  2265 | 54.76095 |  97.7306656 |  10.484803 |  89.51519656 |   2.2693344 |\n",
       "| 0.24 | 96867 | 12503 | 84361 |  2942 | 55.61007 |  97.0523700 |  12.907788 |  87.09221176 |   2.9476300 |\n",
       "| 0.26 | 96240 | 14815 | 82049 |  3569 | 56.46683 |  96.4241702 |  15.294640 |  84.70536009 |   3.5758298 |\n",
       "| 0.28 | 94858 | 18662 | 78202 |  4951 | 57.72018 |  95.0395255 |  19.266188 |  80.73381236 |   4.9604745 |\n",
       "| 0.30 | 93146 | 22859 | 74005 |  6663 | 58.98369 |  93.3242493 |  23.599067 |  76.40093327 |   6.6757507 |\n",
       "| 0.32 | 91832 | 25989 | 70875 |  7977 | 59.90705 |  92.0077348 |  26.830401 |  73.16959861 |   7.9922652 |\n",
       "| 0.34 | 89751 | 30259 | 66605 | 10058 | 61.02007 |  89.9227525 |  31.238644 |  68.76135613 |  10.0772475 |\n",
       "| 0.36 | 87920 | 33785 | 63079 | 11889 | 61.88191 |  88.0882486 |  34.878799 |  65.12120086 |  11.9117514 |\n",
       "| 0.38 | 85164 | 38390 | 58474 | 14645 | 62.82204 |  85.3269745 |  39.632887 |  60.36711265 |  14.6730255 |\n",
       "| 0.40 | 82627 | 42123 | 54741 | 17182 | 63.43016 |  82.7851196 |  43.486744 |  56.51325570 |  17.2148804 |\n",
       "| 0.42 | 80019 | 45740 | 51124 | 19790 | 63.94320 |  80.1721288 |  47.220846 |  52.77915428 |  19.8278712 |\n",
       "| 0.44 | 77367 | 49021 | 47843 | 22442 | 64.26302 |  77.5150538 |  50.608069 |  49.39193095 |  22.4849462 |\n",
       "| 0.46 | 75123 | 51869 | 44995 | 24686 | 64.57012 |  75.2667595 |  53.548274 |  46.45172613 |  24.7332405 |\n",
       "| 0.48 | 72045 | 55360 | 41504 | 27764 | 64.78012 |  72.1828693 |  57.152296 |  42.84770400 |  27.8171307 |\n",
       "| 0.50 | 68666 | 59014 | 37850 | 31143 | 64.91994 |  68.7974030 |  60.924595 |  39.07540469 |  31.2025970 |\n",
       "| 0.52 | 64208 | 63068 | 33796 | 35601 | 64.71453 |  64.3308720 |  65.109845 |  34.89015527 |  35.6691280 |\n",
       "| 0.54 | 61447 | 65790 | 31074 | 38362 | 64.69470 |  61.5645884 |  67.919970 |  32.08002973 |  38.4354116 |\n",
       "| 0.56 | 56140 | 70183 | 26681 | 43669 | 64.22997 |  56.2474326 |  72.455195 |  27.54480509 |  43.7525674 |\n",
       "| 0.58 | 51410 | 73816 | 23048 | 48399 | 63.67219 |  51.5083810 |  76.205814 |  23.79418566 |  48.4916190 |\n",
       "| 0.60 | 46892 | 76816 | 20048 | 52917 | 62.90035 |  46.9817351 |  79.302940 |  20.69705980 |  53.0182649 |\n",
       "| 0.62 | 44792 | 78197 | 18667 | 55017 | 62.53477 |  44.8777164 |  80.728650 |  19.27134952 |  55.1222836 |\n",
       "| 0.64 | 41164 | 80347 | 16517 | 58645 | 61.78326 |  41.2427737 |  82.948257 |  17.05174265 |  58.7572263 |\n",
       "| 0.66 | 35446 | 83369 | 13495 | 64363 | 60.41246 |  35.5138314 |  86.068095 |  13.93190453 |  64.4861686 |\n",
       "| 0.68 | 29307 | 86452 | 10412 | 70502 | 58.85861 |  29.3630835 |  89.250908 |  10.74909151 |  70.6369165 |\n",
       "| 0.70 | 19719 | 90419 |  6445 | 80090 | 56.00057 |  19.7567354 |  93.346341 |   6.65365874 |  80.2432646 |\n",
       "| 0.72 | 17850 | 91182 |  5682 | 81959 | 55.43821 |  17.8841587 |  94.134044 |   5.86595639 |  82.1158413 |\n",
       "| 0.74 | 14589 | 92350 |  4514 | 85220 | 54.37401 |  14.6169183 |  95.339858 |   4.66014205 |  85.3830817 |\n",
       "| 0.76 |  5693 | 95049 |  1815 | 94116 | 51.22310 |   5.7038944 |  98.126239 |   1.87376115 |  94.2961056 |\n",
       "| 0.78 |  4484 | 95501 |  1363 | 95325 | 50.83819 |   4.4925808 |  98.592872 |   1.40712752 |  95.5074192 |\n",
       "| 0.80 |  3363 | 95897 |   967 | 96446 | 50.46956 |   3.3694356 |  99.001693 |   0.99830690 |  96.6305644 |\n",
       "| 0.82 |  2055 | 96233 |   631 | 97754 | 49.97534 |   2.0589326 |  99.348571 |   0.65142881 |  97.9410674 |\n",
       "| 0.84 |   432 | 96792 |    72 | 99377 | 49.43434 |   0.4328267 |  99.925669 |   0.07433102 |  99.5671733 |\n",
       "| 0.86 |   332 | 96811 |    53 | 99477 | 49.39316 |   0.3326353 |  99.945284 |   0.05471589 |  99.6673647 |\n",
       "| 0.88 |     0 | 96864 |     0 | 99809 | 49.25130 |   0.0000000 | 100.000000 |   0.00000000 | 100.0000000 |\n",
       "| 0.90 |     0 | 96864 |     0 | 99809 | 49.25130 |   0.0000000 | 100.000000 |   0.00000000 | 100.0000000 |\n",
       "| 0.92 |     0 | 96864 |     0 | 99809 | 49.25130 |   0.0000000 | 100.000000 |   0.00000000 | 100.0000000 |\n",
       "| 0.94 |     0 | 96864 |     0 | 99809 | 49.25130 |   0.0000000 | 100.000000 |   0.00000000 | 100.0000000 |\n",
       "| 0.96 |     0 | 96864 |     0 | 99809 | 49.25130 |   0.0000000 | 100.000000 |   0.00000000 | 100.0000000 |\n",
       "| 0.98 |     0 | 96864 |     0 | 99809 | 49.25130 |   0.0000000 | 100.000000 |   0.00000000 | 100.0000000 |\n",
       "| 1.00 |     0 | 96864 |     0 | 99809 | 49.25130 |   0.0000000 | 100.000000 |   0.00000000 | 100.0000000 |\n",
       "\n"
      ],
      "text/plain": [
       "   prob.level true.positive true.negative false.positive false.negative\n",
       "1  0.00       99809             0         96864              0         \n",
       "2  0.02       99809             0         96864              0         \n",
       "3  0.04       99809             0         96864              0         \n",
       "4  0.06       99809             0         96864              0         \n",
       "5  0.08       99809             0         96864              0         \n",
       "6  0.10       99809             0         96864              0         \n",
       "7  0.12       99809             0         96864              0         \n",
       "8  0.14       99569          1546         95318            240         \n",
       "9  0.16       99367          2769         94095            442         \n",
       "10 0.18       99184          3676         93188            625         \n",
       "11 0.20       98318          7502         89362           1491         \n",
       "12 0.22       97544         10156         86708           2265         \n",
       "13 0.24       96867         12503         84361           2942         \n",
       "14 0.26       96240         14815         82049           3569         \n",
       "15 0.28       94858         18662         78202           4951         \n",
       "16 0.30       93146         22859         74005           6663         \n",
       "17 0.32       91832         25989         70875           7977         \n",
       "18 0.34       89751         30259         66605          10058         \n",
       "19 0.36       87920         33785         63079          11889         \n",
       "20 0.38       85164         38390         58474          14645         \n",
       "21 0.40       82627         42123         54741          17182         \n",
       "22 0.42       80019         45740         51124          19790         \n",
       "23 0.44       77367         49021         47843          22442         \n",
       "24 0.46       75123         51869         44995          24686         \n",
       "25 0.48       72045         55360         41504          27764         \n",
       "26 0.50       68666         59014         37850          31143         \n",
       "27 0.52       64208         63068         33796          35601         \n",
       "28 0.54       61447         65790         31074          38362         \n",
       "29 0.56       56140         70183         26681          43669         \n",
       "30 0.58       51410         73816         23048          48399         \n",
       "31 0.60       46892         76816         20048          52917         \n",
       "32 0.62       44792         78197         18667          55017         \n",
       "33 0.64       41164         80347         16517          58645         \n",
       "34 0.66       35446         83369         13495          64363         \n",
       "35 0.68       29307         86452         10412          70502         \n",
       "36 0.70       19719         90419          6445          80090         \n",
       "37 0.72       17850         91182          5682          81959         \n",
       "38 0.74       14589         92350          4514          85220         \n",
       "39 0.76        5693         95049          1815          94116         \n",
       "40 0.78        4484         95501          1363          95325         \n",
       "41 0.80        3363         95897           967          96446         \n",
       "42 0.82        2055         96233           631          97754         \n",
       "43 0.84         432         96792            72          99377         \n",
       "44 0.86         332         96811            53          99477         \n",
       "45 0.88           0         96864             0          99809         \n",
       "46 0.90           0         96864             0          99809         \n",
       "47 0.92           0         96864             0          99809         \n",
       "48 0.94           0         96864             0          99809         \n",
       "49 0.96           0         96864             0          99809         \n",
       "50 0.98           0         96864             0          99809         \n",
       "51 1.00           0         96864             0          99809         \n",
       "   correct.percent sensitivity specificity false.pos.rate false.neg.rate\n",
       "1  50.74870        100.0000000   0.000000  100.00000000     0.0000000   \n",
       "2  50.74870        100.0000000   0.000000  100.00000000     0.0000000   \n",
       "3  50.74870        100.0000000   0.000000  100.00000000     0.0000000   \n",
       "4  50.74870        100.0000000   0.000000  100.00000000     0.0000000   \n",
       "5  50.74870        100.0000000   0.000000  100.00000000     0.0000000   \n",
       "6  50.74870        100.0000000   0.000000  100.00000000     0.0000000   \n",
       "7  50.74870        100.0000000   0.000000  100.00000000     0.0000000   \n",
       "8  51.41275         99.7595407   1.596052   98.40394780     0.2404593   \n",
       "9  51.93189         99.5571542   2.858647   97.14135282     0.4428458   \n",
       "10 52.30001         99.3738040   3.795012   96.20498844     0.6261960   \n",
       "11 53.80505         98.5061467   7.744879   92.25512058     1.4938533   \n",
       "12 54.76095         97.7306656  10.484803   89.51519656     2.2693344   \n",
       "13 55.61007         97.0523700  12.907788   87.09221176     2.9476300   \n",
       "14 56.46683         96.4241702  15.294640   84.70536009     3.5758298   \n",
       "15 57.72018         95.0395255  19.266188   80.73381236     4.9604745   \n",
       "16 58.98369         93.3242493  23.599067   76.40093327     6.6757507   \n",
       "17 59.90705         92.0077348  26.830401   73.16959861     7.9922652   \n",
       "18 61.02007         89.9227525  31.238644   68.76135613    10.0772475   \n",
       "19 61.88191         88.0882486  34.878799   65.12120086    11.9117514   \n",
       "20 62.82204         85.3269745  39.632887   60.36711265    14.6730255   \n",
       "21 63.43016         82.7851196  43.486744   56.51325570    17.2148804   \n",
       "22 63.94320         80.1721288  47.220846   52.77915428    19.8278712   \n",
       "23 64.26302         77.5150538  50.608069   49.39193095    22.4849462   \n",
       "24 64.57012         75.2667595  53.548274   46.45172613    24.7332405   \n",
       "25 64.78012         72.1828693  57.152296   42.84770400    27.8171307   \n",
       "26 64.91994         68.7974030  60.924595   39.07540469    31.2025970   \n",
       "27 64.71453         64.3308720  65.109845   34.89015527    35.6691280   \n",
       "28 64.69470         61.5645884  67.919970   32.08002973    38.4354116   \n",
       "29 64.22997         56.2474326  72.455195   27.54480509    43.7525674   \n",
       "30 63.67219         51.5083810  76.205814   23.79418566    48.4916190   \n",
       "31 62.90035         46.9817351  79.302940   20.69705980    53.0182649   \n",
       "32 62.53477         44.8777164  80.728650   19.27134952    55.1222836   \n",
       "33 61.78326         41.2427737  82.948257   17.05174265    58.7572263   \n",
       "34 60.41246         35.5138314  86.068095   13.93190453    64.4861686   \n",
       "35 58.85861         29.3630835  89.250908   10.74909151    70.6369165   \n",
       "36 56.00057         19.7567354  93.346341    6.65365874    80.2432646   \n",
       "37 55.43821         17.8841587  94.134044    5.86595639    82.1158413   \n",
       "38 54.37401         14.6169183  95.339858    4.66014205    85.3830817   \n",
       "39 51.22310          5.7038944  98.126239    1.87376115    94.2961056   \n",
       "40 50.83819          4.4925808  98.592872    1.40712752    95.5074192   \n",
       "41 50.46956          3.3694356  99.001693    0.99830690    96.6305644   \n",
       "42 49.97534          2.0589326  99.348571    0.65142881    97.9410674   \n",
       "43 49.43434          0.4328267  99.925669    0.07433102    99.5671733   \n",
       "44 49.39316          0.3326353  99.945284    0.05471589    99.6673647   \n",
       "45 49.25130          0.0000000 100.000000    0.00000000   100.0000000   \n",
       "46 49.25130          0.0000000 100.000000    0.00000000   100.0000000   \n",
       "47 49.25130          0.0000000 100.000000    0.00000000   100.0000000   \n",
       "48 49.25130          0.0000000 100.000000    0.00000000   100.0000000   \n",
       "49 49.25130          0.0000000 100.000000    0.00000000   100.0000000   \n",
       "50 49.25130          0.0000000 100.000000    0.00000000   100.0000000   \n",
       "51 49.25130          0.0000000 100.000000    0.00000000   100.0000000   "
      ]
     },
     "metadata": {},
     "output_type": "display_data"
    }
   ],
   "source": [
    "df <- data.frame(matrix(ncol = 9, nrow = 51))\n",
    "colnames(df) <- c(\"true.positive\", \"true.negative\", \"false.positive\", \"false.negative\", \"correct.percent\", \"sensitivity\", \"specificity\", \"false.pos.rate\", \"false.neg.rate\")\n",
    "#head(df)\n",
    "prob.level <- seq(0, 1, length.out=51) # create a vector with different possible probabilities\n",
    "#prob.level\n",
    "class.table.data <- cbind(prob.level, df) # combine your vector of probabilities and your empty dataframe\n",
    "#head(class.table.data)\n",
    "class.table.data$true.positive <- rep(c(0), c(51))\n",
    "class.table.data$true.negative <- rep(c(0), c(51))\n",
    "class.table.data$false.positive <- rep(c(0), c(51))\n",
    "class.table.data$false.negative <- rep(c(0), c(51))\n",
    "#head(class.table.data)\n",
    "for (i in 1:51) {\n",
    "  class.table <- table(mydata$alcday5 , fitted(z.Final) > class.table.data$prob.level[i])\n",
    "  \n",
    "  col.true.num <- grep(\"TRUE\", colnames(class.table))\n",
    "  col.false.num <- grep(\"FALSE\", colnames(class.table))\n",
    "  \n",
    "  if (length(col.true.num) > 0) {\n",
    "    class.table.data$false.positive [i] <- class.table[1, col.true.num]\n",
    "    class.table.data$true.positive [i] <- class.table[2, col.true.num] }\n",
    "  \n",
    "  if (length(col.false.num) > 0) {\n",
    "    class.table.data$true.negative [i] <- class.table[1, col.false.num]\n",
    "    class.table.data$false.negative [i] <- class.table[2, col.false.num] }  }\n",
    "\n",
    "#head(class.table.data)\n",
    "options(scipen=99)\n",
    "class.table.data$correct.percent <- (class.table.data$true.positive + class.table.data$true.negative)/nrow(mydata)*100\n",
    "class.table.data$sensitivity <- (class.table.data$true.positive)/sum(mydata$alcday5 )*100\n",
    "class.table.data$specificity <- (class.table.data$true.negative)/(nrow(mydata) - sum(mydata$alcday5 ))*100\n",
    "class.table.data$false.neg.rate <- (class.table.data$false.negative)/sum(mydata$alcday5 )*100\n",
    "class.table.data$false.pos.rate <- (class.table.data$false.positive)/(nrow(mydata) - sum(mydata$alcday5 ))*100\n",
    "class.table.data\n",
    "#nrow(mydata)\n"
   ]
  },
  {
   "cell_type": "code",
   "execution_count": 507,
   "metadata": {},
   "outputs": [
    {
     "data": {
      "text/html": [
       "0.5"
      ],
      "text/latex": [
       "0.5"
      ],
      "text/markdown": [
       "0.5"
      ],
      "text/plain": [
       "[1] 0.5"
      ]
     },
     "metadata": {},
     "output_type": "display_data"
    }
   ],
   "source": [
    "#What cut-off value would you use to maximize the accuracy (% of correct predictions)? \n",
    "class.table.data$prob.level[class.table.data$correct.percent == max(class.table.data$correct.percent)]"
   ]
  },
  {
   "cell_type": "markdown",
   "metadata": {},
   "source": [
    "<div class=\"alert alert-block alert-info\"> \n",
    "    \n",
    "## ROC curve + AUC \n",
    "\n",
    "Create the ROC curve.  \n",
    "Find the AUC (area under the curve) value.  \n",
    "Interpret these results - what do they tell you about your model? \n",
    "<div>"
   ]
  },
  {
   "cell_type": "code",
   "execution_count": 508,
   "metadata": {},
   "outputs": [
    {
     "data": {
      "image/png": "[encoded data removed]",
      "text/plain": [
       "plot without title"
      ]
     },
     "metadata": {
      "image/png": {
       "height": 600,
       "width": 960
      }
     },
     "output_type": "display_data"
    }
   ],
   "source": [
    "#class.table.data$specificity\n",
    "plot(class.table.data$sensitivity ~ class.table.data$false.pos.rate, data=class.table.data, ylab = \"Sensitivity\", xlab = \"1 - Specificity _ False Positive Rate\")\n",
    "lines(sensitivity ~ false.pos.rate, data=class.table.data)\n",
    "abline(0, 1)\n",
    "\n"
   ]
  },
  {
   "cell_type": "code",
   "execution_count": 509,
   "metadata": {},
   "outputs": [
    {
     "data": {
      "text/html": [
       "0.701152727632722"
      ],
      "text/latex": [
       "0.701152727632722"
      ],
      "text/markdown": [
       "0.701152727632722"
      ],
      "text/plain": [
       "[1] 0.7011527"
      ]
     },
     "metadata": {},
     "output_type": "display_data"
    }
   ],
   "source": [
    "library(zoo)\n",
    "\n",
    "x <- class.table.data$false.pos.rate/100\n",
    "y <- class.table.data$sensitivity/100\n",
    "id <- order(x)\n",
    "\n",
    "AUC <- sum(diff(x[id])*rollmean(y[id],2)); AUC"
   ]
  },
  {
   "cell_type": "markdown",
   "metadata": {},
   "source": [
    "### Interpret these results:\n",
    "Classification table says that if we choose the 0.5 as a cut-off value for our prediction model, the correct predication percent is almost 65% of prediction(model accuracy). From ROC curve, we can see the true positive(sensitivity) against false positive (1 - specificity) and then based on the trade-off consideration and cost-benefit analysis, choose the best cut-off rate regarding the prediction. \n",
    "AUC shows that how the model is good to distinguish the probability of drinking compare to no model( 50-50 or random predictor ).There is more than 70% chance that the Final model will be able to distinguish between possitive and negative class."
   ]
  },
  {
   "cell_type": "markdown",
   "metadata": {},
   "source": [
    "<div class=\"alert alert-block alert-danger\">\n",
    "<a id=\"Data_prep2\"></a>\n",
    "\n",
    "# Data preparation for Poisson regression \n",
    "</div>"
   ]
  },
  {
   "cell_type": "markdown",
   "metadata": {},
   "source": [
    "You will be creating a new dataset for the Poisson regression model. Remove all observations where individuals did not consume any alcohol in the past 30 days (encoded as 0 in the previous analysis). How many observations are in this new dataset?"
   ]
  },
  {
   "cell_type": "code",
   "execution_count": 9,
   "metadata": {},
   "outputs": [],
   "source": [
    "mydata1 = subset(mydata, mydata$alcday5!=0 )"
   ]
  },
  {
   "cell_type": "code",
   "execution_count": 28,
   "metadata": {},
   "outputs": [
    {
     "name": "stdout",
     "output_type": "stream",
     "text": [
      "'data.frame':\t99809 obs. of  10 variables:\n",
      " $ physhlth: int  3 2 10 5 0 3 3 4 0 23 ...\n",
      " $ menthlth: int  2 0 2 0 1 3 2 0 5 30 ...\n",
      " $ poorhlth: int  0 0 0 10 0 0 0 0 0 30 ...\n",
      " $ sleptim1: int  9 8 6 6 6 6 6 7 8 4 ...\n",
      " $ marital : Factor w/ 6 levels \"Married\",\"Divorced\",..: 1 1 1 3 1 1 1 1 1 2 ...\n",
      " $ educa   : Factor w/ 6 levels \"Never attended school or only kindergarten\",..: 6 4 6 5 6 4 5 5 6 4 ...\n",
      " $ income2 : Factor w/ 8 levels \"Less than $10,000\",..: 8 7 6 6 8 8 7 4 8 1 ...\n",
      " $ sex     : Factor w/ 2 levels \"Male\",\"Female\": 2 2 1 2 1 2 1 1 2 2 ...\n",
      " $ alcday5 : num  1 1 1 1 1 1 1 1 1 1 ...\n",
      " $ drnk3ge5: num  20 0 0 0 0 0 0 0 0 0 ...\n"
     ]
    }
   ],
   "source": [
    "str(mydata1)"
   ]
  },
  {
   "cell_type": "code",
   "execution_count": 10,
   "metadata": {},
   "outputs": [
    {
     "data": {
      "text/html": [
       "99809"
      ],
      "text/latex": [
       "99809"
      ],
      "text/markdown": [
       "99809"
      ],
      "text/plain": [
       "[1] 99809"
      ]
     },
     "metadata": {},
     "output_type": "display_data"
    }
   ],
   "source": [
    "nrow(mydata1)"
   ]
  },
  {
   "cell_type": "markdown",
   "metadata": {},
   "source": [
    "<div class=\"alert alert-block alert-warning\">\n",
    "<a id=\"EDA2\"></a>\n",
    "\n",
    "# Exploring the response variable \n",
    "    \n",
    "The focus of this analysis is to examine variables associated with consuming more than the recommended maximum of alcohol. The focus is only on individuals who have consumed at least one alcohol drink in the past 30 days (this helps remove excess 0's). The variable `drnk3ge5` will be used as the response variable.  \n",
    "<br>\n",
    "Do you think that the response variable follows a Poisson distribution? Provide specific evidence for your conclusions.\n",
    "</div>"
   ]
  },
  {
   "cell_type": "code",
   "execution_count": 31,
   "metadata": {
    "scrolled": false
   },
   "outputs": [
    {
     "data": {
      "image/png": "[encoded data removed]",
      "text/plain": [
       "Plot with title \"Histogram of mydata1$drnk3ge5\""
      ]
     },
     "metadata": {
      "image/png": {
       "height": 600,
       "width": 960
      }
     },
     "output_type": "display_data"
    },
    {
     "data": {
      "image/png": "[encoded data removed]",
      "text/plain": [
       "Plot with title \"Simulated Histogram\""
      ]
     },
     "metadata": {
      "image/png": {
       "height": 600,
       "width": 960
      }
     },
     "output_type": "display_data"
    }
   ],
   "source": [
    "# To check poisson distribution we plot histogram, check the distribution, match mean and variance,\n",
    "\n",
    "\n",
    "# Visualize the response variable\n",
    "#hist(mydata1$drnk3ge5)\n",
    "hist(mydata1$drnk3ge5, breaks=seq(0, 80, by=2))\n",
    "\n",
    "###Creating expected poisson distribution based on the similar mean and number of observations\n",
    "\n",
    "poisson.sim.data <- rpois(nrow(mydata1), mean(mydata1$drnk3ge5))\n",
    "hist(poisson.sim.data, breaks=seq(0, 15, by=0.5) , main = \"Simulated Histogram\")\n"
   ]
  },
  {
   "cell_type": "markdown",
   "metadata": {},
   "source": [
    "### Explanation:\n",
    "\n",
    " We believe that the response variable (consuming more than the recommended maximum of alcohol) does not follow a Poisson distribution. To conclude that, we plot a histogram to watch the frequency and then we plot the expected poisson distribution histogram based on the same mean and number of observation above. As it is obvious, the response variable does not follow the expected poisson distribution. There are many inflated zero (trancation) and the variances around the mean are much larger than expected. The response variable distribution is right skewed. Another way to confirm our conclusion is to perform Chi-square Goodness-of-fit test, but We are almost sure that there is no need to run this test based on the above polt result. We can also examine the standardized residual to see if they have a large an unusual deviation from expected z-score using 95% confidence level, too.\n",
    "At this stage, we should not be worried about the distribution, because we are going to add proper explanatory variables to fit an approperiate model for prediction of people who may consume more than recommended drink in a month.\n",
    "\n",
    "\n",
    "\n"
   ]
  },
  {
   "cell_type": "markdown",
   "metadata": {},
   "source": [
    "<div class=\"alert alert-block alert-warning\">\n",
    "<a id=\"EDA2\"></a>\n",
    "\n",
    "# Predictions and Exploratory Data Analysis for Poisson Regression \n",
    "\n",
    "Complete the following for each potential explanatory variable:  \n",
    "    \n",
    "A) What is your prediction for the relationship between the explanatory variable and the response variable?  (0.25 marks)\n",
    "\n",
    "B1) If quantitative, visualize the relationship using a scatterplot with a lowess line (0.25 marks). What relationship do you see on the plot?  (0.5 marks)\n",
    "\n",
    "B2)  If categorical, what is the mean number of days where individuals have consumed 5+ drinks for men or 4+ drinks for women for EACH category level (mean for the variable drnk3ge5 for each category level)? (0.25 marks) Are there differences that indicate that this could be a good explanatory variable to use? (0.5 marks)\n",
    "    \n",
    "</div>"
   ]
  },
  {
   "cell_type": "markdown",
   "metadata": {},
   "source": [
    "### 1. Physical health"
   ]
  },
  {
   "cell_type": "markdown",
   "metadata": {},
   "source": [
    "### A)\n",
    "People who have a longer bad physical health condition in a month may need to be treated by drug or hospitalized. They may have a limited access to consume alcohol drink resulted from higher autority or disease control procedures or be probited by their physicians. Therefore, we predict that there should be a kind of negative association between consumin more than enough drinks and the number of days with a bad physical health situation. Having many drinks may affect the pysical health recovery of these people. \n"
   ]
  },
  {
   "cell_type": "code",
   "execution_count": 27,
   "metadata": {},
   "outputs": [
    {
     "data": {
      "image/png": "[encoded data removed]",
      "text/plain": [
       "plot without title"
      ]
     },
     "metadata": {},
     "output_type": "display_data"
    }
   ],
   "source": [
    "plot(jitter(drnk3ge5, f = 0.5) ~ physhlth, data=mydata1, pch=16,ylab = \"Alcohol 5+ drink consumption \",xlab = \"Pyshical Health\")\n",
    "lines(lowess(mydata1$physhlth, mydata1$drnk3ge5), col = \"red\")"
   ]
  },
  {
   "cell_type": "markdown",
   "metadata": {},
   "source": [
    "### B1) \n",
    "The lowess line tends to be closed to the area with more observation response so it is not helpful in this plot. But plot shows that there more sparse area on the right side where the number of days of bad situation increases. We can conclude that people affected by longer days of physical health issues are less likely to drink  heavily alcoholic beverage ( more than recommended consumption or more than 5 dirnks daily) or a slightly negative association. This could be related to the fact that having more drinks could affect their recovery and may conflict with the effect of drugs they may use.\n",
    "\n"
   ]
  },
  {
   "cell_type": "markdown",
   "metadata": {},
   "source": [
    "### 2. Mental health"
   ]
  },
  {
   "cell_type": "markdown",
   "metadata": {},
   "source": [
    "### A)\n",
    "Mental issues may have a complex effects. on one hand, we expect to see people who have serious mental health issue, tend to heavily drink alcohol and more likely to drink more than 5 drinks because they may think that alcohol would help them to be relaxed or they may feel they need more drink. But on the other hand if the mental health issue is a continious problem for their every day life, then they may not  be able to drink or may be prohibited to drink for many reasons such as drug conflicts or autority mandate."
   ]
  },
  {
   "cell_type": "code",
   "execution_count": 26,
   "metadata": {},
   "outputs": [
    {
     "data": {
      "image/png": "[encoded data removed]",
      "text/plain": [
       "plot without title"
      ]
     },
     "metadata": {},
     "output_type": "display_data"
    }
   ],
   "source": [
    "plot(jitter(drnk3ge5, f = 0.5) ~ menthlth, data=mydata1, pch=16,ylab = \"Alcohol 5+ drink consumption \",xlab = \"Mental Health\")\n",
    "lines(lowess(mydata1$menthlth, mydata1$drnk3ge5), col = \"red\")"
   ]
  },
  {
   "cell_type": "markdown",
   "metadata": {},
   "source": [
    "### B1)\n",
    "Lowess line slightly shows that if the metal health is a issue for a few days, then the person tend  more likely to heavily drink but if the issue continues for a longer time period then there is a negative relationship between drinking and the number of days not being in a good mental health situation. In general, plot does not show a clear relationship."
   ]
  },
  {
   "cell_type": "markdown",
   "metadata": {},
   "source": [
    "### 3. Poor health"
   ]
  },
  {
   "cell_type": "markdown",
   "metadata": {},
   "source": [
    "##A)\n",
    "We predict that the poor health situation which is the combination of both phsyical and mental health issues, will follow the similar pattern of its underpinning routes and people with poor health condition tend to drink less by increasing the number of days they experience bad situations. As it would agrrigate their suffering. They may drink but not to much they are less likely to have 5 or more drinks many times in short span of time."
   ]
  },
  {
   "cell_type": "code",
   "execution_count": 31,
   "metadata": {},
   "outputs": [
    {
     "data": {
      "image/png": "[encoded data removed]",
      "text/plain": [
       "plot without title"
      ]
     },
     "metadata": {
      "image/png": {
       "height": 600,
       "width": 960
      }
     },
     "output_type": "display_data"
    }
   ],
   "source": [
    "plot(jitter(drnk3ge5, f = 0.5) ~ poorhlth, data=mydata1, pch=16,ylab = \"Alcohol 5+ drink consumption \",xlab = \"Poor Health\")\n",
    "lines(lowess(mydata1$poorhlth, mydata1$drnk3ge5), col = \"red\")"
   ]
  },
  {
   "cell_type": "markdown",
   "metadata": {},
   "source": [
    "### B1 )\n",
    "The lowess line shows slightly positive association for a few days and then a slightly negative  negative association between number of days having poor health issue and probabilty of drinking more than 5+ drinks. Although there is an association, as we predicted people will avoid too much drinking. There should be a concern if we include poor health and other health related variables in our model because there may probably have a redundant effect. The plot, in general shows more concentrated responses on the left hand comparing to the right hand while the number of days increases, more sparse observed on the right side."
   ]
  },
  {
   "cell_type": "markdown",
   "metadata": {},
   "source": [
    "### 4. Average amount of sleep"
   ]
  },
  {
   "cell_type": "markdown",
   "metadata": {},
   "source": [
    "### A)\n",
    "We predict that heavy consuming alcohol may probably result in more amount of sleep because alcohol may help people to better sleep. But people who sleep more than avergae 7 or 8 hours do not probably need to drink to much. In genral, people with amount of sleep less than average sleep hours are more likely to consume alcoholic and exceed 5+ drinks more comparing to lower amount of sleep hours or greater than average amount of sleep hours. \n"
   ]
  },
  {
   "cell_type": "code",
   "execution_count": 24,
   "metadata": {},
   "outputs": [
    {
     "data": {
      "image/png": "[encoded data removed]",
      "text/plain": [
       "plot without title"
      ]
     },
     "metadata": {},
     "output_type": "display_data"
    }
   ],
   "source": [
    "plot(jitter(drnk3ge5, f = 0.5) ~ sleptim1, data=mydata1, pch=16,ylab = \"Alcohol 5+ drink consumption \",xlab = \"Avg Sleeping Hours\")\n",
    "lines(lowess(mydata1$sleptim1, mydata1$drnk3ge5), col = \"red\")"
   ]
  },
  {
   "cell_type": "markdown",
   "metadata": {},
   "source": [
    "### B1 ) \n",
    "As we predicted, the plot corroborates that people with amount of sleep around the average 7, 8 hours  are more likely to consume alcohol and exceed 5+ drinks more days in a month. The plot shows more observed values around 6 to 9 hours of sleep. The lowess line is slightly reflecs the same result by slightly increase first and then declines after 10 hours.\n"
   ]
  },
  {
   "cell_type": "markdown",
   "metadata": {},
   "source": [
    "### 5. Marital status"
   ]
  },
  {
   "cell_type": "markdown",
   "metadata": {},
   "source": [
    "### A)\n",
    "We are going to see lots of variations as unmarried people would drink more comapared to married people. Widowed class significantly drinks less than never married or separated classes. Being alnoe may affect the drinking behaviours, too."
   ]
  },
  {
   "cell_type": "code",
   "execution_count": 23,
   "metadata": {},
   "outputs": [
    {
     "data": {
      "text/html": [
       "<dl class=dl-horizontal>\n",
       "\t<dt>Married</dt>\n",
       "\t\t<dd>0.902297078547753</dd>\n",
       "\t<dt>Divorced</dt>\n",
       "\t\t<dd>1.51400762856767</dd>\n",
       "\t<dt>Widowed</dt>\n",
       "\t\t<dd>0.779069767441861</dd>\n",
       "\t<dt>Separated</dt>\n",
       "\t\t<dd>1.71219319081552</dd>\n",
       "\t<dt>Never married</dt>\n",
       "\t\t<dd>1.92566352389776</dd>\n",
       "\t<dt>A member of an unmarried couple</dt>\n",
       "\t\t<dd>1.707763671875</dd>\n",
       "</dl>\n"
      ],
      "text/latex": [
       "\\begin{description*}\n",
       "\\item[Married] 0.902297078547753\n",
       "\\item[Divorced] 1.51400762856767\n",
       "\\item[Widowed] 0.779069767441861\n",
       "\\item[Separated] 1.71219319081552\n",
       "\\item[Never married] 1.92566352389776\n",
       "\\item[A member of an unmarried couple] 1.707763671875\n",
       "\\end{description*}\n"
      ],
      "text/markdown": [
       "Married\n",
       ":   0.902297078547753Divorced\n",
       ":   1.51400762856767Widowed\n",
       ":   0.779069767441861Separated\n",
       ":   1.71219319081552Never married\n",
       ":   1.92566352389776A member of an unmarried couple\n",
       ":   1.707763671875\n",
       "\n"
      ],
      "text/plain": [
       "                        Married                        Divorced \n",
       "                      0.9022971                       1.5140076 \n",
       "                        Widowed                       Separated \n",
       "                      0.7790698                       1.7121932 \n",
       "                  Never married A member of an unmarried couple \n",
       "                      1.9256635                       1.7077637 "
      ]
     },
     "metadata": {},
     "output_type": "display_data"
    }
   ],
   "source": [
    "tapply(mydata1$drnk3ge5, mydata1$marital, mean)\n"
   ]
  },
  {
   "cell_type": "markdown",
   "metadata": {},
   "source": [
    "### B2) \n",
    "As we predicted, there is lots of variation in the diffrent category levels and Hence this variables is a good predictor for our model because the difference seems to be significant. Also as predicted Divorced, seprated , unmarried are cosuming more likely 5+ drinks in a month comparing to married and separated calsses.\n",
    "\n"
   ]
  },
  {
   "cell_type": "markdown",
   "metadata": {},
   "source": [
    "### 6. Education"
   ]
  },
  {
   "cell_type": "markdown",
   "metadata": {},
   "source": [
    "### A) \n",
    "Higher education may bring better knowledge regarding the physical and mental health realted behaviours. Even though we saw that higher education in general may increase the chance of drinking, we predict that between people who drink, higher education level results in a healthier drinking behaviours as people may care more about their health condition. We expect to see higher educated groups to have a better self awarness.\n",
    "\n"
   ]
  },
  {
   "cell_type": "code",
   "execution_count": 22,
   "metadata": {},
   "outputs": [
    {
     "data": {
      "text/html": [
       "<dl class=dl-horizontal>\n",
       "\t<dt>Never attended school or only kindergarten</dt>\n",
       "\t\t<dd>1.52173913043478</dd>\n",
       "\t<dt>Grades 1 through 8 (Elementary)</dt>\n",
       "\t\t<dd>2.1191135734072</dd>\n",
       "\t<dt>Grades 9 though 11 (Some high school)</dt>\n",
       "\t\t<dd>2.22157027102543</dd>\n",
       "\t<dt>Grade 12 or GED (High school graduate)</dt>\n",
       "\t\t<dd>1.66356135214267</dd>\n",
       "\t<dt>College 1 year to 3 years (Some college or technical school)</dt>\n",
       "\t\t<dd>1.30796576240768</dd>\n",
       "\t<dt>College 4 years or more (College graduate)</dt>\n",
       "\t\t<dd>0.844671331880234</dd>\n",
       "</dl>\n"
      ],
      "text/latex": [
       "\\begin{description*}\n",
       "\\item[Never attended school or only kindergarten] 1.52173913043478\n",
       "\\item[Grades 1 through 8 (Elementary)] 2.1191135734072\n",
       "\\item[Grades 9 though 11 (Some high school)] 2.22157027102543\n",
       "\\item[Grade 12 or GED (High school graduate)] 1.66356135214267\n",
       "\\item[College 1 year to 3 years (Some college or technical school)] 1.30796576240768\n",
       "\\item[College 4 years or more (College graduate)] 0.844671331880234\n",
       "\\end{description*}\n"
      ],
      "text/markdown": [
       "Never attended school or only kindergarten\n",
       ":   1.52173913043478Grades 1 through 8 (Elementary)\n",
       ":   2.1191135734072Grades 9 though 11 (Some high school)\n",
       ":   2.22157027102543Grade 12 or GED (High school graduate)\n",
       ":   1.66356135214267College 1 year to 3 years (Some college or technical school)\n",
       ":   1.30796576240768College 4 years or more (College graduate)\n",
       ":   0.844671331880234\n",
       "\n"
      ],
      "text/plain": [
       "                  Never attended school or only kindergarten \n",
       "                                                   1.5217391 \n",
       "                             Grades 1 through 8 (Elementary) \n",
       "                                                   2.1191136 \n",
       "                       Grades 9 though 11 (Some high school) \n",
       "                                                   2.2215703 \n",
       "                      Grade 12 or GED (High school graduate) \n",
       "                                                   1.6635614 \n",
       "College 1 year to 3 years (Some college or technical school) \n",
       "                                                   1.3079658 \n",
       "                  College 4 years or more (College graduate) \n",
       "                                                   0.8446713 "
      ]
     },
     "metadata": {},
     "output_type": "display_data"
    }
   ],
   "source": [
    "tapply(mydata1$drnk3ge5, mydata1$educa, mean)\n"
   ]
  },
  {
   "cell_type": "markdown",
   "metadata": {},
   "source": [
    "### B2)\n",
    "The mean corroborated our prediction to see people with lesser education level are more likely to drink +5 alcoholic beverage. We can see that a college graduate with 4 years of edcuation have a smaller mean value of days of drinking 5+ comparing to the other category levels. Therefore, we can conclude that the education is a good indicator to predict response variable and could be a goold explanatory factor in our model. We need to be careful regarding the redundancy effect of the other variables though."
   ]
  },
  {
   "cell_type": "markdown",
   "metadata": {},
   "source": [
    "### 7. Income"
   ]
  },
  {
   "cell_type": "markdown",
   "metadata": {},
   "source": [
    "### A)\n",
    "It is obvious that income is an important parameter to predict heavy drinking behaviours because alcohol drinks are expensive and affordability is an important factor. On the other hand, people with higher income tend to be more cautious regarding their health and be more self awared. Many bad drinkning behaviours may result from socio-economic issues that is more likely an issue for lower income people. So we predict that unhealthy drinking behaviours are more seen in lower income calesses comparing to higher income levels. "
   ]
  },
  {
   "cell_type": "code",
   "execution_count": 20,
   "metadata": {},
   "outputs": [
    {
     "data": {
      "text/html": [
       "<dl class=dl-horizontal>\n",
       "\t<dt>Less than $10,000</dt>\n",
       "\t\t<dd>2.11823899371069</dd>\n",
       "\t<dt>Less than $15,000</dt>\n",
       "\t\t<dd>1.79153371623059</dd>\n",
       "\t<dt>Less than $20,000</dt>\n",
       "\t\t<dd>1.56963767008103</dd>\n",
       "\t<dt>Less than $25,000</dt>\n",
       "\t\t<dd>1.41837939995275</dd>\n",
       "\t<dt>Less than $35,000</dt>\n",
       "\t\t<dd>1.34271347065081</dd>\n",
       "\t<dt>Less than $50,000</dt>\n",
       "\t\t<dd>1.22702962150302</dd>\n",
       "\t<dt>Less than $75,000</dt>\n",
       "\t\t<dd>1.07426637885771</dd>\n",
       "\t<dt>$75,000 or more</dt>\n",
       "\t\t<dd>0.947933263189539</dd>\n",
       "</dl>\n"
      ],
      "text/latex": [
       "\\begin{description*}\n",
       "\\item[Less than \\textbackslash{}\\$10,000] 2.11823899371069\n",
       "\\item[Less than \\textbackslash{}\\$15,000] 1.79153371623059\n",
       "\\item[Less than \\textbackslash{}\\$20,000] 1.56963767008103\n",
       "\\item[Less than \\textbackslash{}\\$25,000] 1.41837939995275\n",
       "\\item[Less than \\textbackslash{}\\$35,000] 1.34271347065081\n",
       "\\item[Less than \\textbackslash{}\\$50,000] 1.22702962150302\n",
       "\\item[Less than \\textbackslash{}\\$75,000] 1.07426637885771\n",
       "\\item[\\textbackslash{}\\$75,000 or more] 0.947933263189539\n",
       "\\end{description*}\n"
      ],
      "text/markdown": [
       "Less than $10,000\n",
       ":   2.11823899371069Less than $15,000\n",
       ":   1.79153371623059Less than $20,000\n",
       ":   1.56963767008103Less than $25,000\n",
       ":   1.41837939995275Less than $35,000\n",
       ":   1.34271347065081Less than $50,000\n",
       ":   1.22702962150302Less than $75,000\n",
       ":   1.07426637885771$75,000 or more\n",
       ":   0.947933263189539\n",
       "\n"
      ],
      "text/plain": [
       "Less than $10,000 Less than $15,000 Less than $20,000 Less than $25,000 \n",
       "        2.1182390         1.7915337         1.5696377         1.4183794 \n",
       "Less than $35,000 Less than $50,000 Less than $75,000   $75,000 or more \n",
       "        1.3427135         1.2270296         1.0742664         0.9479333 "
      ]
     },
     "metadata": {},
     "output_type": "display_data"
    }
   ],
   "source": [
    "tapply(mydata1$drnk3ge5, mydata1$income2, mean)\n"
   ]
  },
  {
   "cell_type": "markdown",
   "metadata": {},
   "source": [
    "### B2 ) \n",
    "we were right in our prediction to see lower income groups are consuming 5+ drinks in avergae more than higher income groups. There are significant difference among the average days of heavy drinking in income category and therefore this variable is a good indicator for the prediction model and could be a potential explanatory factor. We should be careful regarding the redundancy effect with the education variable. \n",
    "\n"
   ]
  },
  {
   "cell_type": "markdown",
   "metadata": {},
   "source": [
    "### 8. Sex/gender"
   ]
  },
  {
   "cell_type": "markdown",
   "metadata": {},
   "source": [
    "### A )\n",
    "In general it seems that males tend to have a worse drinking behaviours than femals. We predict males are more likely to consume alcohol and have 5+ drinks more often compared to females. "
   ]
  },
  {
   "cell_type": "code",
   "execution_count": 21,
   "metadata": {},
   "outputs": [
    {
     "data": {
      "text/html": [
       "<dl class=dl-horizontal>\n",
       "\t<dt>Male</dt>\n",
       "\t\t<dd>1.80183321019579</dd>\n",
       "\t<dt>Female</dt>\n",
       "\t\t<dd>0.787422341009257</dd>\n",
       "</dl>\n"
      ],
      "text/latex": [
       "\\begin{description*}\n",
       "\\item[Male] 1.80183321019579\n",
       "\\item[Female] 0.787422341009257\n",
       "\\end{description*}\n"
      ],
      "text/markdown": [
       "Male\n",
       ":   1.80183321019579Female\n",
       ":   0.787422341009257\n",
       "\n"
      ],
      "text/plain": [
       "     Male    Female \n",
       "1.8018332 0.7874223 "
      ]
     },
     "metadata": {},
     "output_type": "display_data"
    }
   ],
   "source": [
    "tapply(mydata1$drnk3ge5, mydata1$sex, mean)\n"
   ]
  },
  {
   "cell_type": "markdown",
   "metadata": {},
   "source": [
    "### B2)\n",
    "Based on the average number of days with a bad drinking behaviours, males tend to heavily drink 2,5 times more than females. Therefore, This categorical variable is a good indicator of response variable and there is a significant difference between to levels."
   ]
  },
  {
   "cell_type": "markdown",
   "metadata": {},
   "source": [
    "<div class=\"alert alert-block alert-success\">\n",
    "<a id=\"Poisson\"></a>\n",
    "    \n",
    "# Poisson Regression model\n",
    "    \n",
    "Build a Poisson regression model using **at most 4 explanatory variables (where at least one is a categorical variable)**. You can try alternate models and compare models using AIC. Remember to include interactions when appropriate. Show the results below for your final model. Include any other models you tried in **Appendix B**.\n",
    "    \n",
    "</div>    "
   ]
  },
  {
   "cell_type": "markdown",
   "metadata": {},
   "source": [
    "### Fit your final model ("
   ]
  },
  {
   "cell_type": "code",
   "execution_count": 12,
   "metadata": {
    "scrolled": true
   },
   "outputs": [
    {
     "data": {
      "text/plain": [
       "\n",
       "Call:\n",
       "glm(formula = drnk3ge5 ~ sex + educa + poorhlth + marital, family = poisson(link = \"log\"), \n",
       "    data = mydata1)\n",
       "\n",
       "Deviance Residuals: \n",
       "    Min       1Q   Median       3Q      Max  \n",
       "-3.2111  -1.5591  -1.1785  -0.5342  14.1774  \n",
       "\n",
       "Coefficients:\n",
       "                                                                    Estimate\n",
       "(Intercept)                                                        0.3212584\n",
       "sexFemale                                                         -0.7548004\n",
       "educaGrades 1 through 8 (Elementary)                               0.2843183\n",
       "educaGrades 9 though 11 (Some high school)                         0.3359758\n",
       "educaGrade 12 or GED (High school graduate)                        0.1692840\n",
       "educaCollege 1 year to 3 years (Some college or technical school) -0.0169677\n",
       "educaCollege 4 years or more (College graduate)                   -0.3904491\n",
       "poorhlth                                                           0.0104640\n",
       "maritalDivorced                                                    0.4593221\n",
       "maritalWidowed                                                    -0.1116935\n",
       "maritalSeparated                                                   0.5254578\n",
       "maritalNever married                                               0.6689424\n",
       "maritalA member of an unmarried couple                             0.5923146\n",
       "                                                                  Std. Error\n",
       "(Intercept)                                                        0.1196094\n",
       "sexFemale                                                          0.0060182\n",
       "educaGrades 1 through 8 (Elementary)                               0.1213494\n",
       "educaGrades 9 though 11 (Some high school)                         0.1200613\n",
       "educaGrade 12 or GED (High school graduate)                        0.1196450\n",
       "educaCollege 1 year to 3 years (Some college or technical school)  0.1196445\n",
       "educaCollege 4 years or more (College graduate)                    0.1196491\n",
       "poorhlth                                                           0.0003286\n",
       "maritalDivorced                                                    0.0081350\n",
       "maritalWidowed                                                     0.0137932\n",
       "maritalSeparated                                                   0.0159979\n",
       "maritalNever married                                               0.0070796\n",
       "maritalA member of an unmarried couple                             0.0128401\n",
       "                                                                   z value\n",
       "(Intercept)                                                          2.686\n",
       "sexFemale                                                         -125.420\n",
       "educaGrades 1 through 8 (Elementary)                                 2.343\n",
       "educaGrades 9 though 11 (Some high school)                           2.798\n",
       "educaGrade 12 or GED (High school graduate)                          1.415\n",
       "educaCollege 1 year to 3 years (Some college or technical school)   -0.142\n",
       "educaCollege 4 years or more (College graduate)                     -3.263\n",
       "poorhlth                                                            31.846\n",
       "maritalDivorced                                                     56.462\n",
       "maritalWidowed                                                      -8.098\n",
       "maritalSeparated                                                    32.845\n",
       "maritalNever married                                                94.489\n",
       "maritalA member of an unmarried couple                              46.130\n",
       "                                                                  Pr(>|z|)    \n",
       "(Intercept)                                                        0.00723 ** \n",
       "sexFemale                                                          < 2e-16 ***\n",
       "educaGrades 1 through 8 (Elementary)                               0.01913 *  \n",
       "educaGrades 9 though 11 (Some high school)                         0.00514 ** \n",
       "educaGrade 12 or GED (High school graduate)                        0.15710    \n",
       "educaCollege 1 year to 3 years (Some college or technical school)  0.88722    \n",
       "educaCollege 4 years or more (College graduate)                    0.00110 ** \n",
       "poorhlth                                                           < 2e-16 ***\n",
       "maritalDivorced                                                    < 2e-16 ***\n",
       "maritalWidowed                                                     5.6e-16 ***\n",
       "maritalSeparated                                                   < 2e-16 ***\n",
       "maritalNever married                                               < 2e-16 ***\n",
       "maritalA member of an unmarried couple                             < 2e-16 ***\n",
       "---\n",
       "Signif. codes:  0 '***' 0.001 '**' 0.01 '*' 0.05 '.' 0.1 ' ' 1\n",
       "\n",
       "(Dispersion parameter for poisson family taken to be 1)\n",
       "\n",
       "    Null deviance: 454219  on 99808  degrees of freedom\n",
       "Residual deviance: 411422  on 99796  degrees of freedom\n",
       "AIC: 492107\n",
       "\n",
       "Number of Fisher Scoring iterations: 7\n"
      ]
     },
     "metadata": {},
     "output_type": "display_data"
    }
   ],
   "source": [
    "# Fit your final model here.\n",
    "# Use summary to get model co-efficients and other useful output.\n",
    "\n",
    "\n",
    "# Model B: Education, Poor health, Sex , Marital\n",
    "p.B = glm(drnk3ge5 ~ sex + educa + poorhlth + marital, data=mydata1, family=\"poisson\"(link=\"log\"))\n",
    "\n",
    "\n",
    "# Use summary to get model co-efficients and other useful output.\n",
    "summary(p.B)\n",
    "\n"
   ]
  },
  {
   "cell_type": "markdown",
   "metadata": {},
   "source": [
    "### Write the equation of your model, replacing the co-efficients with the numbers from the output of the summary command. Show the link function and describe how any categorical variables are encoded. "
   ]
  },
  {
   "cell_type": "markdown",
   "metadata": {},
   "source": [
    "Log(drnk3ge5) = 0.3212584 - 0.7548004 * sexFemale + 0.2843183 * (educaGrades 1 through 8 Elementary) + 0.3359758 * educaGrades 9 though 11 (Some high school) + 0.1692840 * educaGrade 12 or GED (High school graduate) - 0.0169677 * educaCollege 1 year to 3 years - 0.3904491 * educaCollege 4 years or more + 0.0104640 * poorhlth + 0.4593221 * maritalDivorced - 0.1116935 * maritalWidowed + 0.5254578 * maritalSeparated + 0.6689424 * maritalNever married + 0.5923146 * maritalA member of an unmarried couple\n",
    "### Link function : log\n",
    "For example for Male who did not attend the school and he is married, the equation would be:\n",
    "\n",
    "Log(drnk3ge5) = 0.3212584 + 0.0104640 * poorhlth\n",
    "For the female who is separated and have 4+ yrs of college education:\n",
    "\n",
    "Log(drnk3ge5) = 0.3212584 + 0.0104640 * poorhlth - 0.7548004 - 0.3904491 = - 0.8239911 + 0.0104640 * poorhlth\n",
    "\n",
    "Categorical variables will adjust the intercept in log unit for its category level comparing to the reference category. For example, reference level for gender is male, for education is \"never attend school\" group and for marital status is married group. Then for every change in category level comparing to the above reference levels, we will see the intercept adjustment.\n",
    "We do not have any interaction so there is no slope adjustment.\n",
    "Even though the coefficient for two of the education levels are not significant, we keep them in the model because the AIC is more than 10 units lower than the model when we combined (collapsed) those levels and reference level into the one level."
   ]
  },
  {
   "cell_type": "markdown",
   "metadata": {},
   "source": [
    "### What is the value for residual deviance/df? What does this indicate for the model?"
   ]
  },
  {
   "cell_type": "code",
   "execution_count": 13,
   "metadata": {},
   "outputs": [
    {
     "data": {
      "text/html": [
       "4.1226301655377"
      ],
      "text/latex": [
       "4.1226301655377"
      ],
      "text/markdown": [
       "4.1226301655377"
      ],
      "text/plain": [
       "[1] 4.12263"
      ]
     },
     "metadata": {},
     "output_type": "display_data"
    }
   ],
   "source": [
    "411422/99796\n",
    "\n",
    "#the residual deviance shows that we have overdispersion. It may result from the zero inflated observations (truncation) "
   ]
  },
  {
   "cell_type": "markdown",
   "metadata": {},
   "source": [
    "### Create plots to visualize the model fit"
   ]
  },
  {
   "cell_type": "code",
   "execution_count": 41,
   "metadata": {},
   "outputs": [],
   "source": [
    "# plot function\n",
    "makeplotp  <- function(maritalstatus){\n",
    "# Sex: Female\n",
    "# EDUCATION: 1\n",
    "poorhlth <- seq(min(mydata1$poorhlth), max(mydata1$poorhlth), length.out = 50)\n",
    "xnewe  <- as.data.frame(poorhlth)\n",
    "xnewe$marital  <- maritalstatus\n",
    "xnewe$sex  <- \"Female\"\n",
    "xnewe$educa  <- \"Never attended school or only kindergarten\"\n",
    "xnewe$response  <- predict(p.B, newdata = xnewe , type=\"response\")\n",
    "lines(xnewe$response ~ xnewe$poorhlth, col = \"black\")\n",
    "    \n",
    "# EDUCATION: 2\n",
    "poorhlth <- seq(min(mydata1$poorhlth), max(mydata1$poorhlth), length.out = 50)\n",
    "xnewe  <- as.data.frame(poorhlth)\n",
    "xnewe$marital  <- maritalstatus\n",
    "xnewe$sex  <- \"Female\"\n",
    "xnewe$educa  <- \"Grades 1 through 8 (Elementary)\"\n",
    "xnewe$response  <- predict(p.B, newdata = xnewe , type=\"response\")\n",
    "lines(xnewe$response ~ xnewe$poorhlth, col = \"red\")\n",
    "\n",
    "# EDUCATION: 3\n",
    "xnewe  <- as.data.frame(poorhlth)\n",
    "xnewe$marital  <- maritalstatus\n",
    "xnewe$sex  <- \"Female\"\n",
    "xnewe$educa  <- \"Grades 9 though 11 (Some high school)\"\n",
    "xnewe$response  <- predict(p.B, newdata = xnewe , type=\"response\")\n",
    "lines(xnewe$response ~ xnewe$poorhlth, col = \"blue\")\n",
    "\n",
    "# EDUCATION: 4\n",
    "xnewe  <- as.data.frame(poorhlth)\n",
    "xnewe$marital  <- maritalstatus\n",
    "xnewe$sex  <- \"Female\"\n",
    "xnewe$educa  <- \"Grade 12 or GED (High school graduate)\"\n",
    "xnewe$response  <- predict(p.B, newdata = xnewe , type=\"response\")\n",
    "lines(xnewe$response ~ xnewe$poorhlth, col = \"darkgreen\")\n",
    "\n",
    "# EDUCATION: 5\n",
    "xnewe  <- as.data.frame(poorhlth)\n",
    "xnewe$marital  <- maritalstatus\n",
    "xnewe$sex  <- \"Female\"\n",
    "xnewe$educa  <- \"College 1 year to 3 years (Some college or technical school)\"\n",
    "xnewe$response  <- predict(p.B, newdata = xnewe , type=\"response\")\n",
    "lines(xnewe$response ~ xnewe$poorhlth, col = \"brown1\")\n",
    "\n",
    "# EDUCATION: 6\n",
    "xnewe  <- as.data.frame(poorhlth)\n",
    "xnewe$marital  <- maritalstatus\n",
    "xnewe$sex  <- \"Female\"\n",
    "xnewe$educa  <- \"College 4 years or more (College graduate)\"\n",
    "xnewe$response  <- predict(p.B, newdata = xnewe , type=\"response\")\n",
    "lines(xnewe$response ~ xnewe$poorhlth, col = \"cyan\")\n",
    "\n",
    "\n",
    "# EDUCATION: 1\n",
    "poorhlth <- seq(min(mydata1$poorhlth), max(mydata1$poorhlth), length.out = 50)\n",
    "xnewe  <- as.data.frame(poorhlth)\n",
    "xnewe$marital  <- maritalstatus\n",
    "xnewe$sex  <- \"Male\"\n",
    "xnewe$educa  <- \"Never attended school or only kindergarten\"\n",
    "xnewe$response  <- predict(p.B, newdata = xnewe , type=\"response\")\n",
    "lines(xnewe$response ~ xnewe$poorhlth, col = \"black\", lty = 2)\n",
    "\n",
    "# EDUCATION: 2\n",
    "poorhlth <- seq(min(mydata1$poorhlth), max(mydata1$poorhlth), length.out = 50)\n",
    "xnewe  <- as.data.frame(poorhlth)\n",
    "xnewe$marital  <- maritalstatus\n",
    "xnewe$sex  <- \"Male\"\n",
    "xnewe$educa  <- \"Grades 1 through 8 (Elementary)\"\n",
    "xnewe$response  <- predict(p.B, newdata = xnewe , type=\"response\")\n",
    "lines(xnewe$response ~ xnewe$poorhlth, col = \"red\")\n",
    "    \n",
    "# EDUCATION: 3\n",
    "xnewe  <- as.data.frame(poorhlth)\n",
    "xnewe$marital  <- maritalstatus\n",
    "xnewe$sex  <- \"Male\"\n",
    "xnewe$educa  <- \"Grades 9 though 11 (Some high school)\"\n",
    "xnewe$response  <- predict(p.B, newdata = xnewe , type=\"response\")\n",
    "lines(xnewe$response ~ xnewe$poorhlth, col = \"blue\", lty = 2)\n",
    "\n",
    "\n",
    "\n",
    "# EDUCATION: 4\n",
    "xnewe  <- as.data.frame(poorhlth)\n",
    "xnewe$marital  <- maritalstatus\n",
    "xnewe$sex  <- \"Male\"\n",
    "xnewe$educa  <- \"Grade 12 or GED (High school graduate)\"\n",
    "xnewe$response  <- predict(p.B, newdata = xnewe , type=\"response\")\n",
    "lines(xnewe$response ~ xnewe$poorhlth, col = \"darkgreen\", lty = 2)\n",
    "\n",
    "# EDUCATION: 5\n",
    "xnewe  <- as.data.frame(poorhlth)\n",
    "xnewe$marital  <- maritalstatus\n",
    "xnewe$sex  <- \"Male\"\n",
    "xnewe$educa  <- \"College 1 year to 3 years (Some college or technical school)\"\n",
    "xnewe$response  <- predict(p.B, newdata = xnewe , type=\"response\")\n",
    "lines(xnewe$response ~ xnewe$poorhlth, col = \"brown1\", lty = 2)\n",
    "\n",
    "# EDUCATION: 6\n",
    "xnewe  <- as.data.frame(poorhlth)\n",
    "xnewe$marital  <- maritalstatus\n",
    "xnewe$sex  <- \"Male\"\n",
    "xnewe$educa  <- \"College 4 years or more (College graduate)\"\n",
    "xnewe$response  <- predict(p.B, newdata = xnewe , type=\"response\")\n",
    "lines(xnewe$response ~ xnewe$poorhlth, col = \"cyan\", lty = 2)\n",
    "legend(\"topright\",legend= \"Female\",lty=1)\n",
    "legend(\"topleft\",legend= \"Male\",lty=2)}\n",
    "#legend(\"top\", legend = c(\"Never attended\",\"Grades 1-8\",\"Grades 9-11\",\"GED\",\"College 1-3 yrs\",\"College 4+ yrs\"), col = c(\"black\",\"red\",\"blue\",\"darkgreen\",\"brown1\",\"cyan\"))\n",
    "#legend(\"topleft\", legend= \"never\", col = \"red\", lty=1:2, cex=0.8)"
   ]
  },
  {
   "cell_type": "markdown",
   "metadata": {},
   "source": [
    "### Married Category plot"
   ]
  },
  {
   "cell_type": "code",
   "execution_count": 40,
   "metadata": {},
   "outputs": [
    {
     "data": {
      "image/png": "[encoded data removed]",
      "text/plain": [
       "Plot with title \"Marital Category- Married , different level of Education\""
      ]
     },
     "metadata": {
      "image/png": {
       "height": 600,
       "width": 960
      }
     },
     "output_type": "display_data"
    }
   ],
   "source": [
    "# Marital Category:  Married\n",
    "plot(drnk3ge5 ~ poorhlth, data = mydata1, ylab = \"count of 5+ drinks\", xlab = \"poorhlth\",pch = 20 , \n",
    "     ylim = c(0,10), main =\"Marital Category- Married , different level of Education\"  )\n",
    "maritalstatus  <- \"Married\"\n",
    "makeplotp(maritalstatus)\n",
    "legend(\"top\", legend = c(\"Never attended\",\"Grades 1-8\",\"Grades 9-11\",\"GED\",\"College 1-3 yrs\",\"College 4+ yrs\"), col = c(\"black\",\"red\",\"blue\",\"darkgreen\",\"brown1\",\"cyan\"), lty=1:2,box.lty = 0, cex=0.8)\n",
    "\n",
    "#legend(\"top\", legend= \"never\", col = \"red\")"
   ]
  },
  {
   "cell_type": "markdown",
   "metadata": {},
   "source": [
    "### Divorced Category plot"
   ]
  },
  {
   "cell_type": "code",
   "execution_count": 39,
   "metadata": {},
   "outputs": [
    {
     "data": {
      "image/png": "[encoded data removed]",
      "text/plain": [
       "Plot with title \"Marital Category- Divorced , different level of Education\""
      ]
     },
     "metadata": {
      "image/png": {
       "height": 600,
       "width": 960
      }
     },
     "output_type": "display_data"
    }
   ],
   "source": [
    "# Marital Category:  Divorced\n",
    "plot(drnk3ge5 ~ poorhlth, data = mydata1, ylab = \"count of 5+ drinks\", xlab = \"poorhlth\",pch = 20 , \n",
    "     ylim = c(0,10), main =\"Marital Category- Divorced , different level of Education\"  )\n",
    "maritalstatus  <- \"Divorced\"\n",
    "makeplotp(maritalstatus)\n",
    "legend(\"top\", legend = c(\"Never attended\",\"Grades 1-8\",\"Grades 9-11\",\"GED\",\"College 1-3 yrs\",\"College 4+ yrs\"), col = c(\"black\",\"red\",\"blue\",\"darkgreen\",\"brown1\",\"cyan\"), lty=1:2,box.lty = 0, cex=0.8)\n"
   ]
  },
  {
   "cell_type": "markdown",
   "metadata": {},
   "source": [
    "### Separated Category plot"
   ]
  },
  {
   "cell_type": "code",
   "execution_count": 38,
   "metadata": {},
   "outputs": [
    {
     "data": {
      "image/png": "[encoded data removed]",
      "text/plain": [
       "Plot with title \"Marital Category- Separated , different level of Education\""
      ]
     },
     "metadata": {
      "image/png": {
       "height": 600,
       "width": 960
      }
     },
     "output_type": "display_data"
    }
   ],
   "source": [
    "# Marital Category:  Separated\n",
    "plot(drnk3ge5 ~ poorhlth, data = mydata1, ylab = \"count of 5+ drinks\", xlab = \"poorhlth\",pch = 20 , \n",
    "     ylim = c(0,10), main =\"Marital Category- Separated , different level of Education\"  )\n",
    "maritalstatus  <- \"Separated\"\n",
    "makeplotp(maritalstatus)\n",
    "legend(\"top\", legend = c(\"Never attended\",\"Grades 1-8\",\"Grades 9-11\",\"GED\",\"College 1-3 yrs\",\"College 4+ yrs\"), col = c(\"black\",\"red\",\"blue\",\"darkgreen\",\"brown1\",\"cyan\"), lty=1:2,box.lty = 0, cex=0.8)\n"
   ]
  },
  {
   "cell_type": "markdown",
   "metadata": {},
   "source": [
    "### Never married Category plot"
   ]
  },
  {
   "cell_type": "code",
   "execution_count": 37,
   "metadata": {},
   "outputs": [
    {
     "data": {
      "image/png": "[encoded data removed]",
      "text/plain": [
       "Plot with title \"Marital Category- Never married , different level of Education\""
      ]
     },
     "metadata": {
      "image/png": {
       "height": 600,
       "width": 960
      }
     },
     "output_type": "display_data"
    }
   ],
   "source": [
    "# Marital Category:  Never married\n",
    "plot(drnk3ge5 ~ poorhlth, data = mydata1, ylab = \"count of 5+ drinks\", xlab = \"poorhlth\",pch = 20 , \n",
    "     ylim = c(0,10), main =\"Marital Category- Never married , different level of Education\"  )\n",
    "maritalstatus  <- \"Never married\"\n",
    "makeplotp(maritalstatus)\n",
    "legend(\"top\", legend = c(\"Never attended\",\"Grades 1-8\",\"Grades 9-11\",\"GED\",\"College 1-3 yrs\",\"College 4+ yrs\"), col = c(\"black\",\"red\",\"blue\",\"darkgreen\",\"brown1\",\"cyan\"), lty=1:2,box.lty = 0, cex=0.8)\n"
   ]
  },
  {
   "cell_type": "markdown",
   "metadata": {},
   "source": [
    "### A member of an unmarried couple Category plot"
   ]
  },
  {
   "cell_type": "code",
   "execution_count": 36,
   "metadata": {},
   "outputs": [
    {
     "data": {
      "image/png": "[encoded data removed]",
      "text/plain": [
       "Plot with title \"Marital Category- A member of an unmarried couple , different level of Education\""
      ]
     },
     "metadata": {
      "image/png": {
       "height": 600,
       "width": 960
      }
     },
     "output_type": "display_data"
    }
   ],
   "source": [
    "# Marital Category: A member of an unmarried couple\n",
    "plot(drnk3ge5 ~ poorhlth, data = mydata1, ylab = \"count of 5+ drinks\", xlab = \"poorhlth\",pch = 20 , \n",
    "     ylim = c(0,10), main =\"Marital Category- A member of an unmarried couple , different level of Education\"  )\n",
    "maritalstatus  <- \"A member of an unmarried couple\"\n",
    "makeplotp(maritalstatus)\n",
    "legend(\"top\", legend = c(\"Never attended\",\"Grades 1-8\",\"Grades 9-11\",\"GED\",\"College 1-3 yrs\",\"College 4+ yrs\"), col = c(\"black\",\"red\",\"blue\",\"darkgreen\",\"brown1\",\"cyan\"), lty=1:2,box.lty = 0, cex=0.8)\n"
   ]
  },
  {
   "cell_type": "markdown",
   "metadata": {},
   "source": [
    "### What are the main results of your model?"
   ]
  },
  {
   "cell_type": "markdown",
   "metadata": {},
   "source": [
    "* p.B = glm(drnk3ge5 ~ sex + educa + poorhlth + marital, data=mydata1, family=\"poisson\"(link=\"log\"))\n",
    "\n",
    "- In the final model, we have three categorical variables and and one quantitative variable. Due to various levels in in each variable, we have to make various plots to visualize the different trends on the plots. \n",
    "- From plots, we can see the gender category causes significant differences as males have higher intercept across all levels of eduaction and mariatl status, while female have lower intercepts.\n",
    "\n",
    "- The higher edcuation level shows that people tend to drink more upto the certain level but the visualized model shows that higher educated groups are less likely to have 5+ drinks many times comapred to lower educated classes.\n",
    "\n",
    "- It can be seen from the plot that divorced and unmarried people tend to drink more as they have higher intercept comapred to the married couples. In general, while we do not have all marital status difference effects in one plot, comparing two plots can show the effect of marital status on the drinking behaviours.\n",
    "- Even though we predicted that the increase in the days of poor health situation would result in decreasing the heavy drinking behaviour, plots show that there is a positive association between number of days of drinking 5+ alcohol beverages and poor health condition. \n",
    "- We did not include the interaction between variables for our model because interaction did not help the model goodness of fit.\n",
    "- Overal, model visualization confirm the regression coefficient sign, magnitute and the change in the intercept on the log unit for different categories( vertical effects )\n"
   ]
  },
  {
   "cell_type": "markdown",
   "metadata": {},
   "source": [
    "---\n",
    "## Do you have any concerns about the explanatory variables being related to each other? \n",
    "\n",
    "Show plots and/or do analyses to support your conclusions. If there are associations between explanatory variables, what effect could this have on your model?"
   ]
  },
  {
   "cell_type": "code",
   "execution_count": 29,
   "metadata": {},
   "outputs": [
    {
     "data": {
      "text/html": [
       "<table>\n",
       "<thead><tr><th></th><th scope=col>physhlth</th><th scope=col>menthlth</th><th scope=col>poorhlth</th><th scope=col>sleptim1</th></tr></thead>\n",
       "<tbody>\n",
       "\t<tr><th scope=row>physhlth</th><td> 1.0000</td><td> 0.1333</td><td> 0.5654</td><td>-0.0264</td></tr>\n",
       "\t<tr><th scope=row>menthlth</th><td> 0.1333</td><td> 1.0000</td><td> 0.2939</td><td>-0.1285</td></tr>\n",
       "\t<tr><th scope=row>poorhlth</th><td> 0.5654</td><td> 0.2939</td><td> 1.0000</td><td>-0.0429</td></tr>\n",
       "\t<tr><th scope=row>sleptim1</th><td>-0.0264</td><td>-0.1285</td><td>-0.0429</td><td> 1.0000</td></tr>\n",
       "</tbody>\n",
       "</table>\n"
      ],
      "text/latex": [
       "\\begin{tabular}{r|llll}\n",
       "  & physhlth & menthlth & poorhlth & sleptim1\\\\\n",
       "\\hline\n",
       "\tphyshlth &  1.0000 &  0.1333 &  0.5654 & -0.0264\\\\\n",
       "\tmenthlth &  0.1333 &  1.0000 &  0.2939 & -0.1285\\\\\n",
       "\tpoorhlth &  0.5654 &  0.2939 &  1.0000 & -0.0429\\\\\n",
       "\tsleptim1 & -0.0264 & -0.1285 & -0.0429 &  1.0000\\\\\n",
       "\\end{tabular}\n"
      ],
      "text/markdown": [
       "\n",
       "| <!--/--> | physhlth | menthlth | poorhlth | sleptim1 |\n",
       "|---|---|---|---|---|\n",
       "| physhlth |  1.0000 |  0.1333 |  0.5654 | -0.0264 |\n",
       "| menthlth |  0.1333 |  1.0000 |  0.2939 | -0.1285 |\n",
       "| poorhlth |  0.5654 |  0.2939 |  1.0000 | -0.0429 |\n",
       "| sleptim1 | -0.0264 | -0.1285 | -0.0429 |  1.0000 |\n",
       "\n"
      ],
      "text/plain": [
       "         physhlth menthlth poorhlth sleptim1\n",
       "physhlth  1.0000   0.1333   0.5654  -0.0264 \n",
       "menthlth  0.1333   1.0000   0.2939  -0.1285 \n",
       "poorhlth  0.5654   0.2939   1.0000  -0.0429 \n",
       "sleptim1 -0.0264  -0.1285  -0.0429   1.0000 "
      ]
     },
     "metadata": {},
     "output_type": "display_data"
    }
   ],
   "source": [
    "mydata1.corr <- mydata1[c(1,2,3,4)] \n",
    "cor.matrix <- cor(mydata1.corr, method=\"pearson\")\n",
    "round(cor.matrix, 4)"
   ]
  },
  {
   "cell_type": "markdown",
   "metadata": {},
   "source": [
    "\n",
    "### Correlations:\n",
    "As we can see explanatory variables like physical health and poor health are correlated which can cause issues. \n",
    "We have only one quantitative variable, because the poor health is a combination of mental and physical health condition, we only included poor health variable in our final model, therefore there is no concern regarding the correlation of quantitative variables. For the categorical variables, we exclude the income from the final model because we assume there is a strong correlation between income and education so we decide to use education and exclude the income and eliminate the redundancy.\n",
    "If there is a correlation between the variables, it may result in multi-colliniairity and redundancy of variable's effect in our prediction.\n"
   ]
  },
  {
   "cell_type": "markdown",
   "metadata": {},
   "source": [
    "<div class=\"alert alert-block alert-success\">\n",
    "<a id=\"Discussion\"></a>\n",
    "\n",
    "# Discussion \n",
    "\n",
    "How well do your models achieve the goal of the analysis?   \n",
    "What are the strengths and limitations of your models? \n",
    "What are some recommendations to address the limitations of your final models?  \n",
    "    \n",
    "If you include any references, please put the bibliographical information (APA style) at the end of your discussion; this does not contribute to the word count.\n",
    "<div>\n"
   ]
  },
  {
   "cell_type": "markdown",
   "metadata": {},
   "source": [
    "### Logistic regression model\n",
    "In general we can conclude that the final model is a good model to predict the probability of alcohol drinking based on the four explanatory variables. The model shows that the categorical variables can make a significant differences in the prediction model because we have a very big sampling observations. When the data is big, every category level can make a big difference. We saw that the cut-off value can help us to predict accurately in almost 65% of the predictions. Technincally, this cut-off value could be change based on the trade-off between sensitivity and specificity and the main objective of the analysis. In this study, we wanted to identify the association of different potential health-related risk factor for futher intervention policies. If the objective were to target the potential heavy drinker customers for the higher marginal profit, then we might probably change the cut-off value and select the customers with the highest drinking probabilty to be address through the marketing campaign. \n",
    "\n",
    "\n",
    "### Poisson  model\n",
    "We have used the Poisson regression where we had the count and frequency in our data.\n",
    "The model fits relatively well and gives us insight about the various explanatory variables (marital , sex, education, healt) and their effects on the response variable in the log unit, i.e. the frequency of times a person having 5+ drinks in a month.\n",
    "We tested various models with various combiantion of variables showing which variables are highly asscoiated with the response variable. We checked the AIC values of model and arrived on our final model.\n",
    "\n",
    "Our model tries to establiseh the impact of the identified paramters on the heavy drinking behaviours. We tried to avoid unnecessary interaction effect in our model while adding at most 4 variables that makes our model a little bit less complicated. In our model we have also taken care of the correlated varaibles like poor health and physical health and we have removed physical health to avoid redundancy. \n",
    "\n",
    "### limitation:\n",
    "The limitaion of the Poisson model is that our residual deviance is 4+ wich shows that we have overdispersion in our model. Overdispersion describes the observation that variation is higher than what we would have expected. Also Our data is Zero inflated that is contributing in the overdispersion. \n",
    "One other concern is the accuracy of the sampled data. For many reasons, respondents might not answer the questions correctly, for example if they have concern regarding the privacy and do not want to give information that may be used by health insurance providers. \n",
    "Many people may not drink based on the religion beliefs or other reasons that are not presented as an explatory variables and this may result into a biased output.\n",
    "Another issues may arise from not differentiating between different types of alcohol drink which have a significant different effects. Basically the effect of beer, wine or liqours could be varried and  considering all of them with the same effect is not a good approaches. \n",
    "\n",
    "### Recommendation:\n",
    "How to deal with overdispersion:\n",
    "There are some statistical method to resolve the overdispersion issues. We could Include other explanatory variables that would help us managing the overdispersion. We also can use quasipoisson distribution that includes estimation of dispersion parameter.\n",
    "We can perform the negative binomial regression (has an extra parameter to model overdispersion) or we can run two separated predcition models for Zero-inflated Poisson regression (two predictions, one for Poisson distribution, one for extra zeros).\n",
    "Other limitations can be addressed only in the survey questions and process design phase. "
   ]
  },
  {
   "cell_type": "markdown",
   "metadata": {},
   "source": [
    "<div class=\"alert alert-block alert-danger\">\n",
    "<a id=\"AppendixA\"></a>\n",
    "\n",
    "# Appendix A:\n",
    "# Building the Logistic Regression Model\n",
    "</div>"
   ]
  },
  {
   "cell_type": "code",
   "execution_count": 472,
   "metadata": {},
   "outputs": [],
   "source": [
    "# Null model:\n",
    "z.null = glm( alcday5 ~ 1, data=mydata, family=\"binomial\"(link=\"logit\"))\n"
   ]
  },
  {
   "cell_type": "code",
   "execution_count": 473,
   "metadata": {},
   "outputs": [
    {
     "data": {
      "text/html": [
       "<table>\n",
       "<caption>A anova: 2 × 5</caption>\n",
       "<thead>\n",
       "\t<tr><th></th><th scope=col>Resid. Df</th><th scope=col>Resid. Dev</th><th scope=col>Df</th><th scope=col>Deviance</th><th scope=col>Pr(&gt;Chi)</th></tr>\n",
       "\t<tr><th></th><th scope=col>&lt;dbl&gt;</th><th scope=col>&lt;dbl&gt;</th><th scope=col>&lt;dbl&gt;</th><th scope=col>&lt;dbl&gt;</th><th scope=col>&lt;dbl&gt;</th></tr>\n",
       "</thead>\n",
       "<tbody>\n",
       "\t<tr><th scope=row>1</th><td>196672</td><td>272602.6</td><td>NA</td><td>      NA</td><td>NA</td></tr>\n",
       "\t<tr><th scope=row>2</th><td>196671</td><td>263178.0</td><td> 1</td><td>9424.561</td><td> 0</td></tr>\n",
       "</tbody>\n",
       "</table>\n"
      ],
      "text/latex": [
       "A anova: 2 × 5\n",
       "\\begin{tabular}{r|lllll}\n",
       "  & Resid. Df & Resid. Dev & Df & Deviance & Pr(>Chi)\\\\\n",
       "  & <dbl> & <dbl> & <dbl> & <dbl> & <dbl>\\\\\n",
       "\\hline\n",
       "\t1 & 196672 & 272602.6 & NA &       NA & NA\\\\\n",
       "\t2 & 196671 & 263178.0 &  1 & 9424.561 &  0\\\\\n",
       "\\end{tabular}\n"
      ],
      "text/markdown": [
       "\n",
       "A anova: 2 × 5\n",
       "\n",
       "| <!--/--> | Resid. Df &lt;dbl&gt; | Resid. Dev &lt;dbl&gt; | Df &lt;dbl&gt; | Deviance &lt;dbl&gt; | Pr(&gt;Chi) &lt;dbl&gt; |\n",
       "|---|---|---|---|---|---|\n",
       "| 1 | 196672 | 272602.6 | NA |       NA | NA |\n",
       "| 2 | 196671 | 263178.0 |  1 | 9424.561 |  0 |\n",
       "\n"
      ],
      "text/plain": [
       "  Resid. Df Resid. Dev Df Deviance Pr(>Chi)\n",
       "1 196672    272602.6   NA       NA NA      \n",
       "2 196671    263178.0    1 9424.561  0      "
      ]
     },
     "metadata": {},
     "output_type": "display_data"
    },
    {
     "data": {
      "text/html": [
       "263182.009358766"
      ],
      "text/latex": [
       "263182.009358766"
      ],
      "text/markdown": [
       "263182.009358766"
      ],
      "text/plain": [
       "[1] 263182"
      ]
     },
     "metadata": {},
     "output_type": "display_data"
    }
   ],
   "source": [
    "# Physical health model - significance association\n",
    "z.physhlth = glm(alcday5 ~ physhlth, data=mydata, family=\"binomial\"(link=\"logit\"))\n",
    "anova(z.null, z.physhlth,test=\"Chi\")\n",
    "AIC(z.physhlth)"
   ]
  },
  {
   "cell_type": "code",
   "execution_count": 474,
   "metadata": {},
   "outputs": [
    {
     "data": {
      "text/html": [
       "<table>\n",
       "<caption>A anova: 2 × 5</caption>\n",
       "<thead>\n",
       "\t<tr><th></th><th scope=col>Resid. Df</th><th scope=col>Resid. Dev</th><th scope=col>Df</th><th scope=col>Deviance</th><th scope=col>Pr(&gt;Chi)</th></tr>\n",
       "\t<tr><th></th><th scope=col>&lt;dbl&gt;</th><th scope=col>&lt;dbl&gt;</th><th scope=col>&lt;dbl&gt;</th><th scope=col>&lt;dbl&gt;</th><th scope=col>&lt;dbl&gt;</th></tr>\n",
       "</thead>\n",
       "<tbody>\n",
       "\t<tr><th scope=row>1</th><td>196672</td><td>272602.6</td><td>NA</td><td>      NA</td><td>           NA</td></tr>\n",
       "\t<tr><th scope=row>2</th><td>196671</td><td>271800.2</td><td> 1</td><td>802.4025</td><td>1.620752e-176</td></tr>\n",
       "</tbody>\n",
       "</table>\n"
      ],
      "text/latex": [
       "A anova: 2 × 5\n",
       "\\begin{tabular}{r|lllll}\n",
       "  & Resid. Df & Resid. Dev & Df & Deviance & Pr(>Chi)\\\\\n",
       "  & <dbl> & <dbl> & <dbl> & <dbl> & <dbl>\\\\\n",
       "\\hline\n",
       "\t1 & 196672 & 272602.6 & NA &       NA &            NA\\\\\n",
       "\t2 & 196671 & 271800.2 &  1 & 802.4025 & 1.620752e-176\\\\\n",
       "\\end{tabular}\n"
      ],
      "text/markdown": [
       "\n",
       "A anova: 2 × 5\n",
       "\n",
       "| <!--/--> | Resid. Df &lt;dbl&gt; | Resid. Dev &lt;dbl&gt; | Df &lt;dbl&gt; | Deviance &lt;dbl&gt; | Pr(&gt;Chi) &lt;dbl&gt; |\n",
       "|---|---|---|---|---|---|\n",
       "| 1 | 196672 | 272602.6 | NA |       NA |            NA |\n",
       "| 2 | 196671 | 271800.2 |  1 | 802.4025 | 1.620752e-176 |\n",
       "\n"
      ],
      "text/plain": [
       "  Resid. Df Resid. Dev Df Deviance Pr(>Chi)     \n",
       "1 196672    272602.6   NA       NA            NA\n",
       "2 196671    271800.2    1 802.4025 1.620752e-176"
      ]
     },
     "metadata": {},
     "output_type": "display_data"
    },
    {
     "data": {
      "text/html": [
       "271804.168034593"
      ],
      "text/latex": [
       "271804.168034593"
      ],
      "text/markdown": [
       "271804.168034593"
      ],
      "text/plain": [
       "[1] 271804.2"
      ]
     },
     "metadata": {},
     "output_type": "display_data"
    }
   ],
   "source": [
    "# Mental health model - significance association\n",
    "z.menthlth = glm(alcday5 ~ menthlth, data=mydata, family=\"binomial\"(link=\"logit\"))\n",
    "anova(z.null, z.menthlth,test=\"Chi\")\n",
    "AIC(z.menthlth)"
   ]
  },
  {
   "cell_type": "code",
   "execution_count": 475,
   "metadata": {},
   "outputs": [
    {
     "data": {
      "text/html": [
       "<table>\n",
       "<caption>A anova: 2 × 5</caption>\n",
       "<thead>\n",
       "\t<tr><th></th><th scope=col>Resid. Df</th><th scope=col>Resid. Dev</th><th scope=col>Df</th><th scope=col>Deviance</th><th scope=col>Pr(&gt;Chi)</th></tr>\n",
       "\t<tr><th></th><th scope=col>&lt;dbl&gt;</th><th scope=col>&lt;dbl&gt;</th><th scope=col>&lt;dbl&gt;</th><th scope=col>&lt;dbl&gt;</th><th scope=col>&lt;dbl&gt;</th></tr>\n",
       "</thead>\n",
       "<tbody>\n",
       "\t<tr><th scope=row>1</th><td>196672</td><td>272602.6</td><td>NA</td><td>      NA</td><td>NA</td></tr>\n",
       "\t<tr><th scope=row>2</th><td>196671</td><td>266730.8</td><td> 1</td><td>5871.729</td><td> 0</td></tr>\n",
       "</tbody>\n",
       "</table>\n"
      ],
      "text/latex": [
       "A anova: 2 × 5\n",
       "\\begin{tabular}{r|lllll}\n",
       "  & Resid. Df & Resid. Dev & Df & Deviance & Pr(>Chi)\\\\\n",
       "  & <dbl> & <dbl> & <dbl> & <dbl> & <dbl>\\\\\n",
       "\\hline\n",
       "\t1 & 196672 & 272602.6 & NA &       NA & NA\\\\\n",
       "\t2 & 196671 & 266730.8 &  1 & 5871.729 &  0\\\\\n",
       "\\end{tabular}\n"
      ],
      "text/markdown": [
       "\n",
       "A anova: 2 × 5\n",
       "\n",
       "| <!--/--> | Resid. Df &lt;dbl&gt; | Resid. Dev &lt;dbl&gt; | Df &lt;dbl&gt; | Deviance &lt;dbl&gt; | Pr(&gt;Chi) &lt;dbl&gt; |\n",
       "|---|---|---|---|---|---|\n",
       "| 1 | 196672 | 272602.6 | NA |       NA | NA |\n",
       "| 2 | 196671 | 266730.8 |  1 | 5871.729 |  0 |\n",
       "\n"
      ],
      "text/plain": [
       "  Resid. Df Resid. Dev Df Deviance Pr(>Chi)\n",
       "1 196672    272602.6   NA       NA NA      \n",
       "2 196671    266730.8    1 5871.729  0      "
      ]
     },
     "metadata": {},
     "output_type": "display_data"
    },
    {
     "data": {
      "text/html": [
       "266734.841913778"
      ],
      "text/latex": [
       "266734.841913778"
      ],
      "text/markdown": [
       "266734.841913778"
      ],
      "text/plain": [
       "[1] 266734.8"
      ]
     },
     "metadata": {},
     "output_type": "display_data"
    }
   ],
   "source": [
    "# Poor health model - significance association\n",
    "z.poorhlth = glm(alcday5 ~ poorhlth, data=mydata, family=\"binomial\"(link=\"logit\"))\n",
    "anova(z.null, z.poorhlth,test=\"Chi\")\n",
    "AIC(z.poorhlth)"
   ]
  },
  {
   "cell_type": "code",
   "execution_count": 476,
   "metadata": {},
   "outputs": [
    {
     "data": {
      "text/html": [
       "<table>\n",
       "<caption>A anova: 2 × 5</caption>\n",
       "<thead>\n",
       "\t<tr><th></th><th scope=col>Resid. Df</th><th scope=col>Resid. Dev</th><th scope=col>Df</th><th scope=col>Deviance</th><th scope=col>Pr(&gt;Chi)</th></tr>\n",
       "\t<tr><th></th><th scope=col>&lt;dbl&gt;</th><th scope=col>&lt;dbl&gt;</th><th scope=col>&lt;dbl&gt;</th><th scope=col>&lt;dbl&gt;</th><th scope=col>&lt;dbl&gt;</th></tr>\n",
       "</thead>\n",
       "<tbody>\n",
       "\t<tr><th scope=row>1</th><td>196672</td><td>272602.6</td><td>NA</td><td>      NA</td><td>          NA</td></tr>\n",
       "\t<tr><th scope=row>2</th><td>196671</td><td>272590.1</td><td> 1</td><td>12.47732</td><td>0.0004119234</td></tr>\n",
       "</tbody>\n",
       "</table>\n"
      ],
      "text/latex": [
       "A anova: 2 × 5\n",
       "\\begin{tabular}{r|lllll}\n",
       "  & Resid. Df & Resid. Dev & Df & Deviance & Pr(>Chi)\\\\\n",
       "  & <dbl> & <dbl> & <dbl> & <dbl> & <dbl>\\\\\n",
       "\\hline\n",
       "\t1 & 196672 & 272602.6 & NA &       NA &           NA\\\\\n",
       "\t2 & 196671 & 272590.1 &  1 & 12.47732 & 0.0004119234\\\\\n",
       "\\end{tabular}\n"
      ],
      "text/markdown": [
       "\n",
       "A anova: 2 × 5\n",
       "\n",
       "| <!--/--> | Resid. Df &lt;dbl&gt; | Resid. Dev &lt;dbl&gt; | Df &lt;dbl&gt; | Deviance &lt;dbl&gt; | Pr(&gt;Chi) &lt;dbl&gt; |\n",
       "|---|---|---|---|---|---|\n",
       "| 1 | 196672 | 272602.6 | NA |       NA |           NA |\n",
       "| 2 | 196671 | 272590.1 |  1 | 12.47732 | 0.0004119234 |\n",
       "\n"
      ],
      "text/plain": [
       "  Resid. Df Resid. Dev Df Deviance Pr(>Chi)    \n",
       "1 196672    272602.6   NA       NA           NA\n",
       "2 196671    272590.1    1 12.47732 0.0004119234"
      ]
     },
     "metadata": {},
     "output_type": "display_data"
    },
    {
     "data": {
      "text/html": [
       "272594.093212549"
      ],
      "text/latex": [
       "272594.093212549"
      ],
      "text/markdown": [
       "272594.093212549"
      ],
      "text/plain": [
       "[1] 272594.1"
      ]
     },
     "metadata": {},
     "output_type": "display_data"
    }
   ],
   "source": [
    "# Sleep hours model - significance association\n",
    "z.sleptim1 = glm(alcday5 ~ sleptim1, data=mydata, family=\"binomial\"(link=\"logit\"))\n",
    "anova(z.null, z.sleptim1,test=\"Chi\")\n",
    "AIC(z.sleptim1)"
   ]
  },
  {
   "cell_type": "code",
   "execution_count": 477,
   "metadata": {},
   "outputs": [
    {
     "data": {
      "text/html": [
       "<table>\n",
       "<caption>A anova: 2 × 5</caption>\n",
       "<thead>\n",
       "\t<tr><th></th><th scope=col>Resid. Df</th><th scope=col>Resid. Dev</th><th scope=col>Df</th><th scope=col>Deviance</th><th scope=col>Pr(&gt;Chi)</th></tr>\n",
       "\t<tr><th></th><th scope=col>&lt;dbl&gt;</th><th scope=col>&lt;dbl&gt;</th><th scope=col>&lt;dbl&gt;</th><th scope=col>&lt;dbl&gt;</th><th scope=col>&lt;dbl&gt;</th></tr>\n",
       "</thead>\n",
       "<tbody>\n",
       "\t<tr><th scope=row>1</th><td>196672</td><td>272602.6</td><td>NA</td><td>      NA</td><td>NA</td></tr>\n",
       "\t<tr><th scope=row>2</th><td>196667</td><td>268490.3</td><td> 5</td><td>4112.263</td><td> 0</td></tr>\n",
       "</tbody>\n",
       "</table>\n"
      ],
      "text/latex": [
       "A anova: 2 × 5\n",
       "\\begin{tabular}{r|lllll}\n",
       "  & Resid. Df & Resid. Dev & Df & Deviance & Pr(>Chi)\\\\\n",
       "  & <dbl> & <dbl> & <dbl> & <dbl> & <dbl>\\\\\n",
       "\\hline\n",
       "\t1 & 196672 & 272602.6 & NA &       NA & NA\\\\\n",
       "\t2 & 196667 & 268490.3 &  5 & 4112.263 &  0\\\\\n",
       "\\end{tabular}\n"
      ],
      "text/markdown": [
       "\n",
       "A anova: 2 × 5\n",
       "\n",
       "| <!--/--> | Resid. Df &lt;dbl&gt; | Resid. Dev &lt;dbl&gt; | Df &lt;dbl&gt; | Deviance &lt;dbl&gt; | Pr(&gt;Chi) &lt;dbl&gt; |\n",
       "|---|---|---|---|---|---|\n",
       "| 1 | 196672 | 272602.6 | NA |       NA | NA |\n",
       "| 2 | 196667 | 268490.3 |  5 | 4112.263 |  0 |\n",
       "\n"
      ],
      "text/plain": [
       "  Resid. Df Resid. Dev Df Deviance Pr(>Chi)\n",
       "1 196672    272602.6   NA       NA NA      \n",
       "2 196667    268490.3    5 4112.263  0      "
      ]
     },
     "metadata": {},
     "output_type": "display_data"
    },
    {
     "data": {
      "text/html": [
       "268502.307079539"
      ],
      "text/latex": [
       "268502.307079539"
      ],
      "text/markdown": [
       "268502.307079539"
      ],
      "text/plain": [
       "[1] 268502.3"
      ]
     },
     "metadata": {},
     "output_type": "display_data"
    }
   ],
   "source": [
    "# Marital status model - significance association\n",
    "z.marital = glm(alcday5 ~ marital, data=mydata, family=\"binomial\"(link=\"logit\"))\n",
    "anova(z.null, z.marital,test=\"Chi\")\n",
    "AIC(z.marital)"
   ]
  },
  {
   "cell_type": "code",
   "execution_count": 478,
   "metadata": {},
   "outputs": [
    {
     "data": {
      "text/html": [
       "<table>\n",
       "<caption>A anova: 2 × 5</caption>\n",
       "<thead>\n",
       "\t<tr><th></th><th scope=col>Resid. Df</th><th scope=col>Resid. Dev</th><th scope=col>Df</th><th scope=col>Deviance</th><th scope=col>Pr(&gt;Chi)</th></tr>\n",
       "\t<tr><th></th><th scope=col>&lt;dbl&gt;</th><th scope=col>&lt;dbl&gt;</th><th scope=col>&lt;dbl&gt;</th><th scope=col>&lt;dbl&gt;</th><th scope=col>&lt;dbl&gt;</th></tr>\n",
       "</thead>\n",
       "<tbody>\n",
       "\t<tr><th scope=row>1</th><td>196672</td><td>272602.6</td><td>NA</td><td>      NA</td><td>NA</td></tr>\n",
       "\t<tr><th scope=row>2</th><td>196667</td><td>262446.7</td><td> 5</td><td>10155.88</td><td> 0</td></tr>\n",
       "</tbody>\n",
       "</table>\n"
      ],
      "text/latex": [
       "A anova: 2 × 5\n",
       "\\begin{tabular}{r|lllll}\n",
       "  & Resid. Df & Resid. Dev & Df & Deviance & Pr(>Chi)\\\\\n",
       "  & <dbl> & <dbl> & <dbl> & <dbl> & <dbl>\\\\\n",
       "\\hline\n",
       "\t1 & 196672 & 272602.6 & NA &       NA & NA\\\\\n",
       "\t2 & 196667 & 262446.7 &  5 & 10155.88 &  0\\\\\n",
       "\\end{tabular}\n"
      ],
      "text/markdown": [
       "\n",
       "A anova: 2 × 5\n",
       "\n",
       "| <!--/--> | Resid. Df &lt;dbl&gt; | Resid. Dev &lt;dbl&gt; | Df &lt;dbl&gt; | Deviance &lt;dbl&gt; | Pr(&gt;Chi) &lt;dbl&gt; |\n",
       "|---|---|---|---|---|---|\n",
       "| 1 | 196672 | 272602.6 | NA |       NA | NA |\n",
       "| 2 | 196667 | 262446.7 |  5 | 10155.88 |  0 |\n",
       "\n"
      ],
      "text/plain": [
       "  Resid. Df Resid. Dev Df Deviance Pr(>Chi)\n",
       "1 196672    272602.6   NA       NA NA      \n",
       "2 196667    262446.7    5 10155.88  0      "
      ]
     },
     "metadata": {},
     "output_type": "display_data"
    },
    {
     "data": {
      "text/html": [
       "262458.688066694"
      ],
      "text/latex": [
       "262458.688066694"
      ],
      "text/markdown": [
       "262458.688066694"
      ],
      "text/plain": [
       "[1] 262458.7"
      ]
     },
     "metadata": {},
     "output_type": "display_data"
    }
   ],
   "source": [
    "# Education status model - significance association\n",
    "z.educa = glm(alcday5 ~ educa, data=mydata, family=\"binomial\"(link=\"logit\"))\n",
    "anova(z.null, z.educa,test=\"Chi\")\n",
    "AIC(z.educa)"
   ]
  },
  {
   "cell_type": "code",
   "execution_count": 479,
   "metadata": {},
   "outputs": [
    {
     "data": {
      "text/html": [
       "<table>\n",
       "<caption>A anova: 2 × 5</caption>\n",
       "<thead>\n",
       "\t<tr><th></th><th scope=col>Resid. Df</th><th scope=col>Resid. Dev</th><th scope=col>Df</th><th scope=col>Deviance</th><th scope=col>Pr(&gt;Chi)</th></tr>\n",
       "\t<tr><th></th><th scope=col>&lt;dbl&gt;</th><th scope=col>&lt;dbl&gt;</th><th scope=col>&lt;dbl&gt;</th><th scope=col>&lt;dbl&gt;</th><th scope=col>&lt;dbl&gt;</th></tr>\n",
       "</thead>\n",
       "<tbody>\n",
       "\t<tr><th scope=row>1</th><td>196672</td><td>272602.6</td><td>NA</td><td>      NA</td><td>NA</td></tr>\n",
       "\t<tr><th scope=row>2</th><td>196665</td><td>256927.0</td><td> 7</td><td>15675.54</td><td> 0</td></tr>\n",
       "</tbody>\n",
       "</table>\n"
      ],
      "text/latex": [
       "A anova: 2 × 5\n",
       "\\begin{tabular}{r|lllll}\n",
       "  & Resid. Df & Resid. Dev & Df & Deviance & Pr(>Chi)\\\\\n",
       "  & <dbl> & <dbl> & <dbl> & <dbl> & <dbl>\\\\\n",
       "\\hline\n",
       "\t1 & 196672 & 272602.6 & NA &       NA & NA\\\\\n",
       "\t2 & 196665 & 256927.0 &  7 & 15675.54 &  0\\\\\n",
       "\\end{tabular}\n"
      ],
      "text/markdown": [
       "\n",
       "A anova: 2 × 5\n",
       "\n",
       "| <!--/--> | Resid. Df &lt;dbl&gt; | Resid. Dev &lt;dbl&gt; | Df &lt;dbl&gt; | Deviance &lt;dbl&gt; | Pr(&gt;Chi) &lt;dbl&gt; |\n",
       "|---|---|---|---|---|---|\n",
       "| 1 | 196672 | 272602.6 | NA |       NA | NA |\n",
       "| 2 | 196665 | 256927.0 |  7 | 15675.54 |  0 |\n",
       "\n"
      ],
      "text/plain": [
       "  Resid. Df Resid. Dev Df Deviance Pr(>Chi)\n",
       "1 196672    272602.6   NA       NA NA      \n",
       "2 196665    256927.0    7 15675.54  0      "
      ]
     },
     "metadata": {},
     "output_type": "display_data"
    },
    {
     "data": {
      "text/html": [
       "256943.027099184"
      ],
      "text/latex": [
       "256943.027099184"
      ],
      "text/markdown": [
       "256943.027099184"
      ],
      "text/plain": [
       "[1] 256943"
      ]
     },
     "metadata": {},
     "output_type": "display_data"
    }
   ],
   "source": [
    "# Income status model - significance association\n",
    "z.income2 = glm(alcday5 ~ income2, data=mydata, family=\"binomial\"(link=\"logit\"))\n",
    "anova(z.null, z.income2,test=\"Chi\")\n",
    "AIC(z.income2)"
   ]
  },
  {
   "cell_type": "code",
   "execution_count": 480,
   "metadata": {},
   "outputs": [
    {
     "data": {
      "text/html": [
       "<table>\n",
       "<caption>A anova: 2 × 5</caption>\n",
       "<thead>\n",
       "\t<tr><th></th><th scope=col>Resid. Df</th><th scope=col>Resid. Dev</th><th scope=col>Df</th><th scope=col>Deviance</th><th scope=col>Pr(&gt;Chi)</th></tr>\n",
       "\t<tr><th></th><th scope=col>&lt;dbl&gt;</th><th scope=col>&lt;dbl&gt;</th><th scope=col>&lt;dbl&gt;</th><th scope=col>&lt;dbl&gt;</th><th scope=col>&lt;dbl&gt;</th></tr>\n",
       "</thead>\n",
       "<tbody>\n",
       "\t<tr><th scope=row>1</th><td>196672</td><td>272602.6</td><td>NA</td><td>      NA</td><td>NA</td></tr>\n",
       "\t<tr><th scope=row>2</th><td>196671</td><td>269816.5</td><td> 1</td><td>2786.049</td><td> 0</td></tr>\n",
       "</tbody>\n",
       "</table>\n"
      ],
      "text/latex": [
       "A anova: 2 × 5\n",
       "\\begin{tabular}{r|lllll}\n",
       "  & Resid. Df & Resid. Dev & Df & Deviance & Pr(>Chi)\\\\\n",
       "  & <dbl> & <dbl> & <dbl> & <dbl> & <dbl>\\\\\n",
       "\\hline\n",
       "\t1 & 196672 & 272602.6 & NA &       NA & NA\\\\\n",
       "\t2 & 196671 & 269816.5 &  1 & 2786.049 &  0\\\\\n",
       "\\end{tabular}\n"
      ],
      "text/markdown": [
       "\n",
       "A anova: 2 × 5\n",
       "\n",
       "| <!--/--> | Resid. Df &lt;dbl&gt; | Resid. Dev &lt;dbl&gt; | Df &lt;dbl&gt; | Deviance &lt;dbl&gt; | Pr(&gt;Chi) &lt;dbl&gt; |\n",
       "|---|---|---|---|---|---|\n",
       "| 1 | 196672 | 272602.6 | NA |       NA | NA |\n",
       "| 2 | 196671 | 269816.5 |  1 | 2786.049 |  0 |\n",
       "\n"
      ],
      "text/plain": [
       "  Resid. Df Resid. Dev Df Deviance Pr(>Chi)\n",
       "1 196672    272602.6   NA       NA NA      \n",
       "2 196671    269816.5    1 2786.049  0      "
      ]
     },
     "metadata": {},
     "output_type": "display_data"
    },
    {
     "data": {
      "text/html": [
       "269820.521591691"
      ],
      "text/latex": [
       "269820.521591691"
      ],
      "text/markdown": [
       "269820.521591691"
      ],
      "text/plain": [
       "[1] 269820.5"
      ]
     },
     "metadata": {},
     "output_type": "display_data"
    }
   ],
   "source": [
    "# Gender status model - significance association\n",
    "z.sex = glm(alcday5 ~ sex, data=mydata, family=\"binomial\"(link=\"logit\"))\n",
    "anova(z.null, z.sex,test=\"Chi\")\n",
    "AIC(z.sex)"
   ]
  },
  {
   "cell_type": "code",
   "execution_count": 481,
   "metadata": {},
   "outputs": [
    {
     "data": {
      "text/html": [
       "<table>\n",
       "<caption>A anova: 2 × 5</caption>\n",
       "<thead>\n",
       "\t<tr><th></th><th scope=col>Resid. Df</th><th scope=col>Resid. Dev</th><th scope=col>Df</th><th scope=col>Deviance</th><th scope=col>Pr(&gt;Chi)</th></tr>\n",
       "\t<tr><th></th><th scope=col>&lt;dbl&gt;</th><th scope=col>&lt;dbl&gt;</th><th scope=col>&lt;dbl&gt;</th><th scope=col>&lt;dbl&gt;</th><th scope=col>&lt;dbl&gt;</th></tr>\n",
       "</thead>\n",
       "<tbody>\n",
       "\t<tr><th scope=row>1</th><td>196672</td><td>272602.6</td><td>NA</td><td>     NA</td><td>NA</td></tr>\n",
       "\t<tr><th scope=row>2</th><td>196658</td><td>249471.0</td><td>14</td><td>23131.6</td><td> 0</td></tr>\n",
       "</tbody>\n",
       "</table>\n"
      ],
      "text/latex": [
       "A anova: 2 × 5\n",
       "\\begin{tabular}{r|lllll}\n",
       "  & Resid. Df & Resid. Dev & Df & Deviance & Pr(>Chi)\\\\\n",
       "  & <dbl> & <dbl> & <dbl> & <dbl> & <dbl>\\\\\n",
       "\\hline\n",
       "\t1 & 196672 & 272602.6 & NA &      NA & NA\\\\\n",
       "\t2 & 196658 & 249471.0 & 14 & 23131.6 &  0\\\\\n",
       "\\end{tabular}\n"
      ],
      "text/markdown": [
       "\n",
       "A anova: 2 × 5\n",
       "\n",
       "| <!--/--> | Resid. Df &lt;dbl&gt; | Resid. Dev &lt;dbl&gt; | Df &lt;dbl&gt; | Deviance &lt;dbl&gt; | Pr(&gt;Chi) &lt;dbl&gt; |\n",
       "|---|---|---|---|---|---|\n",
       "| 1 | 196672 | 272602.6 | NA |      NA | NA |\n",
       "| 2 | 196658 | 249471.0 | 14 | 23131.6 |  0 |\n",
       "\n"
      ],
      "text/plain": [
       "  Resid. Df Resid. Dev Df Deviance Pr(>Chi)\n",
       "1 196672    272602.6   NA      NA  NA      \n",
       "2 196658    249471.0   14 23131.6   0      "
      ]
     },
     "metadata": {},
     "output_type": "display_data"
    }
   ],
   "source": [
    "# Model A: Income, Poor health, Sex , Marital\n",
    "z.A = glm(alcday5 ~ sex + income2 + poorhlth + marital, data=mydata, family=\"binomial\"(link=\"logit\"))\n",
    "anova(z.null, z.A,test=\"Chi\")\n"
   ]
  },
  {
   "cell_type": "code",
   "execution_count": 482,
   "metadata": {
    "scrolled": true
   },
   "outputs": [
    {
     "data": {
      "text/plain": [
       "\n",
       "Call:\n",
       "glm(formula = alcday5 ~ sex + income2 + poorhlth + marital, family = binomial(link = \"logit\"), \n",
       "    data = mydata)\n",
       "\n",
       "Deviance Residuals: \n",
       "    Min       1Q   Median       3Q      Max  \n",
       "-2.0259  -1.0761   0.5915   1.0523   2.0246  \n",
       "\n",
       "Coefficients:\n",
       "                                         Estimate Std. Error z value\n",
       "(Intercept)                            -0.5616538  0.0220271 -25.498\n",
       "sexFemale                              -0.4235551  0.0100042 -42.338\n",
       "income2Less than $15,000               -0.0100810  0.0254403  -0.396\n",
       "income2Less than $20,000                0.1809200  0.0240641   7.518\n",
       "income2Less than $25,000                0.4005669  0.0233392  17.163\n",
       "income2Less than $35,000                0.5886252  0.0230013  25.591\n",
       "income2Less than $50,000                0.8631861  0.0224732  38.410\n",
       "income2Less than $75,000                1.1377890  0.0227193  50.080\n",
       "income2$75,000 or more                  1.6551979  0.0222742  74.310\n",
       "poorhlth                               -0.0256874  0.0005577 -46.062\n",
       "maritalDivorced                         0.3479310  0.0144986  23.998\n",
       "maritalWidowed                         -0.1458229  0.0169293  -8.614\n",
       "maritalSeparated                        0.4014809  0.0298182  13.464\n",
       "maritalNever married                    0.5612075  0.0144353  38.878\n",
       "maritalA member of an unmarried couple  0.8210046  0.0285880  28.719\n",
       "                                                   Pr(>|z|)    \n",
       "(Intercept)                            < 0.0000000000000002 ***\n",
       "sexFemale                              < 0.0000000000000002 ***\n",
       "income2Less than $15,000                              0.692    \n",
       "income2Less than $20,000                 0.0000000000000555 ***\n",
       "income2Less than $25,000               < 0.0000000000000002 ***\n",
       "income2Less than $35,000               < 0.0000000000000002 ***\n",
       "income2Less than $50,000               < 0.0000000000000002 ***\n",
       "income2Less than $75,000               < 0.0000000000000002 ***\n",
       "income2$75,000 or more                 < 0.0000000000000002 ***\n",
       "poorhlth                               < 0.0000000000000002 ***\n",
       "maritalDivorced                        < 0.0000000000000002 ***\n",
       "maritalWidowed                         < 0.0000000000000002 ***\n",
       "maritalSeparated                       < 0.0000000000000002 ***\n",
       "maritalNever married                   < 0.0000000000000002 ***\n",
       "maritalA member of an unmarried couple < 0.0000000000000002 ***\n",
       "---\n",
       "Signif. codes:  0 '***' 0.001 '**' 0.01 '*' 0.05 '.' 0.1 ' ' 1\n",
       "\n",
       "(Dispersion parameter for binomial family taken to be 1)\n",
       "\n",
       "    Null deviance: 272603  on 196672  degrees of freedom\n",
       "Residual deviance: 249471  on 196658  degrees of freedom\n",
       "AIC: 249501\n",
       "\n",
       "Number of Fisher Scoring iterations: 4\n"
      ]
     },
     "metadata": {},
     "output_type": "display_data"
    }
   ],
   "source": [
    "summary(z.A)"
   ]
  },
  {
   "cell_type": "code",
   "execution_count": 483,
   "metadata": {},
   "outputs": [
    {
     "data": {
      "text/html": [
       "<table>\n",
       "<caption>A anova: 2 × 5</caption>\n",
       "<thead>\n",
       "\t<tr><th></th><th scope=col>Resid. Df</th><th scope=col>Resid. Dev</th><th scope=col>Df</th><th scope=col>Deviance</th><th scope=col>Pr(&gt;Chi)</th></tr>\n",
       "\t<tr><th></th><th scope=col>&lt;dbl&gt;</th><th scope=col>&lt;dbl&gt;</th><th scope=col>&lt;dbl&gt;</th><th scope=col>&lt;dbl&gt;</th><th scope=col>&lt;dbl&gt;</th></tr>\n",
       "</thead>\n",
       "<tbody>\n",
       "\t<tr><th scope=row>1</th><td>196672</td><td>272602.6</td><td>NA</td><td>      NA</td><td>NA</td></tr>\n",
       "\t<tr><th scope=row>2</th><td>196660</td><td>253632.4</td><td>12</td><td>18970.15</td><td> 0</td></tr>\n",
       "</tbody>\n",
       "</table>\n"
      ],
      "text/latex": [
       "A anova: 2 × 5\n",
       "\\begin{tabular}{r|lllll}\n",
       "  & Resid. Df & Resid. Dev & Df & Deviance & Pr(>Chi)\\\\\n",
       "  & <dbl> & <dbl> & <dbl> & <dbl> & <dbl>\\\\\n",
       "\\hline\n",
       "\t1 & 196672 & 272602.6 & NA &       NA & NA\\\\\n",
       "\t2 & 196660 & 253632.4 & 12 & 18970.15 &  0\\\\\n",
       "\\end{tabular}\n"
      ],
      "text/markdown": [
       "\n",
       "A anova: 2 × 5\n",
       "\n",
       "| <!--/--> | Resid. Df &lt;dbl&gt; | Resid. Dev &lt;dbl&gt; | Df &lt;dbl&gt; | Deviance &lt;dbl&gt; | Pr(&gt;Chi) &lt;dbl&gt; |\n",
       "|---|---|---|---|---|---|\n",
       "| 1 | 196672 | 272602.6 | NA |       NA | NA |\n",
       "| 2 | 196660 | 253632.4 | 12 | 18970.15 |  0 |\n",
       "\n"
      ],
      "text/plain": [
       "  Resid. Df Resid. Dev Df Deviance Pr(>Chi)\n",
       "1 196672    272602.6   NA       NA NA      \n",
       "2 196660    253632.4   12 18970.15  0      "
      ]
     },
     "metadata": {},
     "output_type": "display_data"
    },
    {
     "data": {
      "text/plain": [
       "\n",
       "Call:\n",
       "glm(formula = alcday5 ~ sex + educa + poorhlth + marital, family = binomial(link = \"logit\"), \n",
       "    data = mydata)\n",
       "\n",
       "Deviance Residuals: \n",
       "   Min      1Q  Median      3Q     Max  \n",
       "-1.859  -1.105   0.748   1.050   2.312  \n",
       "\n",
       "Coefficients:\n",
       "                                                                    Estimate\n",
       "(Intercept)                                                       -0.6248550\n",
       "sexFemale                                                         -0.4899086\n",
       "educaGrades 1 through 8 (Elementary)                              -0.0046877\n",
       "educaGrades 9 though 11 (Some high school)                         0.3936586\n",
       "educaGrade 12 or GED (High school graduate)                        0.8078907\n",
       "educaCollege 1 year to 3 years (Some college or technical school)  1.1684157\n",
       "educaCollege 4 years or more (College graduate)                    1.6316613\n",
       "poorhlth                                                          -0.0325144\n",
       "maritalDivorced                                                   -0.0789439\n",
       "maritalWidowed                                                    -0.5063184\n",
       "maritalSeparated                                                   0.0088831\n",
       "maritalNever married                                               0.1238331\n",
       "maritalA member of an unmarried couple                             0.5265892\n",
       "                                                                  Std. Error\n",
       "(Intercept)                                                        0.1743573\n",
       "sexFemale                                                          0.0099283\n",
       "educaGrades 1 through 8 (Elementary)                               0.1777181\n",
       "educaGrades 9 though 11 (Some high school)                         0.1753756\n",
       "educaGrade 12 or GED (High school graduate)                        0.1743956\n",
       "educaCollege 1 year to 3 years (Some college or technical school)  0.1743804\n",
       "educaCollege 4 years or more (College graduate)                    0.1743661\n",
       "poorhlth                                                           0.0005458\n",
       "maritalDivorced                                                    0.0134946\n",
       "maritalWidowed                                                     0.0161669\n",
       "maritalSeparated                                                   0.0290426\n",
       "maritalNever married                                               0.0133809\n",
       "maritalA member of an unmarried couple                             0.0279560\n",
       "                                                                  z value\n",
       "(Intercept)                                                        -3.584\n",
       "sexFemale                                                         -49.345\n",
       "educaGrades 1 through 8 (Elementary)                               -0.026\n",
       "educaGrades 9 though 11 (Some high school)                          2.245\n",
       "educaGrade 12 or GED (High school graduate)                         4.633\n",
       "educaCollege 1 year to 3 years (Some college or technical school)   6.700\n",
       "educaCollege 4 years or more (College graduate)                     9.358\n",
       "poorhlth                                                          -59.573\n",
       "maritalDivorced                                                    -5.850\n",
       "maritalWidowed                                                    -31.318\n",
       "maritalSeparated                                                    0.306\n",
       "maritalNever married                                                9.254\n",
       "maritalA member of an unmarried couple                             18.836\n",
       "                                                                              Pr(>|z|)\n",
       "(Intercept)                                                                   0.000339\n",
       "sexFemale                                                         < 0.0000000000000002\n",
       "educaGrades 1 through 8 (Elementary)                                          0.978956\n",
       "educaGrades 9 though 11 (Some high school)                                    0.024790\n",
       "educaGrade 12 or GED (High school graduate)                            0.0000036124360\n",
       "educaCollege 1 year to 3 years (Some college or technical school)      0.0000000000208\n",
       "educaCollege 4 years or more (College graduate)                   < 0.0000000000000002\n",
       "poorhlth                                                          < 0.0000000000000002\n",
       "maritalDivorced                                                        0.0000000049143\n",
       "maritalWidowed                                                    < 0.0000000000000002\n",
       "maritalSeparated                                                              0.759708\n",
       "maritalNever married                                              < 0.0000000000000002\n",
       "maritalA member of an unmarried couple                            < 0.0000000000000002\n",
       "                                                                     \n",
       "(Intercept)                                                       ***\n",
       "sexFemale                                                         ***\n",
       "educaGrades 1 through 8 (Elementary)                                 \n",
       "educaGrades 9 though 11 (Some high school)                        *  \n",
       "educaGrade 12 or GED (High school graduate)                       ***\n",
       "educaCollege 1 year to 3 years (Some college or technical school) ***\n",
       "educaCollege 4 years or more (College graduate)                   ***\n",
       "poorhlth                                                          ***\n",
       "maritalDivorced                                                   ***\n",
       "maritalWidowed                                                    ***\n",
       "maritalSeparated                                                     \n",
       "maritalNever married                                              ***\n",
       "maritalA member of an unmarried couple                            ***\n",
       "---\n",
       "Signif. codes:  0 '***' 0.001 '**' 0.01 '*' 0.05 '.' 0.1 ' ' 1\n",
       "\n",
       "(Dispersion parameter for binomial family taken to be 1)\n",
       "\n",
       "    Null deviance: 272603  on 196672  degrees of freedom\n",
       "Residual deviance: 253632  on 196660  degrees of freedom\n",
       "AIC: 253658\n",
       "\n",
       "Number of Fisher Scoring iterations: 4\n"
      ]
     },
     "metadata": {},
     "output_type": "display_data"
    }
   ],
   "source": [
    "# Model B: Education, Poor health, Sex , Marital\n",
    "z.B = glm(alcday5 ~ sex + educa + poorhlth + marital, data=mydata, family=\"binomial\"(link=\"logit\"))\n",
    "anova(z.null, z.B,test=\"Chi\")\n",
    "summary(z.B)"
   ]
  },
  {
   "cell_type": "code",
   "execution_count": 484,
   "metadata": {},
   "outputs": [
    {
     "data": {
      "text/html": [
       "<table>\n",
       "<caption>A anova: 2 × 5</caption>\n",
       "<thead>\n",
       "\t<tr><th></th><th scope=col>Resid. Df</th><th scope=col>Resid. Dev</th><th scope=col>Df</th><th scope=col>Deviance</th><th scope=col>Pr(&gt;Chi)</th></tr>\n",
       "\t<tr><th></th><th scope=col>&lt;dbl&gt;</th><th scope=col>&lt;dbl&gt;</th><th scope=col>&lt;dbl&gt;</th><th scope=col>&lt;dbl&gt;</th><th scope=col>&lt;dbl&gt;</th></tr>\n",
       "</thead>\n",
       "<tbody>\n",
       "\t<tr><th scope=row>1</th><td>196672</td><td>272602.6</td><td>NA</td><td>      NA</td><td>NA</td></tr>\n",
       "\t<tr><th scope=row>2</th><td>196623</td><td>248967.6</td><td>49</td><td>23634.98</td><td> 0</td></tr>\n",
       "</tbody>\n",
       "</table>\n"
      ],
      "text/latex": [
       "A anova: 2 × 5\n",
       "\\begin{tabular}{r|lllll}\n",
       "  & Resid. Df & Resid. Dev & Df & Deviance & Pr(>Chi)\\\\\n",
       "  & <dbl> & <dbl> & <dbl> & <dbl> & <dbl>\\\\\n",
       "\\hline\n",
       "\t1 & 196672 & 272602.6 & NA &       NA & NA\\\\\n",
       "\t2 & 196623 & 248967.6 & 49 & 23634.98 &  0\\\\\n",
       "\\end{tabular}\n"
      ],
      "text/markdown": [
       "\n",
       "A anova: 2 × 5\n",
       "\n",
       "| <!--/--> | Resid. Df &lt;dbl&gt; | Resid. Dev &lt;dbl&gt; | Df &lt;dbl&gt; | Deviance &lt;dbl&gt; | Pr(&gt;Chi) &lt;dbl&gt; |\n",
       "|---|---|---|---|---|---|\n",
       "| 1 | 196672 | 272602.6 | NA |       NA | NA |\n",
       "| 2 | 196623 | 248967.6 | 49 | 23634.98 |  0 |\n",
       "\n"
      ],
      "text/plain": [
       "  Resid. Df Resid. Dev Df Deviance Pr(>Chi)\n",
       "1 196672    272602.6   NA       NA NA      \n",
       "2 196623    248967.6   49 23634.98  0      "
      ]
     },
     "metadata": {},
     "output_type": "display_data"
    },
    {
     "data": {
      "text/plain": [
       "\n",
       "Call:\n",
       "glm(formula = alcday5 ~ sex + income2 * marital + poorhlth, family = binomial(link = \"logit\"), \n",
       "    data = mydata)\n",
       "\n",
       "Deviance Residuals: \n",
       "    Min       1Q   Median       3Q      Max  \n",
       "-1.9829  -1.0808   0.6808   1.0493   2.1114  \n",
       "\n",
       "Coefficients:\n",
       "                                                                  Estimate\n",
       "(Intercept)                                                     -0.5231745\n",
       "sexFemale                                                       -0.4248721\n",
       "income2Less than $15,000                                        -0.0948914\n",
       "income2Less than $20,000                                         0.0675549\n",
       "income2Less than $25,000                                         0.2915974\n",
       "income2Less than $35,000                                         0.5014397\n",
       "income2Less than $50,000                                         0.8008571\n",
       "income2Less than $75,000                                         1.0823381\n",
       "income2$75,000 or more                                           1.6775012\n",
       "maritalDivorced                                                  0.2791771\n",
       "maritalWidowed                                                  -0.3995759\n",
       "maritalSeparated                                                 0.2507314\n",
       "maritalNever married                                             0.6228964\n",
       "maritalA member of an unmarried couple                           0.7424847\n",
       "poorhlth                                                        -0.0255102\n",
       "income2Less than $15,000:maritalDivorced                         0.0903021\n",
       "income2Less than $20,000:maritalDivorced                         0.1400784\n",
       "income2Less than $25,000:maritalDivorced                         0.1099235\n",
       "income2Less than $35,000:maritalDivorced                         0.1573033\n",
       "income2Less than $50,000:maritalDivorced                         0.1301307\n",
       "income2Less than $75,000:maritalDivorced                         0.1607415\n",
       "income2$75,000 or more:maritalDivorced                          -0.0895462\n",
       "income2Less than $15,000:maritalWidowed                          0.0927315\n",
       "income2Less than $20,000:maritalWidowed                          0.1958584\n",
       "income2Less than $25,000:maritalWidowed                          0.3382509\n",
       "income2Less than $35,000:maritalWidowed                          0.3298543\n",
       "income2Less than $50,000:maritalWidowed                          0.4236261\n",
       "income2Less than $75,000:maritalWidowed                          0.4965813\n",
       "income2$75,000 or more:maritalWidowed                            0.3085863\n",
       "income2Less than $15,000:maritalSeparated                        0.2430306\n",
       "income2Less than $20,000:maritalSeparated                        0.2050918\n",
       "income2Less than $25,000:maritalSeparated                        0.2214842\n",
       "income2Less than $35,000:maritalSeparated                        0.3719943\n",
       "income2Less than $50,000:maritalSeparated                        0.1986973\n",
       "income2Less than $75,000:maritalSeparated                        0.1388559\n",
       "income2$75,000 or more:maritalSeparated                          0.0553049\n",
       "income2Less than $15,000:maritalNever married                    0.1371917\n",
       "income2Less than $20,000:maritalNever married                    0.1927244\n",
       "income2Less than $25,000:maritalNever married                    0.1516275\n",
       "income2Less than $35,000:maritalNever married                    0.0155762\n",
       "income2Less than $50,000:maritalNever married                   -0.0932477\n",
       "income2Less than $75,000:maritalNever married                   -0.1528496\n",
       "income2$75,000 or more:maritalNever married                     -0.6530022\n",
       "income2Less than $15,000:maritalA member of an unmarried couple  0.3036165\n",
       "income2Less than $20,000:maritalA member of an unmarried couple  0.1653272\n",
       "income2Less than $25,000:maritalA member of an unmarried couple  0.1373970\n",
       "income2Less than $35,000:maritalA member of an unmarried couple  0.0970363\n",
       "income2Less than $50,000:maritalA member of an unmarried couple  0.0885439\n",
       "income2Less than $75,000:maritalA member of an unmarried couple  0.1605888\n",
       "income2$75,000 or more:maritalA member of an unmarried couple   -0.0816631\n",
       "                                                                Std. Error\n",
       "(Intercept)                                                      0.0514793\n",
       "sexFemale                                                        0.0100231\n",
       "income2Less than $15,000                                         0.0683274\n",
       "income2Less than $20,000                                         0.0602417\n",
       "income2Less than $25,000                                         0.0566070\n",
       "income2Less than $35,000                                         0.0551203\n",
       "income2Less than $50,000                                         0.0535966\n",
       "income2Less than $75,000                                         0.0531029\n",
       "income2$75,000 or more                                           0.0522554\n",
       "maritalDivorced                                                  0.0605493\n",
       "maritalWidowed                                                   0.0782822\n",
       "maritalSeparated                                                 0.0824029\n",
       "maritalNever married                                             0.0591702\n",
       "maritalA member of an unmarried couple                           0.1009068\n",
       "poorhlth                                                         0.0005599\n",
       "income2Less than $15,000:maritalDivorced                         0.0825384\n",
       "income2Less than $20,000:maritalDivorced                         0.0758596\n",
       "income2Less than $25,000:maritalDivorced                         0.0726499\n",
       "income2Less than $35,000:maritalDivorced                         0.0715613\n",
       "income2Less than $50,000:maritalDivorced                         0.0700993\n",
       "income2Less than $75,000:maritalDivorced                         0.0716439\n",
       "income2$75,000 or more:maritalDivorced                           0.0739971\n",
       "income2Less than $15,000:maritalWidowed                          0.1009558\n",
       "income2Less than $20,000:maritalWidowed                          0.0926876\n",
       "income2Less than $25,000:maritalWidowed                          0.0891208\n",
       "income2Less than $35,000:maritalWidowed                          0.0881446\n",
       "income2Less than $50,000:maritalWidowed                          0.0882982\n",
       "income2Less than $75,000:maritalWidowed                          0.0930296\n",
       "income2$75,000 or more:maritalWidowed                            0.0979151\n",
       "income2Less than $15,000:maritalSeparated                        0.1187341\n",
       "income2Less than $20,000:maritalSeparated                        0.1139084\n",
       "income2Less than $25,000:maritalSeparated                        0.1150681\n",
       "income2Less than $35,000:maritalSeparated                        0.1195414\n",
       "income2Less than $50,000:maritalSeparated                        0.1224829\n",
       "income2Less than $75,000:maritalSeparated                        0.1325912\n",
       "income2$75,000 or more:maritalSeparated                          0.1383174\n",
       "income2Less than $15,000:maritalNever married                    0.0824711\n",
       "income2Less than $20,000:maritalNever married                    0.0746449\n",
       "income2Less than $25,000:maritalNever married                    0.0719070\n",
       "income2Less than $35,000:maritalNever married                    0.0703324\n",
       "income2Less than $50,000:maritalNever married                    0.0689855\n",
       "income2Less than $75,000:maritalNever married                    0.0701043\n",
       "income2$75,000 or more:maritalNever married                      0.0688474\n",
       "income2Less than $15,000:maritalA member of an unmarried couple  0.1418845\n",
       "income2Less than $20,000:maritalA member of an unmarried couple  0.1294600\n",
       "income2Less than $25,000:maritalA member of an unmarried couple  0.1263181\n",
       "income2Less than $35,000:maritalA member of an unmarried couple  0.1288932\n",
       "income2Less than $50,000:maritalA member of an unmarried couple  0.1263471\n",
       "income2Less than $75,000:maritalA member of an unmarried couple  0.1305925\n",
       "income2$75,000 or more:maritalA member of an unmarried couple    0.1233074\n",
       "                                                                z value\n",
       "(Intercept)                                                     -10.163\n",
       "sexFemale                                                       -42.389\n",
       "income2Less than $15,000                                         -1.389\n",
       "income2Less than $20,000                                          1.121\n",
       "income2Less than $25,000                                          5.151\n",
       "income2Less than $35,000                                          9.097\n",
       "income2Less than $50,000                                         14.942\n",
       "income2Less than $75,000                                         20.382\n",
       "income2$75,000 or more                                           32.102\n",
       "maritalDivorced                                                   4.611\n",
       "maritalWidowed                                                   -5.104\n",
       "maritalSeparated                                                  3.043\n",
       "maritalNever married                                             10.527\n",
       "maritalA member of an unmarried couple                            7.358\n",
       "poorhlth                                                        -45.564\n",
       "income2Less than $15,000:maritalDivorced                          1.094\n",
       "income2Less than $20,000:maritalDivorced                          1.847\n",
       "income2Less than $25,000:maritalDivorced                          1.513\n",
       "income2Less than $35,000:maritalDivorced                          2.198\n",
       "income2Less than $50,000:maritalDivorced                          1.856\n",
       "income2Less than $75,000:maritalDivorced                          2.244\n",
       "income2$75,000 or more:maritalDivorced                           -1.210\n",
       "income2Less than $15,000:maritalWidowed                           0.919\n",
       "income2Less than $20,000:maritalWidowed                           2.113\n",
       "income2Less than $25,000:maritalWidowed                           3.795\n",
       "income2Less than $35,000:maritalWidowed                           3.742\n",
       "income2Less than $50,000:maritalWidowed                           4.798\n",
       "income2Less than $75,000:maritalWidowed                           5.338\n",
       "income2$75,000 or more:maritalWidowed                             3.152\n",
       "income2Less than $15,000:maritalSeparated                         2.047\n",
       "income2Less than $20,000:maritalSeparated                         1.800\n",
       "income2Less than $25,000:maritalSeparated                         1.925\n",
       "income2Less than $35,000:maritalSeparated                         3.112\n",
       "income2Less than $50,000:maritalSeparated                         1.622\n",
       "income2Less than $75,000:maritalSeparated                         1.047\n",
       "income2$75,000 or more:maritalSeparated                           0.400\n",
       "income2Less than $15,000:maritalNever married                     1.664\n",
       "income2Less than $20,000:maritalNever married                     2.582\n",
       "income2Less than $25,000:maritalNever married                     2.109\n",
       "income2Less than $35,000:maritalNever married                     0.221\n",
       "income2Less than $50,000:maritalNever married                    -1.352\n",
       "income2Less than $75,000:maritalNever married                    -2.180\n",
       "income2$75,000 or more:maritalNever married                      -9.485\n",
       "income2Less than $15,000:maritalA member of an unmarried couple   2.140\n",
       "income2Less than $20,000:maritalA member of an unmarried couple   1.277\n",
       "income2Less than $25,000:maritalA member of an unmarried couple   1.088\n",
       "income2Less than $35,000:maritalA member of an unmarried couple   0.753\n",
       "income2Less than $50,000:maritalA member of an unmarried couple   0.701\n",
       "income2Less than $75,000:maritalA member of an unmarried couple   1.230\n",
       "income2$75,000 or more:maritalA member of an unmarried couple    -0.662\n",
       "                                                                            Pr(>|z|)\n",
       "(Intercept)                                                     < 0.0000000000000002\n",
       "sexFemale                                                       < 0.0000000000000002\n",
       "income2Less than $15,000                                                    0.164901\n",
       "income2Less than $20,000                                                    0.262118\n",
       "income2Less than $25,000                                           0.000000258745255\n",
       "income2Less than $35,000                                        < 0.0000000000000002\n",
       "income2Less than $50,000                                        < 0.0000000000000002\n",
       "income2Less than $75,000                                        < 0.0000000000000002\n",
       "income2$75,000 or more                                          < 0.0000000000000002\n",
       "maritalDivorced                                                    0.000004012428367\n",
       "maritalWidowed                                                     0.000000332020939\n",
       "maritalSeparated                                                            0.002344\n",
       "maritalNever married                                            < 0.0000000000000002\n",
       "maritalA member of an unmarried couple                             0.000000000000187\n",
       "poorhlth                                                        < 0.0000000000000002\n",
       "income2Less than $15,000:maritalDivorced                                    0.273928\n",
       "income2Less than $20,000:maritalDivorced                                    0.064813\n",
       "income2Less than $25,000:maritalDivorced                                    0.130265\n",
       "income2Less than $35,000:maritalDivorced                                    0.027938\n",
       "income2Less than $50,000:maritalDivorced                                    0.063400\n",
       "income2Less than $75,000:maritalDivorced                                    0.024857\n",
       "income2$75,000 or more:maritalDivorced                                      0.226229\n",
       "income2Less than $15,000:maritalWidowed                                     0.358339\n",
       "income2Less than $20,000:maritalWidowed                                     0.034592\n",
       "income2Less than $25,000:maritalWidowed                                     0.000147\n",
       "income2Less than $35,000:maritalWidowed                                     0.000182\n",
       "income2Less than $50,000:maritalWidowed                            0.000001605156182\n",
       "income2Less than $75,000:maritalWidowed                            0.000000094038418\n",
       "income2$75,000 or more:maritalWidowed                                       0.001624\n",
       "income2Less than $15,000:maritalSeparated                                   0.040673\n",
       "income2Less than $20,000:maritalSeparated                                   0.071782\n",
       "income2Less than $25,000:maritalSeparated                                   0.054253\n",
       "income2Less than $35,000:maritalSeparated                                   0.001859\n",
       "income2Less than $50,000:maritalSeparated                                   0.104751\n",
       "income2Less than $75,000:maritalSeparated                                   0.294985\n",
       "income2$75,000 or more:maritalSeparated                                     0.689274\n",
       "income2Less than $15,000:maritalNever married                               0.096210\n",
       "income2Less than $20,000:maritalNever married                               0.009826\n",
       "income2Less than $25,000:maritalNever married                               0.034974\n",
       "income2Less than $35,000:maritalNever married                               0.824730\n",
       "income2Less than $50,000:maritalNever married                               0.176471\n",
       "income2Less than $75,000:maritalNever married                               0.029234\n",
       "income2$75,000 or more:maritalNever married                     < 0.0000000000000002\n",
       "income2Less than $15,000:maritalA member of an unmarried couple             0.032364\n",
       "income2Less than $20,000:maritalA member of an unmarried couple             0.201584\n",
       "income2Less than $25,000:maritalA member of an unmarried couple             0.276725\n",
       "income2Less than $35,000:maritalA member of an unmarried couple             0.451544\n",
       "income2Less than $50,000:maritalA member of an unmarried couple             0.483429\n",
       "income2Less than $75,000:maritalA member of an unmarried couple             0.218812\n",
       "income2$75,000 or more:maritalA member of an unmarried couple               0.507797\n",
       "                                                                   \n",
       "(Intercept)                                                     ***\n",
       "sexFemale                                                       ***\n",
       "income2Less than $15,000                                           \n",
       "income2Less than $20,000                                           \n",
       "income2Less than $25,000                                        ***\n",
       "income2Less than $35,000                                        ***\n",
       "income2Less than $50,000                                        ***\n",
       "income2Less than $75,000                                        ***\n",
       "income2$75,000 or more                                          ***\n",
       "maritalDivorced                                                 ***\n",
       "maritalWidowed                                                  ***\n",
       "maritalSeparated                                                ** \n",
       "maritalNever married                                            ***\n",
       "maritalA member of an unmarried couple                          ***\n",
       "poorhlth                                                        ***\n",
       "income2Less than $15,000:maritalDivorced                           \n",
       "income2Less than $20,000:maritalDivorced                        .  \n",
       "income2Less than $25,000:maritalDivorced                           \n",
       "income2Less than $35,000:maritalDivorced                        *  \n",
       "income2Less than $50,000:maritalDivorced                        .  \n",
       "income2Less than $75,000:maritalDivorced                        *  \n",
       "income2$75,000 or more:maritalDivorced                             \n",
       "income2Less than $15,000:maritalWidowed                            \n",
       "income2Less than $20,000:maritalWidowed                         *  \n",
       "income2Less than $25,000:maritalWidowed                         ***\n",
       "income2Less than $35,000:maritalWidowed                         ***\n",
       "income2Less than $50,000:maritalWidowed                         ***\n",
       "income2Less than $75,000:maritalWidowed                         ***\n",
       "income2$75,000 or more:maritalWidowed                           ** \n",
       "income2Less than $15,000:maritalSeparated                       *  \n",
       "income2Less than $20,000:maritalSeparated                       .  \n",
       "income2Less than $25,000:maritalSeparated                       .  \n",
       "income2Less than $35,000:maritalSeparated                       ** \n",
       "income2Less than $50,000:maritalSeparated                          \n",
       "income2Less than $75,000:maritalSeparated                          \n",
       "income2$75,000 or more:maritalSeparated                            \n",
       "income2Less than $15,000:maritalNever married                   .  \n",
       "income2Less than $20,000:maritalNever married                   ** \n",
       "income2Less than $25,000:maritalNever married                   *  \n",
       "income2Less than $35,000:maritalNever married                      \n",
       "income2Less than $50,000:maritalNever married                      \n",
       "income2Less than $75,000:maritalNever married                   *  \n",
       "income2$75,000 or more:maritalNever married                     ***\n",
       "income2Less than $15,000:maritalA member of an unmarried couple *  \n",
       "income2Less than $20,000:maritalA member of an unmarried couple    \n",
       "income2Less than $25,000:maritalA member of an unmarried couple    \n",
       "income2Less than $35,000:maritalA member of an unmarried couple    \n",
       "income2Less than $50,000:maritalA member of an unmarried couple    \n",
       "income2Less than $75,000:maritalA member of an unmarried couple    \n",
       "income2$75,000 or more:maritalA member of an unmarried couple      \n",
       "---\n",
       "Signif. codes:  0 '***' 0.001 '**' 0.01 '*' 0.05 '.' 0.1 ' ' 1\n",
       "\n",
       "(Dispersion parameter for binomial family taken to be 1)\n",
       "\n",
       "    Null deviance: 272603  on 196672  degrees of freedom\n",
       "Residual deviance: 248968  on 196623  degrees of freedom\n",
       "AIC: 249068\n",
       "\n",
       "Number of Fisher Scoring iterations: 4\n"
      ]
     },
     "metadata": {},
     "output_type": "display_data"
    }
   ],
   "source": [
    "# Model C: Income*Marital, Poor health, Sex , Marital\n",
    "z.C = glm(alcday5 ~ sex + income2*marital + poorhlth , data=mydata, family=\"binomial\"(link=\"logit\"))\n",
    "anova(z.null, z.C,test=\"Chi\")\n",
    "summary(z.C)"
   ]
  },
  {
   "cell_type": "code",
   "execution_count": 485,
   "metadata": {
    "scrolled": true
   },
   "outputs": [
    {
     "data": {
      "text/html": [
       "<table>\n",
       "<caption>A anova: 2 × 5</caption>\n",
       "<thead>\n",
       "\t<tr><th></th><th scope=col>Resid. Df</th><th scope=col>Resid. Dev</th><th scope=col>Df</th><th scope=col>Deviance</th><th scope=col>Pr(&gt;Chi)</th></tr>\n",
       "\t<tr><th></th><th scope=col>&lt;dbl&gt;</th><th scope=col>&lt;dbl&gt;</th><th scope=col>&lt;dbl&gt;</th><th scope=col>&lt;dbl&gt;</th><th scope=col>&lt;dbl&gt;</th></tr>\n",
       "</thead>\n",
       "<tbody>\n",
       "\t<tr><th scope=row>1</th><td>196672</td><td>272602.6</td><td>NA</td><td>      NA</td><td>NA</td></tr>\n",
       "\t<tr><th scope=row>2</th><td>196653</td><td>249444.0</td><td>19</td><td>23158.54</td><td> 0</td></tr>\n",
       "</tbody>\n",
       "</table>\n"
      ],
      "text/latex": [
       "A anova: 2 × 5\n",
       "\\begin{tabular}{r|lllll}\n",
       "  & Resid. Df & Resid. Dev & Df & Deviance & Pr(>Chi)\\\\\n",
       "  & <dbl> & <dbl> & <dbl> & <dbl> & <dbl>\\\\\n",
       "\\hline\n",
       "\t1 & 196672 & 272602.6 & NA &       NA & NA\\\\\n",
       "\t2 & 196653 & 249444.0 & 19 & 23158.54 &  0\\\\\n",
       "\\end{tabular}\n"
      ],
      "text/markdown": [
       "\n",
       "A anova: 2 × 5\n",
       "\n",
       "| <!--/--> | Resid. Df &lt;dbl&gt; | Resid. Dev &lt;dbl&gt; | Df &lt;dbl&gt; | Deviance &lt;dbl&gt; | Pr(&gt;Chi) &lt;dbl&gt; |\n",
       "|---|---|---|---|---|---|\n",
       "| 1 | 196672 | 272602.6 | NA |       NA | NA |\n",
       "| 2 | 196653 | 249444.0 | 19 | 23158.54 |  0 |\n",
       "\n"
      ],
      "text/plain": [
       "  Resid. Df Resid. Dev Df Deviance Pr(>Chi)\n",
       "1 196672    272602.6   NA       NA NA      \n",
       "2 196653    249444.0   19 23158.54  0      "
      ]
     },
     "metadata": {},
     "output_type": "display_data"
    },
    {
     "data": {
      "text/plain": [
       "\n",
       "Call:\n",
       "glm(formula = alcday5 ~ sex + income2 + poorhlth * marital, family = binomial(link = \"logit\"), \n",
       "    data = mydata)\n",
       "\n",
       "Deviance Residuals: \n",
       "    Min       1Q   Median       3Q      Max  \n",
       "-2.0261  -1.0742   0.5933   1.0473   1.9910  \n",
       "\n",
       "Coefficients:\n",
       "                                                 Estimate Std. Error z value\n",
       "(Intercept)                                     -0.554148   0.022075 -25.103\n",
       "sexFemale                                       -0.424056   0.010007 -42.375\n",
       "income2Less than $15,000                        -0.008626   0.025438  -0.339\n",
       "income2Less than $20,000                         0.184815   0.024106   7.667\n",
       "income2Less than $25,000                         0.405640   0.023410  17.328\n",
       "income2Less than $35,000                         0.594408   0.023094  25.738\n",
       "income2Less than $50,000                         0.868218   0.022559  38.486\n",
       "income2Less than $75,000                         1.141434   0.022785  50.095\n",
       "income2$75,000 or more                           1.656423   0.022308  74.254\n",
       "poorhlth                                        -0.028235   0.000835 -33.816\n",
       "maritalDivorced                                  0.330173   0.016613  19.875\n",
       "maritalWidowed                                  -0.189648   0.019195  -9.880\n",
       "maritalSeparated                                 0.398172   0.035871  11.100\n",
       "maritalNever married                             0.545684   0.016054  33.991\n",
       "maritalA member of an unmarried couple           0.812837   0.032620  24.918\n",
       "poorhlth:maritalDivorced                         0.003639   0.001428   2.548\n",
       "poorhlth:maritalWidowed                          0.008677   0.001736   4.999\n",
       "poorhlth:maritalSeparated                        0.001582   0.002890   0.547\n",
       "poorhlth:maritalNever married                    0.003676   0.001651   2.226\n",
       "poorhlth:maritalA member of an unmarried couple  0.002040   0.003287   0.621\n",
       "                                                            Pr(>|z|)    \n",
       "(Intercept)                                     < 0.0000000000000002 ***\n",
       "sexFemale                                       < 0.0000000000000002 ***\n",
       "income2Less than $15,000                                      0.7345    \n",
       "income2Less than $20,000                          0.0000000000000177 ***\n",
       "income2Less than $25,000                        < 0.0000000000000002 ***\n",
       "income2Less than $35,000                        < 0.0000000000000002 ***\n",
       "income2Less than $50,000                        < 0.0000000000000002 ***\n",
       "income2Less than $75,000                        < 0.0000000000000002 ***\n",
       "income2$75,000 or more                          < 0.0000000000000002 ***\n",
       "poorhlth                                        < 0.0000000000000002 ***\n",
       "maritalDivorced                                 < 0.0000000000000002 ***\n",
       "maritalWidowed                                  < 0.0000000000000002 ***\n",
       "maritalSeparated                                < 0.0000000000000002 ***\n",
       "maritalNever married                            < 0.0000000000000002 ***\n",
       "maritalA member of an unmarried couple          < 0.0000000000000002 ***\n",
       "poorhlth:maritalDivorced                                      0.0108 *  \n",
       "poorhlth:maritalWidowed                           0.0000005751873528 ***\n",
       "poorhlth:maritalSeparated                                     0.5842    \n",
       "poorhlth:maritalNever married                                 0.0260 *  \n",
       "poorhlth:maritalA member of an unmarried couple               0.5349    \n",
       "---\n",
       "Signif. codes:  0 '***' 0.001 '**' 0.01 '*' 0.05 '.' 0.1 ' ' 1\n",
       "\n",
       "(Dispersion parameter for binomial family taken to be 1)\n",
       "\n",
       "    Null deviance: 272603  on 196672  degrees of freedom\n",
       "Residual deviance: 249444  on 196653  degrees of freedom\n",
       "AIC: 249484\n",
       "\n",
       "Number of Fisher Scoring iterations: 4\n"
      ]
     },
     "metadata": {},
     "output_type": "display_data"
    }
   ],
   "source": [
    "# Model D: Income, Poor health*Marital, Sex , Marital\n",
    "z.D = glm(alcday5 ~ sex + income2 + poorhlth*marital , data=mydata, family=\"binomial\"(link=\"logit\"))\n",
    "anova(z.null, z.D,test=\"Chi\")\n",
    "summary(z.D)"
   ]
  },
  {
   "cell_type": "code",
   "execution_count": 486,
   "metadata": {
    "scrolled": true
   },
   "outputs": [
    {
     "data": {
      "text/html": [
       "<table>\n",
       "<caption>A anova: 2 × 5</caption>\n",
       "<thead>\n",
       "\t<tr><th></th><th scope=col>Resid. Df</th><th scope=col>Resid. Dev</th><th scope=col>Df</th><th scope=col>Deviance</th><th scope=col>Pr(&gt;Chi)</th></tr>\n",
       "\t<tr><th></th><th scope=col>&lt;dbl&gt;</th><th scope=col>&lt;dbl&gt;</th><th scope=col>&lt;dbl&gt;</th><th scope=col>&lt;dbl&gt;</th><th scope=col>&lt;dbl&gt;</th></tr>\n",
       "</thead>\n",
       "<tbody>\n",
       "\t<tr><th scope=row>1</th><td>196672</td><td>272602.6</td><td>NA</td><td>      NA</td><td>NA</td></tr>\n",
       "\t<tr><th scope=row>2</th><td>196651</td><td>247457.9</td><td>21</td><td>25144.69</td><td> 0</td></tr>\n",
       "</tbody>\n",
       "</table>\n"
      ],
      "text/latex": [
       "A anova: 2 × 5\n",
       "\\begin{tabular}{r|lllll}\n",
       "  & Resid. Df & Resid. Dev & Df & Deviance & Pr(>Chi)\\\\\n",
       "  & <dbl> & <dbl> & <dbl> & <dbl> & <dbl>\\\\\n",
       "\\hline\n",
       "\t1 & 196672 & 272602.6 & NA &       NA & NA\\\\\n",
       "\t2 & 196651 & 247457.9 & 21 & 25144.69 &  0\\\\\n",
       "\\end{tabular}\n"
      ],
      "text/markdown": [
       "\n",
       "A anova: 2 × 5\n",
       "\n",
       "| <!--/--> | Resid. Df &lt;dbl&gt; | Resid. Dev &lt;dbl&gt; | Df &lt;dbl&gt; | Deviance &lt;dbl&gt; | Pr(&gt;Chi) &lt;dbl&gt; |\n",
       "|---|---|---|---|---|---|\n",
       "| 1 | 196672 | 272602.6 | NA |       NA | NA |\n",
       "| 2 | 196651 | 247457.9 | 21 | 25144.69 |  0 |\n",
       "\n"
      ],
      "text/plain": [
       "  Resid. Df Resid. Dev Df Deviance Pr(>Chi)\n",
       "1 196672    272602.6   NA       NA NA      \n",
       "2 196651    247457.9   21 25144.69  0      "
      ]
     },
     "metadata": {},
     "output_type": "display_data"
    },
    {
     "data": {
      "text/plain": [
       "\n",
       "Call:\n",
       "glm(formula = alcday5 ~ sex * income2 + physhlth + marital, family = binomial(link = \"logit\"), \n",
       "    data = mydata)\n",
       "\n",
       "Deviance Residuals: \n",
       "    Min       1Q   Median       3Q      Max  \n",
       "-2.0212  -1.0615   0.6138   1.0382   2.0359  \n",
       "\n",
       "Coefficients:\n",
       "                                         Estimate Std. Error z value\n",
       "(Intercept)                            -0.2644799  0.0325206  -8.133\n",
       "sexFemale                              -0.6636006  0.0379743 -17.475\n",
       "income2Less than $15,000               -0.0525071  0.0424577  -1.237\n",
       "income2Less than $20,000                0.1511411  0.0400624   3.773\n",
       "income2Less than $25,000                0.2861911  0.0388963   7.358\n",
       "income2Less than $35,000                0.4499610  0.0380021  11.840\n",
       "income2Less than $50,000                0.6571395  0.0366916  17.910\n",
       "income2Less than $75,000                0.9098728  0.0368528  24.689\n",
       "income2$75,000 or more                  1.3878877  0.0354781  39.120\n",
       "physhlth                               -0.0304482  0.0004828 -63.061\n",
       "maritalDivorced                         0.3509215  0.0145955  24.043\n",
       "maritalWidowed                         -0.0963424  0.0171126  -5.630\n",
       "maritalSeparated                        0.3896433  0.0300544  12.965\n",
       "maritalNever married                    0.5078868  0.0145262  34.964\n",
       "maritalA member of an unmarried couple  0.7803468  0.0287197  27.171\n",
       "sexFemale:income2Less than $15,000      0.0861906  0.0532535   1.618\n",
       "sexFemale:income2Less than $20,000      0.0511785  0.0501924   1.020\n",
       "sexFemale:income2Less than $25,000      0.1652713  0.0484350   3.412\n",
       "sexFemale:income2Less than $35,000      0.1986798  0.0473086   4.200\n",
       "sexFemale:income2Less than $50,000      0.2877728  0.0455598   6.316\n",
       "sexFemale:income2Less than $75,000      0.2968804  0.0454603   6.531\n",
       "sexFemale:income2$75,000 or more        0.3334697  0.0433260   7.697\n",
       "                                                   Pr(>|z|)    \n",
       "(Intercept)                             0.00000000000000042 ***\n",
       "sexFemale                              < 0.0000000000000002 ***\n",
       "income2Less than $15,000                           0.216201    \n",
       "income2Less than $20,000                           0.000162 ***\n",
       "income2Less than $25,000                0.00000000000018698 ***\n",
       "income2Less than $35,000               < 0.0000000000000002 ***\n",
       "income2Less than $50,000               < 0.0000000000000002 ***\n",
       "income2Less than $75,000               < 0.0000000000000002 ***\n",
       "income2$75,000 or more                 < 0.0000000000000002 ***\n",
       "physhlth                               < 0.0000000000000002 ***\n",
       "maritalDivorced                        < 0.0000000000000002 ***\n",
       "maritalWidowed                          0.00000001803022253 ***\n",
       "maritalSeparated                       < 0.0000000000000002 ***\n",
       "maritalNever married                   < 0.0000000000000002 ***\n",
       "maritalA member of an unmarried couple < 0.0000000000000002 ***\n",
       "sexFemale:income2Less than $15,000                 0.105556    \n",
       "sexFemale:income2Less than $20,000                 0.307896    \n",
       "sexFemale:income2Less than $25,000                 0.000644 ***\n",
       "sexFemale:income2Less than $35,000      0.00002673197146876 ***\n",
       "sexFemale:income2Less than $50,000      0.00000000026776723 ***\n",
       "sexFemale:income2Less than $75,000      0.00000000006553136 ***\n",
       "sexFemale:income2$75,000 or more        0.00000000000001396 ***\n",
       "---\n",
       "Signif. codes:  0 '***' 0.001 '**' 0.01 '*' 0.05 '.' 0.1 ' ' 1\n",
       "\n",
       "(Dispersion parameter for binomial family taken to be 1)\n",
       "\n",
       "    Null deviance: 272603  on 196672  degrees of freedom\n",
       "Residual deviance: 247458  on 196651  degrees of freedom\n",
       "AIC: 247502\n",
       "\n",
       "Number of Fisher Scoring iterations: 4\n"
      ]
     },
     "metadata": {},
     "output_type": "display_data"
    }
   ],
   "source": [
    "# Model E: Income*sex + Marital, Physical health health , Marital\n",
    "z.E = glm(alcday5 ~ sex * income2 + physhlth + marital , data=mydata, family=\"binomial\"(link=\"logit\"))\n",
    "anova(z.null, z.E,test=\"Chi\")\n",
    "summary(z.E)"
   ]
  },
  {
   "cell_type": "code",
   "execution_count": 487,
   "metadata": {},
   "outputs": [
    {
     "data": {
      "text/html": [
       "<table>\n",
       "<caption>A anova: 2 × 5</caption>\n",
       "<thead>\n",
       "\t<tr><th></th><th scope=col>Resid. Df</th><th scope=col>Resid. Dev</th><th scope=col>Df</th><th scope=col>Deviance</th><th scope=col>Pr(&gt;Chi)</th></tr>\n",
       "\t<tr><th></th><th scope=col>&lt;dbl&gt;</th><th scope=col>&lt;dbl&gt;</th><th scope=col>&lt;dbl&gt;</th><th scope=col>&lt;dbl&gt;</th><th scope=col>&lt;dbl&gt;</th></tr>\n",
       "</thead>\n",
       "<tbody>\n",
       "\t<tr><th scope=row>1</th><td>196672</td><td>272602.6</td><td>NA</td><td>      NA</td><td>NA</td></tr>\n",
       "\t<tr><th scope=row>2</th><td>196651</td><td>249341.8</td><td>21</td><td>23260.81</td><td> 0</td></tr>\n",
       "</tbody>\n",
       "</table>\n"
      ],
      "text/latex": [
       "A anova: 2 × 5\n",
       "\\begin{tabular}{r|lllll}\n",
       "  & Resid. Df & Resid. Dev & Df & Deviance & Pr(>Chi)\\\\\n",
       "  & <dbl> & <dbl> & <dbl> & <dbl> & <dbl>\\\\\n",
       "\\hline\n",
       "\t1 & 196672 & 272602.6 & NA &       NA & NA\\\\\n",
       "\t2 & 196651 & 249341.8 & 21 & 23260.81 &  0\\\\\n",
       "\\end{tabular}\n"
      ],
      "text/markdown": [
       "\n",
       "A anova: 2 × 5\n",
       "\n",
       "| <!--/--> | Resid. Df &lt;dbl&gt; | Resid. Dev &lt;dbl&gt; | Df &lt;dbl&gt; | Deviance &lt;dbl&gt; | Pr(&gt;Chi) &lt;dbl&gt; |\n",
       "|---|---|---|---|---|---|\n",
       "| 1 | 196672 | 272602.6 | NA |       NA | NA |\n",
       "| 2 | 196651 | 249341.8 | 21 | 23260.81 |  0 |\n",
       "\n"
      ],
      "text/plain": [
       "  Resid. Df Resid. Dev Df Deviance Pr(>Chi)\n",
       "1 196672    272602.6   NA       NA NA      \n",
       "2 196651    249341.8   21 23260.81  0      "
      ]
     },
     "metadata": {},
     "output_type": "display_data"
    },
    {
     "data": {
      "text/plain": [
       "\n",
       "Call:\n",
       "glm(formula = alcday5 ~ sex * income2 + poorhlth + marital, family = binomial(link = \"logit\"), \n",
       "    data = mydata)\n",
       "\n",
       "Deviance Residuals: \n",
       "    Min       1Q   Median       3Q      Max  \n",
       "-1.9965  -1.0772   0.6108   1.0607   2.0532  \n",
       "\n",
       "Coefficients:\n",
       "                                         Estimate Std. Error z value\n",
       "(Intercept)                            -0.4073746  0.0322408 -12.635\n",
       "sexFemale                              -0.6629731  0.0377948 -17.541\n",
       "income2Less than $15,000               -0.0806740  0.0422375  -1.910\n",
       "income2Less than $20,000                0.1295797  0.0398608   3.251\n",
       "income2Less than $25,000                0.2802760  0.0387135   7.240\n",
       "income2Less than $35,000                0.4417004  0.0378366  11.674\n",
       "income2Less than $50,000                0.6634726  0.0365498  18.153\n",
       "income2Less than $75,000                0.9330522  0.0367223  25.408\n",
       "income2$75,000 or more                  1.4330531  0.0353643  40.523\n",
       "poorhlth                               -0.0258101  0.0005582 -46.238\n",
       "maritalDivorced                         0.3518619  0.0145190  24.235\n",
       "maritalWidowed                         -0.1336400  0.0170082  -7.857\n",
       "maritalSeparated                        0.4117167  0.0299062  13.767\n",
       "maritalNever married                    0.5587931  0.0144370  38.706\n",
       "maritalA member of an unmarried couple  0.8207928  0.0286226  28.676\n",
       "sexFemale:income2Less than $15,000      0.1029376  0.0529918   1.943\n",
       "sexFemale:income2Less than $20,000      0.0714900  0.0499317   1.432\n",
       "sexFemale:income2Less than $25,000      0.1824831  0.0481853   3.787\n",
       "sexFemale:income2Less than $35,000      0.2246854  0.0470562   4.775\n",
       "sexFemale:income2Less than $50,000      0.3114538  0.0453242   6.872\n",
       "sexFemale:income2Less than $75,000      0.3194360  0.0452407   7.061\n",
       "sexFemale:income2$75,000 or more        0.3488249  0.0431315   8.087\n",
       "                                                   Pr(>|z|)    \n",
       "(Intercept)                            < 0.0000000000000002 ***\n",
       "sexFemale                              < 0.0000000000000002 ***\n",
       "income2Less than $15,000                           0.056132 .  \n",
       "income2Less than $20,000                           0.001151 ** \n",
       "income2Less than $25,000               0.000000000000449536 ***\n",
       "income2Less than $35,000               < 0.0000000000000002 ***\n",
       "income2Less than $50,000               < 0.0000000000000002 ***\n",
       "income2Less than $75,000               < 0.0000000000000002 ***\n",
       "income2$75,000 or more                 < 0.0000000000000002 ***\n",
       "poorhlth                               < 0.0000000000000002 ***\n",
       "maritalDivorced                        < 0.0000000000000002 ***\n",
       "maritalWidowed                         0.000000000000003922 ***\n",
       "maritalSeparated                       < 0.0000000000000002 ***\n",
       "maritalNever married                   < 0.0000000000000002 ***\n",
       "maritalA member of an unmarried couple < 0.0000000000000002 ***\n",
       "sexFemale:income2Less than $15,000                 0.052074 .  \n",
       "sexFemale:income2Less than $20,000                 0.152214    \n",
       "sexFemale:income2Less than $25,000                 0.000152 ***\n",
       "sexFemale:income2Less than $35,000     0.000001798580633316 ***\n",
       "sexFemale:income2Less than $50,000     0.000000000006344805 ***\n",
       "sexFemale:income2Less than $75,000     0.000000000001655443 ***\n",
       "sexFemale:income2$75,000 or more       0.000000000000000609 ***\n",
       "---\n",
       "Signif. codes:  0 '***' 0.001 '**' 0.01 '*' 0.05 '.' 0.1 ' ' 1\n",
       "\n",
       "(Dispersion parameter for binomial family taken to be 1)\n",
       "\n",
       "    Null deviance: 272603  on 196672  degrees of freedom\n",
       "Residual deviance: 249342  on 196651  degrees of freedom\n",
       "AIC: 249386\n",
       "\n",
       "Number of Fisher Scoring iterations: 4\n"
      ]
     },
     "metadata": {},
     "output_type": "display_data"
    }
   ],
   "source": [
    "# Model F: Income*sex + Marital, Poor health , Marital\n",
    "z.F = glm(alcday5 ~ sex * income2 + poorhlth + marital , data=mydata, family=\"binomial\"(link=\"logit\"))\n",
    "anova(z.null, z.F,test=\"Chi\")\n",
    "summary(z.F)"
   ]
  },
  {
   "cell_type": "markdown",
   "metadata": {},
   "source": [
    "### Compare the AIC values for the models that you tried."
   ]
  },
  {
   "cell_type": "code",
   "execution_count": 491,
   "metadata": {},
   "outputs": [
    {
     "data": {
      "text/html": [
       "<table>\n",
       "<caption>A anova: 2 × 5</caption>\n",
       "<thead>\n",
       "\t<tr><th></th><th scope=col>Resid. Df</th><th scope=col>Resid. Dev</th><th scope=col>Df</th><th scope=col>Deviance</th><th scope=col>Pr(&gt;Chi)</th></tr>\n",
       "\t<tr><th></th><th scope=col>&lt;dbl&gt;</th><th scope=col>&lt;dbl&gt;</th><th scope=col>&lt;dbl&gt;</th><th scope=col>&lt;dbl&gt;</th><th scope=col>&lt;dbl&gt;</th></tr>\n",
       "</thead>\n",
       "<tbody>\n",
       "\t<tr><th scope=row>1</th><td>196672</td><td>272602.6</td><td>NA</td><td>      NA</td><td>NA</td></tr>\n",
       "\t<tr><th scope=row>2</th><td>196657</td><td>247514.3</td><td>15</td><td>25088.29</td><td> 0</td></tr>\n",
       "</tbody>\n",
       "</table>\n"
      ],
      "text/latex": [
       "A anova: 2 × 5\n",
       "\\begin{tabular}{r|lllll}\n",
       "  & Resid. Df & Resid. Dev & Df & Deviance & Pr(>Chi)\\\\\n",
       "  & <dbl> & <dbl> & <dbl> & <dbl> & <dbl>\\\\\n",
       "\\hline\n",
       "\t1 & 196672 & 272602.6 & NA &       NA & NA\\\\\n",
       "\t2 & 196657 & 247514.3 & 15 & 25088.29 &  0\\\\\n",
       "\\end{tabular}\n"
      ],
      "text/markdown": [
       "\n",
       "A anova: 2 × 5\n",
       "\n",
       "| <!--/--> | Resid. Df &lt;dbl&gt; | Resid. Dev &lt;dbl&gt; | Df &lt;dbl&gt; | Deviance &lt;dbl&gt; | Pr(&gt;Chi) &lt;dbl&gt; |\n",
       "|---|---|---|---|---|---|\n",
       "| 1 | 196672 | 272602.6 | NA |       NA | NA |\n",
       "| 2 | 196657 | 247514.3 | 15 | 25088.29 |  0 |\n",
       "\n"
      ],
      "text/plain": [
       "  Resid. Df Resid. Dev Df Deviance Pr(>Chi)\n",
       "1 196672    272602.6   NA       NA NA      \n",
       "2 196657    247514.3   15 25088.29  0      "
      ]
     },
     "metadata": {},
     "output_type": "display_data"
    },
    {
     "data": {
      "text/plain": [
       "\n",
       "Call:\n",
       "glm(formula = alcday5 ~ sex * physhlth + income2 + marital, family = binomial(link = \"logit\"), \n",
       "    data = mydata)\n",
       "\n",
       "Deviance Residuals: \n",
       "   Min      1Q  Median      3Q     Max  \n",
       "-2.035  -1.070   0.602   1.042   2.036  \n",
       "\n",
       "Coefficients:\n",
       "                                         Estimate Std. Error z value\n",
       "(Intercept)                            -0.4427954  0.0228263 -19.398\n",
       "sexFemale                              -0.3812663  0.0126102 -30.235\n",
       "physhlth                               -0.0259412  0.0007296 -35.553\n",
       "income2Less than $15,000                0.0048475  0.0255823   0.189\n",
       "income2Less than $20,000                0.1864673  0.0241768   7.713\n",
       "income2Less than $25,000                0.3922858  0.0234420  16.734\n",
       "income2Less than $35,000                0.5768140  0.0230779  24.994\n",
       "income2Less than $50,000                0.8384552  0.0225382  37.202\n",
       "income2Less than $75,000                1.0968758  0.0227857  48.139\n",
       "income2$75,000 or more                  1.5976991  0.0223395  71.519\n",
       "maritalDivorced                         0.3472865  0.0145796  23.820\n",
       "maritalWidowed                         -0.1049371  0.0170548  -6.153\n",
       "maritalSeparated                        0.3810525  0.0299908  12.706\n",
       "maritalNever married                    0.5131568  0.0145240  35.332\n",
       "maritalA member of an unmarried couple  0.7813843  0.0286867  27.239\n",
       "sexFemale:physhlth                     -0.0077090  0.0009525  -8.093\n",
       "                                                   Pr(>|z|)    \n",
       "(Intercept)                            < 0.0000000000000002 ***\n",
       "sexFemale                              < 0.0000000000000002 ***\n",
       "physhlth                               < 0.0000000000000002 ***\n",
       "income2Less than $15,000                               0.85    \n",
       "income2Less than $20,000               0.000000000000012324 ***\n",
       "income2Less than $25,000               < 0.0000000000000002 ***\n",
       "income2Less than $35,000               < 0.0000000000000002 ***\n",
       "income2Less than $50,000               < 0.0000000000000002 ***\n",
       "income2Less than $75,000               < 0.0000000000000002 ***\n",
       "income2$75,000 or more                 < 0.0000000000000002 ***\n",
       "maritalDivorced                        < 0.0000000000000002 ***\n",
       "maritalWidowed                         0.000000000760695955 ***\n",
       "maritalSeparated                       < 0.0000000000000002 ***\n",
       "maritalNever married                   < 0.0000000000000002 ***\n",
       "maritalA member of an unmarried couple < 0.0000000000000002 ***\n",
       "sexFemale:physhlth                     0.000000000000000581 ***\n",
       "---\n",
       "Signif. codes:  0 '***' 0.001 '**' 0.01 '*' 0.05 '.' 0.1 ' ' 1\n",
       "\n",
       "(Dispersion parameter for binomial family taken to be 1)\n",
       "\n",
       "    Null deviance: 272603  on 196672  degrees of freedom\n",
       "Residual deviance: 247514  on 196657  degrees of freedom\n",
       "AIC: 247546\n",
       "\n",
       "Number of Fisher Scoring iterations: 4\n"
      ]
     },
     "metadata": {},
     "output_type": "display_data"
    }
   ],
   "source": [
    "# Model G: Income + Marital, Physical health*sex , Marital\n",
    "z.G = glm(alcday5 ~ sex * physhlth +income2 + marital  , data=mydata, family=\"binomial\"(link=\"logit\"))\n",
    "anova(z.null, z.G,test=\"Chi\")\n",
    "summary(z.G)"
   ]
  },
  {
   "cell_type": "code",
   "execution_count": 492,
   "metadata": {},
   "outputs": [
    {
     "data": {
      "text/html": [
       "<table>\n",
       "<caption>A anova: 2 × 5</caption>\n",
       "<thead>\n",
       "\t<tr><th></th><th scope=col>Resid. Df</th><th scope=col>Resid. Dev</th><th scope=col>Df</th><th scope=col>Deviance</th><th scope=col>Pr(&gt;Chi)</th></tr>\n",
       "\t<tr><th></th><th scope=col>&lt;dbl&gt;</th><th scope=col>&lt;dbl&gt;</th><th scope=col>&lt;dbl&gt;</th><th scope=col>&lt;dbl&gt;</th><th scope=col>&lt;dbl&gt;</th></tr>\n",
       "</thead>\n",
       "<tbody>\n",
       "\t<tr><th scope=row>1</th><td>196658</td><td>247579.8</td><td>NA</td><td>      NA</td><td>                             NA</td></tr>\n",
       "\t<tr><th scope=row>2</th><td>196651</td><td>247457.9</td><td> 7</td><td>121.9189</td><td>0.00000000000000000000003051776</td></tr>\n",
       "</tbody>\n",
       "</table>\n"
      ],
      "text/latex": [
       "A anova: 2 × 5\n",
       "\\begin{tabular}{r|lllll}\n",
       "  & Resid. Df & Resid. Dev & Df & Deviance & Pr(>Chi)\\\\\n",
       "  & <dbl> & <dbl> & <dbl> & <dbl> & <dbl>\\\\\n",
       "\\hline\n",
       "\t1 & 196658 & 247579.8 & NA &       NA &                              NA\\\\\n",
       "\t2 & 196651 & 247457.9 &  7 & 121.9189 & 0.00000000000000000000003051776\\\\\n",
       "\\end{tabular}\n"
      ],
      "text/markdown": [
       "\n",
       "A anova: 2 × 5\n",
       "\n",
       "| <!--/--> | Resid. Df &lt;dbl&gt; | Resid. Dev &lt;dbl&gt; | Df &lt;dbl&gt; | Deviance &lt;dbl&gt; | Pr(&gt;Chi) &lt;dbl&gt; |\n",
       "|---|---|---|---|---|---|\n",
       "| 1 | 196658 | 247579.8 | NA |       NA |                              NA |\n",
       "| 2 | 196651 | 247457.9 |  7 | 121.9189 | 0.00000000000000000000003051776 |\n",
       "\n"
      ],
      "text/plain": [
       "  Resid. Df Resid. Dev Df Deviance Pr(>Chi)                       \n",
       "1 196658    247579.8   NA       NA                              NA\n",
       "2 196651    247457.9    7 121.9189 0.00000000000000000000003051776"
      ]
     },
     "metadata": {},
     "output_type": "display_data"
    }
   ],
   "source": [
    "# Model E as Final model without interaction: Income + Marital+ Physical health  + sex\n",
    "z.Eno = glm(alcday5 ~ sex +  physhlth +income2 + marital  , data=mydata, family=\"binomial\"(link=\"logit\"))\n",
    "anova(z.Eno, z.E,test=\"Chi\")\n",
    "#summary(z.Finalno)"
   ]
  },
  {
   "cell_type": "markdown",
   "metadata": {},
   "source": [
    "Interaction has a significant effect so we keep the interaction of sex and physhlth in the model"
   ]
  },
  {
   "cell_type": "code",
   "execution_count": 493,
   "metadata": {},
   "outputs": [
    {
     "data": {
      "text/html": [
       "<span style=white-space:pre-wrap>'AIC_ModelA :  249501 '</span>"
      ],
      "text/latex": [
       "'AIC\\_ModelA :  249501 '"
      ],
      "text/markdown": [
       "<span style=white-space:pre-wrap>'AIC_ModelA :  249501 '</span>"
      ],
      "text/plain": [
       "[1] \"AIC_ModelA :  249501 \""
      ]
     },
     "metadata": {},
     "output_type": "display_data"
    },
    {
     "data": {
      "text/html": [
       "<span style=white-space:pre-wrap>'AIC_ModelB :  253658 '</span>"
      ],
      "text/latex": [
       "'AIC\\_ModelB :  253658 '"
      ],
      "text/markdown": [
       "<span style=white-space:pre-wrap>'AIC_ModelB :  253658 '</span>"
      ],
      "text/plain": [
       "[1] \"AIC_ModelB :  253658 \""
      ]
     },
     "metadata": {},
     "output_type": "display_data"
    },
    {
     "data": {
      "text/html": [
       "<span style=white-space:pre-wrap>'AIC_ModelC :  249068 '</span>"
      ],
      "text/latex": [
       "'AIC\\_ModelC :  249068 '"
      ],
      "text/markdown": [
       "<span style=white-space:pre-wrap>'AIC_ModelC :  249068 '</span>"
      ],
      "text/plain": [
       "[1] \"AIC_ModelC :  249068 \""
      ]
     },
     "metadata": {},
     "output_type": "display_data"
    },
    {
     "data": {
      "text/html": [
       "<span style=white-space:pre-wrap>'AIC_ModelD :  249484 '</span>"
      ],
      "text/latex": [
       "'AIC\\_ModelD :  249484 '"
      ],
      "text/markdown": [
       "<span style=white-space:pre-wrap>'AIC_ModelD :  249484 '</span>"
      ],
      "text/plain": [
       "[1] \"AIC_ModelD :  249484 \""
      ]
     },
     "metadata": {},
     "output_type": "display_data"
    },
    {
     "data": {
      "text/html": [
       "<span style=white-space:pre-wrap>'AIC_ModelE :  247502 '</span>"
      ],
      "text/latex": [
       "'AIC\\_ModelE :  247502 '"
      ],
      "text/markdown": [
       "<span style=white-space:pre-wrap>'AIC_ModelE :  247502 '</span>"
      ],
      "text/plain": [
       "[1] \"AIC_ModelE :  247502 \""
      ]
     },
     "metadata": {},
     "output_type": "display_data"
    },
    {
     "data": {
      "text/html": [
       "<span style=white-space:pre-wrap>'AIC_ModelF :  249386 '</span>"
      ],
      "text/latex": [
       "'AIC\\_ModelF :  249386 '"
      ],
      "text/markdown": [
       "<span style=white-space:pre-wrap>'AIC_ModelF :  249386 '</span>"
      ],
      "text/plain": [
       "[1] \"AIC_ModelF :  249386 \""
      ]
     },
     "metadata": {},
     "output_type": "display_data"
    },
    {
     "data": {
      "text/html": [
       "<span style=white-space:pre-wrap>'AIC_ModelG :  247546 '</span>"
      ],
      "text/latex": [
       "'AIC\\_ModelG :  247546 '"
      ],
      "text/markdown": [
       "<span style=white-space:pre-wrap>'AIC_ModelG :  247546 '</span>"
      ],
      "text/plain": [
       "[1] \"AIC_ModelG :  247546 \""
      ]
     },
     "metadata": {},
     "output_type": "display_data"
    }
   ],
   "source": [
    "sprintf(\"AIC_ModelA :  %s \" , round(AIC(z.A)))\n",
    "sprintf(\"AIC_ModelB :  %s \" , round(AIC(z.B)))\n",
    "sprintf(\"AIC_ModelC :  %s \" , round(AIC(z.C)))\n",
    "sprintf(\"AIC_ModelD :  %s \" , round(AIC(z.D)))\n",
    "sprintf(\"AIC_ModelE :  %s \" , round(AIC(z.E)))\n",
    "sprintf(\"AIC_ModelF :  %s \" , round(AIC(z.F)))\n",
    "sprintf(\"AIC_ModelG :  %s \" , round(AIC(z.G)))\n"
   ]
  },
  {
   "cell_type": "markdown",
   "metadata": {},
   "source": [
    "<div class=\"alert alert-block alert-danger\">\n",
    "<a id=\"AppendixB\"></a>\n",
    "\n",
    "# Appendix B:\n",
    "# Building the Poisson Regression Model \n",
    "</div>"
   ]
  },
  {
   "cell_type": "code",
   "execution_count": 30,
   "metadata": {},
   "outputs": [],
   "source": [
    "# Null model:\n",
    "p.null = glm( drnk3ge5 ~ 1, data=mydata1, family=\"poisson\"(link=\"log\"))\n"
   ]
  },
  {
   "cell_type": "code",
   "execution_count": 31,
   "metadata": {
    "scrolled": true
   },
   "outputs": [
    {
     "data": {
      "text/html": [
       "<table>\n",
       "<thead><tr><th scope=col>Resid. Df</th><th scope=col>Resid. Dev</th><th scope=col>Df</th><th scope=col>Deviance</th><th scope=col>Pr(&gt;Chi)</th></tr></thead>\n",
       "<tbody>\n",
       "\t<tr><td>99808   </td><td>454219.3</td><td>NA      </td><td>     NA </td><td>NA      </td></tr>\n",
       "\t<tr><td>99794   </td><td>417248.9</td><td>14      </td><td>36970.4 </td><td> 0      </td></tr>\n",
       "</tbody>\n",
       "</table>\n"
      ],
      "text/latex": [
       "\\begin{tabular}{r|lllll}\n",
       " Resid. Df & Resid. Dev & Df & Deviance & Pr(>Chi)\\\\\n",
       "\\hline\n",
       "\t 99808    & 454219.3 & NA       &      NA  & NA      \\\\\n",
       "\t 99794    & 417248.9 & 14       & 36970.4  &  0      \\\\\n",
       "\\end{tabular}\n"
      ],
      "text/markdown": [
       "\n",
       "| Resid. Df | Resid. Dev | Df | Deviance | Pr(>Chi) |\n",
       "|---|---|---|---|---|\n",
       "| 99808    | 454219.3 | NA       |      NA  | NA       |\n",
       "| 99794    | 417248.9 | 14       | 36970.4  |  0       |\n",
       "\n"
      ],
      "text/plain": [
       "  Resid. Df Resid. Dev Df Deviance Pr(>Chi)\n",
       "1 99808     454219.3   NA      NA  NA      \n",
       "2 99794     417248.9   14 36970.4   0      "
      ]
     },
     "metadata": {},
     "output_type": "display_data"
    },
    {
     "data": {
      "text/plain": [
       "\n",
       "Call:\n",
       "glm(formula = drnk3ge5 ~ sex + income2 + poorhlth + marital, \n",
       "    family = poisson(link = \"log\"), data = mydata1)\n",
       "\n",
       "Deviance Residuals: \n",
       "    Min       1Q   Median       3Q      Max  \n",
       "-3.0160  -1.5474  -1.1183  -0.4216  13.7028  \n",
       "\n",
       "Coefficients:\n",
       "                                         Estimate Std. Error  z value Pr(>|z|)\n",
       "(Intercept)                             0.5778897  0.0124523   46.408  < 2e-16\n",
       "sexFemale                              -0.7990857  0.0059872 -133.465  < 2e-16\n",
       "income2Less than $15,000               -0.1130244  0.0147755   -7.649 2.02e-14\n",
       "income2Less than $20,000               -0.1948652  0.0140969  -13.823  < 2e-16\n",
       "income2Less than $25,000               -0.2286623  0.0136546  -16.746  < 2e-16\n",
       "income2Less than $35,000               -0.2483474  0.0133293  -18.632  < 2e-16\n",
       "income2Less than $50,000               -0.2953341  0.0128357  -23.009  < 2e-16\n",
       "income2Less than $75,000               -0.3769625  0.0129320  -29.150  < 2e-16\n",
       "income2$75,000 or more                 -0.4306580  0.0123927  -34.751  < 2e-16\n",
       "poorhlth                                0.0109353  0.0003378   32.374  < 2e-16\n",
       "maritalDivorced                         0.4275960  0.0085489   50.017  < 2e-16\n",
       "maritalWidowed                         -0.1137353  0.0140405   -8.100 5.47e-16\n",
       "maritalSeparated                        0.5257657  0.0162498   32.355  < 2e-16\n",
       "maritalNever married                    0.6087356  0.0076165   79.923  < 2e-16\n",
       "maritalA member of an unmarried couple  0.5654960  0.0129837   43.554  < 2e-16\n",
       "                                          \n",
       "(Intercept)                            ***\n",
       "sexFemale                              ***\n",
       "income2Less than $15,000               ***\n",
       "income2Less than $20,000               ***\n",
       "income2Less than $25,000               ***\n",
       "income2Less than $35,000               ***\n",
       "income2Less than $50,000               ***\n",
       "income2Less than $75,000               ***\n",
       "income2$75,000 or more                 ***\n",
       "poorhlth                               ***\n",
       "maritalDivorced                        ***\n",
       "maritalWidowed                         ***\n",
       "maritalSeparated                       ***\n",
       "maritalNever married                   ***\n",
       "maritalA member of an unmarried couple ***\n",
       "---\n",
       "Signif. codes:  0 '***' 0.001 '**' 0.01 '*' 0.05 '.' 0.1 ' ' 1\n",
       "\n",
       "(Dispersion parameter for poisson family taken to be 1)\n",
       "\n",
       "    Null deviance: 454219  on 99808  degrees of freedom\n",
       "Residual deviance: 417249  on 99794  degrees of freedom\n",
       "AIC: 497937\n",
       "\n",
       "Number of Fisher Scoring iterations: 7\n"
      ]
     },
     "metadata": {},
     "output_type": "display_data"
    }
   ],
   "source": [
    "# Model A: Income, Poor health, Sex , Marital\n",
    "p.A = glm(drnk3ge5 ~ sex + income2 + poorhlth + marital, data=mydata1, family=\"poisson\"(link=\"log\"))\n",
    "anova(p.null, p.A,test=\"Chi\")\n",
    "summary(p.A)"
   ]
  },
  {
   "cell_type": "code",
   "execution_count": 33,
   "metadata": {
    "scrolled": true
   },
   "outputs": [
    {
     "data": {
      "text/html": [
       "<table>\n",
       "<thead><tr><th scope=col>Resid. Df</th><th scope=col>Resid. Dev</th><th scope=col>Df</th><th scope=col>Deviance</th><th scope=col>Pr(&gt;Chi)</th></tr></thead>\n",
       "<tbody>\n",
       "\t<tr><td>99808   </td><td>454219.3</td><td>NA      </td><td>      NA</td><td>NA      </td></tr>\n",
       "\t<tr><td>99796   </td><td>411422.5</td><td>12      </td><td>42796.85</td><td> 0      </td></tr>\n",
       "</tbody>\n",
       "</table>\n"
      ],
      "text/latex": [
       "\\begin{tabular}{r|lllll}\n",
       " Resid. Df & Resid. Dev & Df & Deviance & Pr(>Chi)\\\\\n",
       "\\hline\n",
       "\t 99808    & 454219.3 & NA       &       NA & NA      \\\\\n",
       "\t 99796    & 411422.5 & 12       & 42796.85 &  0      \\\\\n",
       "\\end{tabular}\n"
      ],
      "text/markdown": [
       "\n",
       "| Resid. Df | Resid. Dev | Df | Deviance | Pr(>Chi) |\n",
       "|---|---|---|---|---|\n",
       "| 99808    | 454219.3 | NA       |       NA | NA       |\n",
       "| 99796    | 411422.5 | 12       | 42796.85 |  0       |\n",
       "\n"
      ],
      "text/plain": [
       "  Resid. Df Resid. Dev Df Deviance Pr(>Chi)\n",
       "1 99808     454219.3   NA       NA NA      \n",
       "2 99796     411422.5   12 42796.85  0      "
      ]
     },
     "metadata": {},
     "output_type": "display_data"
    },
    {
     "data": {
      "text/plain": [
       "\n",
       "Call:\n",
       "glm(formula = drnk3ge5 ~ sex + educa + poorhlth + marital, family = poisson(link = \"log\"), \n",
       "    data = mydata1)\n",
       "\n",
       "Deviance Residuals: \n",
       "    Min       1Q   Median       3Q      Max  \n",
       "-3.2111  -1.5591  -1.1785  -0.5342  14.1774  \n",
       "\n",
       "Coefficients:\n",
       "                                                                    Estimate\n",
       "(Intercept)                                                        0.3212584\n",
       "sexFemale                                                         -0.7548004\n",
       "educaGrades 1 through 8 (Elementary)                               0.2843183\n",
       "educaGrades 9 though 11 (Some high school)                         0.3359758\n",
       "educaGrade 12 or GED (High school graduate)                        0.1692840\n",
       "educaCollege 1 year to 3 years (Some college or technical school) -0.0169677\n",
       "educaCollege 4 years or more (College graduate)                   -0.3904491\n",
       "poorhlth                                                           0.0104640\n",
       "maritalDivorced                                                    0.4593221\n",
       "maritalWidowed                                                    -0.1116935\n",
       "maritalSeparated                                                   0.5254578\n",
       "maritalNever married                                               0.6689424\n",
       "maritalA member of an unmarried couple                             0.5923146\n",
       "                                                                  Std. Error\n",
       "(Intercept)                                                        0.1196094\n",
       "sexFemale                                                          0.0060182\n",
       "educaGrades 1 through 8 (Elementary)                               0.1213494\n",
       "educaGrades 9 though 11 (Some high school)                         0.1200613\n",
       "educaGrade 12 or GED (High school graduate)                        0.1196450\n",
       "educaCollege 1 year to 3 years (Some college or technical school)  0.1196445\n",
       "educaCollege 4 years or more (College graduate)                    0.1196491\n",
       "poorhlth                                                           0.0003286\n",
       "maritalDivorced                                                    0.0081350\n",
       "maritalWidowed                                                     0.0137932\n",
       "maritalSeparated                                                   0.0159979\n",
       "maritalNever married                                               0.0070796\n",
       "maritalA member of an unmarried couple                             0.0128401\n",
       "                                                                   z value\n",
       "(Intercept)                                                          2.686\n",
       "sexFemale                                                         -125.420\n",
       "educaGrades 1 through 8 (Elementary)                                 2.343\n",
       "educaGrades 9 though 11 (Some high school)                           2.798\n",
       "educaGrade 12 or GED (High school graduate)                          1.415\n",
       "educaCollege 1 year to 3 years (Some college or technical school)   -0.142\n",
       "educaCollege 4 years or more (College graduate)                     -3.263\n",
       "poorhlth                                                            31.846\n",
       "maritalDivorced                                                     56.462\n",
       "maritalWidowed                                                      -8.098\n",
       "maritalSeparated                                                    32.845\n",
       "maritalNever married                                                94.489\n",
       "maritalA member of an unmarried couple                              46.130\n",
       "                                                                  Pr(>|z|)    \n",
       "(Intercept)                                                        0.00723 ** \n",
       "sexFemale                                                          < 2e-16 ***\n",
       "educaGrades 1 through 8 (Elementary)                               0.01913 *  \n",
       "educaGrades 9 though 11 (Some high school)                         0.00514 ** \n",
       "educaGrade 12 or GED (High school graduate)                        0.15710    \n",
       "educaCollege 1 year to 3 years (Some college or technical school)  0.88722    \n",
       "educaCollege 4 years or more (College graduate)                    0.00110 ** \n",
       "poorhlth                                                           < 2e-16 ***\n",
       "maritalDivorced                                                    < 2e-16 ***\n",
       "maritalWidowed                                                     5.6e-16 ***\n",
       "maritalSeparated                                                   < 2e-16 ***\n",
       "maritalNever married                                               < 2e-16 ***\n",
       "maritalA member of an unmarried couple                             < 2e-16 ***\n",
       "---\n",
       "Signif. codes:  0 '***' 0.001 '**' 0.01 '*' 0.05 '.' 0.1 ' ' 1\n",
       "\n",
       "(Dispersion parameter for poisson family taken to be 1)\n",
       "\n",
       "    Null deviance: 454219  on 99808  degrees of freedom\n",
       "Residual deviance: 411422  on 99796  degrees of freedom\n",
       "AIC: 492107\n",
       "\n",
       "Number of Fisher Scoring iterations: 7\n"
      ]
     },
     "metadata": {},
     "output_type": "display_data"
    }
   ],
   "source": [
    "# Model B: Education, Poor health, Sex , Marital\n",
    "p.B = glm(drnk3ge5 ~ sex + educa + poorhlth + marital, data=mydata1, family=\"poisson\"(link=\"log\"))\n",
    "anova(p.null, p.B,test=\"Chi\")\n",
    "summary(p.B)"
   ]
  },
  {
   "cell_type": "code",
   "execution_count": 34,
   "metadata": {},
   "outputs": [
    {
     "data": {
      "text/html": [
       "<table>\n",
       "<thead><tr><th scope=col>Resid. Df</th><th scope=col>Resid. Dev</th><th scope=col>Df</th><th scope=col>Deviance</th><th scope=col>Pr(&gt;Chi)</th></tr></thead>\n",
       "<tbody>\n",
       "\t<tr><td>99808   </td><td>454219.3</td><td>NA      </td><td>      NA</td><td>NA      </td></tr>\n",
       "\t<tr><td>99759   </td><td>416710.7</td><td>49      </td><td>37508.69</td><td> 0      </td></tr>\n",
       "</tbody>\n",
       "</table>\n"
      ],
      "text/latex": [
       "\\begin{tabular}{r|lllll}\n",
       " Resid. Df & Resid. Dev & Df & Deviance & Pr(>Chi)\\\\\n",
       "\\hline\n",
       "\t 99808    & 454219.3 & NA       &       NA & NA      \\\\\n",
       "\t 99759    & 416710.7 & 49       & 37508.69 &  0      \\\\\n",
       "\\end{tabular}\n"
      ],
      "text/markdown": [
       "\n",
       "| Resid. Df | Resid. Dev | Df | Deviance | Pr(>Chi) |\n",
       "|---|---|---|---|---|\n",
       "| 99808    | 454219.3 | NA       |       NA | NA       |\n",
       "| 99759    | 416710.7 | 49       | 37508.69 |  0       |\n",
       "\n"
      ],
      "text/plain": [
       "  Resid. Df Resid. Dev Df Deviance Pr(>Chi)\n",
       "1 99808     454219.3   NA       NA NA      \n",
       "2 99759     416710.7   49 37508.69  0      "
      ]
     },
     "metadata": {},
     "output_type": "display_data"
    },
    {
     "data": {
      "text/plain": [
       "\n",
       "Call:\n",
       "glm(formula = drnk3ge5 ~ sex + income2 * marital + poorhlth, \n",
       "    family = poisson(link = \"log\"), data = mydata1)\n",
       "\n",
       "Deviance Residuals: \n",
       "    Min       1Q   Median       3Q      Max  \n",
       "-3.0225  -1.5379  -1.1178  -0.4117  14.3609  \n",
       "\n",
       "Coefficients:\n",
       "                                                                  Estimate\n",
       "(Intercept)                                                      0.7180630\n",
       "sexFemale                                                       -0.7989028\n",
       "income2Less than $15,000                                        -0.2552070\n",
       "income2Less than $20,000                                        -0.1575683\n",
       "income2Less than $25,000                                        -0.3602799\n",
       "income2Less than $35,000                                        -0.4175273\n",
       "income2Less than $50,000                                        -0.4143431\n",
       "income2Less than $75,000                                        -0.5402412\n",
       "income2$75,000 or more                                          -0.5826276\n",
       "maritalDivorced                                                  0.3744042\n",
       "maritalWidowed                                                  -0.0867017\n",
       "maritalSeparated                                                 0.4449928\n",
       "maritalNever married                                             0.3607989\n",
       "maritalA member of an unmarried couple                           0.4781431\n",
       "poorhlth                                                         0.0107611\n",
       "income2Less than $15,000:maritalDivorced                         0.0447186\n",
       "income2Less than $20,000:maritalDivorced                        -0.1934007\n",
       "income2Less than $25,000:maritalDivorced                         0.0689554\n",
       "income2Less than $35,000:maritalDivorced                         0.1456796\n",
       "income2Less than $50,000:maritalDivorced                        -0.0101981\n",
       "income2Less than $75,000:maritalDivorced                         0.1073584\n",
       "income2$75,000 or more:maritalDivorced                          -0.0224869\n",
       "income2Less than $15,000:maritalWidowed                          0.0876478\n",
       "income2Less than $20,000:maritalWidowed                         -0.0022419\n",
       "income2Less than $25,000:maritalWidowed                         -0.0858851\n",
       "income2Less than $35,000:maritalWidowed                         -0.1341944\n",
       "income2Less than $50,000:maritalWidowed                          0.0502626\n",
       "income2Less than $75,000:maritalWidowed                         -0.3163119\n",
       "income2$75,000 or more:maritalWidowed                           -0.0826077\n",
       "income2Less than $15,000:maritalSeparated                       -0.0363574\n",
       "income2Less than $20,000:maritalSeparated                       -0.1594941\n",
       "income2Less than $25,000:maritalSeparated                        0.0922386\n",
       "income2Less than $35,000:maritalSeparated                        0.0499638\n",
       "income2Less than $50,000:maritalSeparated                        0.1916098\n",
       "income2Less than $75,000:maritalSeparated                        0.2071788\n",
       "income2$75,000 or more:maritalSeparated                          0.0153145\n",
       "income2Less than $15,000:maritalNever married                    0.2463667\n",
       "income2Less than $20,000:maritalNever married                    0.0126804\n",
       "income2Less than $25,000:maritalNever married                    0.2522346\n",
       "income2Less than $35,000:maritalNever married                    0.2914165\n",
       "income2Less than $50,000:maritalNever married                    0.1909709\n",
       "income2Less than $75,000:maritalNever married                    0.3081622\n",
       "income2$75,000 or more:maritalNever married                      0.3826388\n",
       "income2Less than $15,000:maritalA member of an unmarried couple  0.1776621\n",
       "income2Less than $20,000:maritalA member of an unmarried couple -0.1544120\n",
       "income2Less than $25,000:maritalA member of an unmarried couple -0.0452492\n",
       "income2Less than $35,000:maritalA member of an unmarried couple  0.1525423\n",
       "income2Less than $50,000:maritalA member of an unmarried couple  0.0782913\n",
       "income2Less than $75,000:maritalA member of an unmarried couple  0.2109735\n",
       "income2$75,000 or more:maritalA member of an unmarried couple    0.0544136\n",
       "                                                                Std. Error\n",
       "(Intercept)                                                      0.0341218\n",
       "sexFemale                                                        0.0059962\n",
       "income2Less than $15,000                                         0.0481719\n",
       "income2Less than $20,000                                         0.0408481\n",
       "income2Less than $25,000                                         0.0388250\n",
       "income2Less than $35,000                                         0.0374717\n",
       "income2Less than $50,000                                         0.0359853\n",
       "income2Less than $75,000                                         0.0355992\n",
       "income2$75,000 or more                                           0.0346858\n",
       "maritalDivorced                                                  0.0383941\n",
       "maritalWidowed                                                   0.0586412\n",
       "maritalSeparated                                                 0.0497445\n",
       "maritalNever married                                             0.0371244\n",
       "maritalA member of an unmarried couple                           0.0529847\n",
       "poorhlth                                                         0.0003394\n",
       "income2Less than $15,000:maritalDivorced                         0.0551143\n",
       "income2Less than $20,000:maritalDivorced                         0.0490761\n",
       "income2Less than $25,000:maritalDivorced                         0.0468225\n",
       "income2Less than $35,000:maritalDivorced                         0.0452799\n",
       "income2Less than $50,000:maritalDivorced                         0.0437872\n",
       "income2Less than $75,000:maritalDivorced                         0.0436830\n",
       "income2$75,000 or more:maritalDivorced                           0.0435870\n",
       "income2Less than $15,000:maritalWidowed                          0.0787191\n",
       "income2Less than $20,000:maritalWidowed                          0.0707447\n",
       "income2Less than $25,000:maritalWidowed                          0.0700519\n",
       "income2Less than $35,000:maritalWidowed                          0.0694046\n",
       "income2Less than $50,000:maritalWidowed                          0.0669300\n",
       "income2Less than $75,000:maritalWidowed                          0.0740126\n",
       "income2$75,000 or more:maritalWidowed                            0.0719378\n",
       "income2Less than $15,000:maritalSeparated                        0.0750012\n",
       "income2Less than $20,000:maritalSeparated                        0.0697788\n",
       "income2Less than $25,000:maritalSeparated                        0.0681174\n",
       "income2Less than $35,000:maritalSeparated                        0.0685606\n",
       "income2Less than $50,000:maritalSeparated                        0.0659112\n",
       "income2Less than $75,000:maritalSeparated                        0.0693668\n",
       "income2$75,000 or more:maritalSeparated                          0.0691390\n",
       "income2Less than $15,000:maritalNever married                    0.0534191\n",
       "income2Less than $20,000:maritalNever married                    0.0465215\n",
       "income2Less than $25,000:maritalNever married                    0.0443986\n",
       "income2Less than $35,000:maritalNever married                    0.0429876\n",
       "income2Less than $50,000:maritalNever married                    0.0415164\n",
       "income2Less than $75,000:maritalNever married                    0.0413886\n",
       "income2$75,000 or more:maritalNever married                      0.0400657\n",
       "income2Less than $15,000:maritalA member of an unmarried couple  0.0753098\n",
       "income2Less than $20,000:maritalA member of an unmarried couple  0.0689403\n",
       "income2Less than $25,000:maritalA member of an unmarried couple  0.0671741\n",
       "income2Less than $35,000:maritalA member of an unmarried couple  0.0654212\n",
       "income2Less than $50,000:maritalA member of an unmarried couple  0.0633092\n",
       "income2Less than $75,000:maritalA member of an unmarried couple  0.0623402\n",
       "income2$75,000 or more:maritalA member of an unmarried couple    0.0591436\n",
       "                                                                 z value\n",
       "(Intercept)                                                       21.044\n",
       "sexFemale                                                       -133.234\n",
       "income2Less than $15,000                                          -5.298\n",
       "income2Less than $20,000                                          -3.857\n",
       "income2Less than $25,000                                          -9.280\n",
       "income2Less than $35,000                                         -11.142\n",
       "income2Less than $50,000                                         -11.514\n",
       "income2Less than $75,000                                         -15.176\n",
       "income2$75,000 or more                                           -16.797\n",
       "maritalDivorced                                                    9.752\n",
       "maritalWidowed                                                    -1.479\n",
       "maritalSeparated                                                   8.946\n",
       "maritalNever married                                               9.719\n",
       "maritalA member of an unmarried couple                             9.024\n",
       "poorhlth                                                          31.708\n",
       "income2Less than $15,000:maritalDivorced                           0.811\n",
       "income2Less than $20,000:maritalDivorced                          -3.941\n",
       "income2Less than $25,000:maritalDivorced                           1.473\n",
       "income2Less than $35,000:maritalDivorced                           3.217\n",
       "income2Less than $50,000:maritalDivorced                          -0.233\n",
       "income2Less than $75,000:maritalDivorced                           2.458\n",
       "income2$75,000 or more:maritalDivorced                            -0.516\n",
       "income2Less than $15,000:maritalWidowed                            1.113\n",
       "income2Less than $20,000:maritalWidowed                           -0.032\n",
       "income2Less than $25,000:maritalWidowed                           -1.226\n",
       "income2Less than $35,000:maritalWidowed                           -1.934\n",
       "income2Less than $50,000:maritalWidowed                            0.751\n",
       "income2Less than $75,000:maritalWidowed                           -4.274\n",
       "income2$75,000 or more:maritalWidowed                             -1.148\n",
       "income2Less than $15,000:maritalSeparated                         -0.485\n",
       "income2Less than $20,000:maritalSeparated                         -2.286\n",
       "income2Less than $25,000:maritalSeparated                          1.354\n",
       "income2Less than $35,000:maritalSeparated                          0.729\n",
       "income2Less than $50,000:maritalSeparated                          2.907\n",
       "income2Less than $75,000:maritalSeparated                          2.987\n",
       "income2$75,000 or more:maritalSeparated                            0.222\n",
       "income2Less than $15,000:maritalNever married                      4.612\n",
       "income2Less than $20,000:maritalNever married                      0.273\n",
       "income2Less than $25,000:maritalNever married                      5.681\n",
       "income2Less than $35,000:maritalNever married                      6.779\n",
       "income2Less than $50,000:maritalNever married                      4.600\n",
       "income2Less than $75,000:maritalNever married                      7.446\n",
       "income2$75,000 or more:maritalNever married                        9.550\n",
       "income2Less than $15,000:maritalA member of an unmarried couple    2.359\n",
       "income2Less than $20,000:maritalA member of an unmarried couple   -2.240\n",
       "income2Less than $25,000:maritalA member of an unmarried couple   -0.674\n",
       "income2Less than $35,000:maritalA member of an unmarried couple    2.332\n",
       "income2Less than $50,000:maritalA member of an unmarried couple    1.237\n",
       "income2Less than $75,000:maritalA member of an unmarried couple    3.384\n",
       "income2$75,000 or more:maritalA member of an unmarried couple      0.920\n",
       "                                                                Pr(>|z|)    \n",
       "(Intercept)                                                      < 2e-16 ***\n",
       "sexFemale                                                        < 2e-16 ***\n",
       "income2Less than $15,000                                        1.17e-07 ***\n",
       "income2Less than $20,000                                        0.000115 ***\n",
       "income2Less than $25,000                                         < 2e-16 ***\n",
       "income2Less than $35,000                                         < 2e-16 ***\n",
       "income2Less than $50,000                                         < 2e-16 ***\n",
       "income2Less than $75,000                                         < 2e-16 ***\n",
       "income2$75,000 or more                                           < 2e-16 ***\n",
       "maritalDivorced                                                  < 2e-16 ***\n",
       "maritalWidowed                                                  0.139271    \n",
       "maritalSeparated                                                 < 2e-16 ***\n",
       "maritalNever married                                             < 2e-16 ***\n",
       "maritalA member of an unmarried couple                           < 2e-16 ***\n",
       "poorhlth                                                         < 2e-16 ***\n",
       "income2Less than $15,000:maritalDivorced                        0.417148    \n",
       "income2Less than $20,000:maritalDivorced                        8.12e-05 ***\n",
       "income2Less than $25,000:maritalDivorced                        0.140832    \n",
       "income2Less than $35,000:maritalDivorced                        0.001294 ** \n",
       "income2Less than $50,000:maritalDivorced                        0.815838    \n",
       "income2Less than $75,000:maritalDivorced                        0.013984 *  \n",
       "income2$75,000 or more:maritalDivorced                          0.605919    \n",
       "income2Less than $15,000:maritalWidowed                         0.265526    \n",
       "income2Less than $20,000:maritalWidowed                         0.974719    \n",
       "income2Less than $25,000:maritalWidowed                         0.220191    \n",
       "income2Less than $35,000:maritalWidowed                         0.053173 .  \n",
       "income2Less than $50,000:maritalWidowed                         0.452669    \n",
       "income2Less than $75,000:maritalWidowed                         1.92e-05 ***\n",
       "income2$75,000 or more:maritalWidowed                           0.250836    \n",
       "income2Less than $15,000:maritalSeparated                       0.627848    \n",
       "income2Less than $20,000:maritalSeparated                       0.022271 *  \n",
       "income2Less than $25,000:maritalSeparated                       0.175701    \n",
       "income2Less than $35,000:maritalSeparated                       0.466152    \n",
       "income2Less than $50,000:maritalSeparated                       0.003648 ** \n",
       "income2Less than $75,000:maritalSeparated                       0.002820 ** \n",
       "income2$75,000 or more:maritalSeparated                         0.824701    \n",
       "income2Less than $15,000:maritalNever married                   3.99e-06 ***\n",
       "income2Less than $20,000:maritalNever married                   0.785182    \n",
       "income2Less than $25,000:maritalNever married                   1.34e-08 ***\n",
       "income2Less than $35,000:maritalNever married                   1.21e-11 ***\n",
       "income2Less than $50,000:maritalNever married                   4.23e-06 ***\n",
       "income2Less than $75,000:maritalNever married                   9.65e-14 ***\n",
       "income2$75,000 or more:maritalNever married                      < 2e-16 ***\n",
       "income2Less than $15,000:maritalA member of an unmarried couple 0.018320 *  \n",
       "income2Less than $20,000:maritalA member of an unmarried couple 0.025104 *  \n",
       "income2Less than $25,000:maritalA member of an unmarried couple 0.500558    \n",
       "income2Less than $35,000:maritalA member of an unmarried couple 0.019717 *  \n",
       "income2Less than $50,000:maritalA member of an unmarried couple 0.216217    \n",
       "income2Less than $75,000:maritalA member of an unmarried couple 0.000714 ***\n",
       "income2$75,000 or more:maritalA member of an unmarried couple   0.357560    \n",
       "---\n",
       "Signif. codes:  0 '***' 0.001 '**' 0.01 '*' 0.05 '.' 0.1 ' ' 1\n",
       "\n",
       "(Dispersion parameter for poisson family taken to be 1)\n",
       "\n",
       "    Null deviance: 454219  on 99808  degrees of freedom\n",
       "Residual deviance: 416711  on 99759  degrees of freedom\n",
       "AIC: 497469\n",
       "\n",
       "Number of Fisher Scoring iterations: 7\n"
      ]
     },
     "metadata": {},
     "output_type": "display_data"
    }
   ],
   "source": [
    "# Model C: Income*Marital, Poor health, Sex , Marital\n",
    "p.C = glm(drnk3ge5 ~ sex + income2*marital + poorhlth, data=mydata1, family=\"poisson\"(link=\"log\"))\n",
    "anova(p.null, p.C,test=\"Chi\")\n",
    "summary(p.C)"
   ]
  },
  {
   "cell_type": "code",
   "execution_count": 35,
   "metadata": {
    "scrolled": true
   },
   "outputs": [
    {
     "data": {
      "text/html": [
       "<table>\n",
       "<thead><tr><th scope=col>Resid. Df</th><th scope=col>Resid. Dev</th><th scope=col>Df</th><th scope=col>Deviance</th><th scope=col>Pr(&gt;Chi)</th></tr></thead>\n",
       "<tbody>\n",
       "\t<tr><td>99808   </td><td>454219.3</td><td>NA      </td><td>      NA</td><td>NA      </td></tr>\n",
       "\t<tr><td>99789   </td><td>417193.2</td><td>19      </td><td>37026.19</td><td> 0      </td></tr>\n",
       "</tbody>\n",
       "</table>\n"
      ],
      "text/latex": [
       "\\begin{tabular}{r|lllll}\n",
       " Resid. Df & Resid. Dev & Df & Deviance & Pr(>Chi)\\\\\n",
       "\\hline\n",
       "\t 99808    & 454219.3 & NA       &       NA & NA      \\\\\n",
       "\t 99789    & 417193.2 & 19       & 37026.19 &  0      \\\\\n",
       "\\end{tabular}\n"
      ],
      "text/markdown": [
       "\n",
       "| Resid. Df | Resid. Dev | Df | Deviance | Pr(>Chi) |\n",
       "|---|---|---|---|---|\n",
       "| 99808    | 454219.3 | NA       |       NA | NA       |\n",
       "| 99789    | 417193.2 | 19       | 37026.19 |  0       |\n",
       "\n"
      ],
      "text/plain": [
       "  Resid. Df Resid. Dev Df Deviance Pr(>Chi)\n",
       "1 99808     454219.3   NA       NA NA      \n",
       "2 99789     417193.2   19 37026.19  0      "
      ]
     },
     "metadata": {},
     "output_type": "display_data"
    },
    {
     "data": {
      "text/plain": [
       "\n",
       "Call:\n",
       "glm(formula = drnk3ge5 ~ sex + income2 + poorhlth * marital, \n",
       "    family = poisson(link = \"log\"), data = mydata1)\n",
       "\n",
       "Deviance Residuals: \n",
       "    Min       1Q   Median       3Q      Max  \n",
       "-3.1181  -1.5484  -1.1258  -0.4233  13.7370  \n",
       "\n",
       "Coefficients:\n",
       "                                                  Estimate Std. Error  z value\n",
       "(Intercept)                                      5.849e-01  1.250e-02   46.808\n",
       "sexFemale                                       -7.994e-01  5.988e-03 -133.493\n",
       "income2Less than $15,000                        -1.116e-01  1.479e-02   -7.546\n",
       "income2Less than $20,000                        -1.902e-01  1.413e-02  -13.458\n",
       "income2Less than $25,000                        -2.226e-01  1.371e-02  -16.228\n",
       "income2Less than $35,000                        -2.410e-01  1.341e-02  -17.968\n",
       "income2Less than $50,000                        -2.886e-01  1.291e-02  -22.355\n",
       "income2Less than $75,000                        -3.710e-01  1.300e-02  -28.543\n",
       "income2$75,000 or more                          -4.274e-01  1.243e-02  -34.381\n",
       "poorhlth                                         7.930e-03  5.849e-04   13.558\n",
       "maritalDivorced                                  4.046e-01  9.780e-03   41.376\n",
       "maritalWidowed                                  -1.423e-01  1.634e-02   -8.706\n",
       "maritalSeparated                                 5.356e-01  1.929e-02   27.770\n",
       "maritalNever married                             5.922e-01  8.390e-03   70.578\n",
       "maritalA member of an unmarried couple           5.340e-01  1.468e-02   36.374\n",
       "poorhlth:maritalDivorced                         4.684e-03  8.587e-04    5.455\n",
       "poorhlth:maritalWidowed                          5.651e-03  1.379e-03    4.099\n",
       "poorhlth:maritalSeparated                       -2.255e-05  1.624e-03   -0.014\n",
       "poorhlth:maritalNever married                    4.240e-03  8.814e-04    4.810\n",
       "poorhlth:maritalA member of an unmarried couple  7.482e-03  1.527e-03    4.901\n",
       "                                                Pr(>|z|)    \n",
       "(Intercept)                                      < 2e-16 ***\n",
       "sexFemale                                        < 2e-16 ***\n",
       "income2Less than $15,000                        4.49e-14 ***\n",
       "income2Less than $20,000                         < 2e-16 ***\n",
       "income2Less than $25,000                         < 2e-16 ***\n",
       "income2Less than $35,000                         < 2e-16 ***\n",
       "income2Less than $50,000                         < 2e-16 ***\n",
       "income2Less than $75,000                         < 2e-16 ***\n",
       "income2$75,000 or more                           < 2e-16 ***\n",
       "poorhlth                                         < 2e-16 ***\n",
       "maritalDivorced                                  < 2e-16 ***\n",
       "maritalWidowed                                   < 2e-16 ***\n",
       "maritalSeparated                                 < 2e-16 ***\n",
       "maritalNever married                             < 2e-16 ***\n",
       "maritalA member of an unmarried couple           < 2e-16 ***\n",
       "poorhlth:maritalDivorced                        4.90e-08 ***\n",
       "poorhlth:maritalWidowed                         4.15e-05 ***\n",
       "poorhlth:maritalSeparated                          0.989    \n",
       "poorhlth:maritalNever married                   1.51e-06 ***\n",
       "poorhlth:maritalA member of an unmarried couple 9.54e-07 ***\n",
       "---\n",
       "Signif. codes:  0 '***' 0.001 '**' 0.01 '*' 0.05 '.' 0.1 ' ' 1\n",
       "\n",
       "(Dispersion parameter for poisson family taken to be 1)\n",
       "\n",
       "    Null deviance: 454219  on 99808  degrees of freedom\n",
       "Residual deviance: 417193  on 99789  degrees of freedom\n",
       "AIC: 497891\n",
       "\n",
       "Number of Fisher Scoring iterations: 7\n"
      ]
     },
     "metadata": {},
     "output_type": "display_data"
    }
   ],
   "source": [
    "# Model D: Income, Poor health*Marital, Sex , Marital\n",
    "p.D = glm(drnk3ge5 ~ sex + income2 + poorhlth*marital, data=mydata1, family=\"poisson\"(link=\"log\"))\n",
    "anova(p.null, p.D,test=\"Chi\")\n",
    "summary(p.D)"
   ]
  },
  {
   "cell_type": "code",
   "execution_count": 36,
   "metadata": {
    "scrolled": true
   },
   "outputs": [
    {
     "data": {
      "text/html": [
       "<table>\n",
       "<thead><tr><th scope=col>Resid. Df</th><th scope=col>Resid. Dev</th><th scope=col>Df</th><th scope=col>Deviance</th><th scope=col>Pr(&gt;Chi)</th></tr></thead>\n",
       "<tbody>\n",
       "\t<tr><td>99808   </td><td>454219.3</td><td>NA      </td><td>      NA</td><td>NA      </td></tr>\n",
       "\t<tr><td>99787   </td><td>418043.6</td><td>21      </td><td>36175.77</td><td> 0      </td></tr>\n",
       "</tbody>\n",
       "</table>\n"
      ],
      "text/latex": [
       "\\begin{tabular}{r|lllll}\n",
       " Resid. Df & Resid. Dev & Df & Deviance & Pr(>Chi)\\\\\n",
       "\\hline\n",
       "\t 99808    & 454219.3 & NA       &       NA & NA      \\\\\n",
       "\t 99787    & 418043.6 & 21       & 36175.77 &  0      \\\\\n",
       "\\end{tabular}\n"
      ],
      "text/markdown": [
       "\n",
       "| Resid. Df | Resid. Dev | Df | Deviance | Pr(>Chi) |\n",
       "|---|---|---|---|---|\n",
       "| 99808    | 454219.3 | NA       |       NA | NA       |\n",
       "| 99787    | 418043.6 | 21       | 36175.77 |  0       |\n",
       "\n"
      ],
      "text/plain": [
       "  Resid. Df Resid. Dev Df Deviance Pr(>Chi)\n",
       "1 99808     454219.3   NA       NA NA      \n",
       "2 99787     418043.6   21 36175.77  0      "
      ]
     },
     "metadata": {},
     "output_type": "display_data"
    },
    {
     "data": {
      "text/plain": [
       "\n",
       "Call:\n",
       "glm(formula = drnk3ge5 ~ sex * income2 + physhlth + marital, \n",
       "    family = poisson(link = \"log\"), data = mydata1)\n",
       "\n",
       "Deviance Residuals: \n",
       "    Min       1Q   Median       3Q      Max  \n",
       "-2.6515  -1.5414  -1.1095  -0.4886  13.6276  \n",
       "\n",
       "Coefficients:\n",
       "                                         Estimate Std. Error z value Pr(>|z|)\n",
       "(Intercept)                             0.5947412  0.0149112  39.886  < 2e-16\n",
       "sexFemale                              -0.6332028  0.0201805 -31.377  < 2e-16\n",
       "income2Less than $15,000               -0.0761054  0.0190557  -3.994 6.50e-05\n",
       "income2Less than $20,000               -0.1285652  0.0178767  -7.192 6.39e-13\n",
       "income2Less than $25,000               -0.1624729  0.0173562  -9.361  < 2e-16\n",
       "income2Less than $35,000               -0.2018567  0.0169050 -11.941  < 2e-16\n",
       "income2Less than $50,000               -0.2872558  0.0162973 -17.626  < 2e-16\n",
       "income2Less than $75,000               -0.3741274  0.0163790 -22.842  < 2e-16\n",
       "income2$75,000 or more                 -0.4333747  0.0154983 -27.963  < 2e-16\n",
       "physhlth                                0.0021840  0.0003082   7.085 1.39e-12\n",
       "maritalDivorced                         0.4356585  0.0085486  50.962  < 2e-16\n",
       "maritalWidowed                         -0.1060131  0.0140782  -7.530 5.06e-14\n",
       "maritalSeparated                        0.5295882  0.0162613  32.567  < 2e-16\n",
       "maritalNever married                    0.5968506  0.0076579  77.939  < 2e-16\n",
       "maritalA member of an unmarried couple  0.5590157  0.0129985  43.006  < 2e-16\n",
       "sexFemale:income2Less than $15,000     -0.1200565  0.0301628  -3.980 6.88e-05\n",
       "sexFemale:income2Less than $20,000     -0.2572487  0.0290015  -8.870  < 2e-16\n",
       "sexFemale:income2Less than $25,000     -0.2750458  0.0278203  -9.886  < 2e-16\n",
       "sexFemale:income2Less than $35,000     -0.2516358  0.0269148  -9.349  < 2e-16\n",
       "sexFemale:income2Less than $50,000     -0.1618130  0.0254714  -6.353 2.12e-10\n",
       "sexFemale:income2Less than $75,000     -0.1584615  0.0252943  -6.265 3.73e-10\n",
       "sexFemale:income2$75,000 or more       -0.1546665  0.0233462  -6.625 3.47e-11\n",
       "                                          \n",
       "(Intercept)                            ***\n",
       "sexFemale                              ***\n",
       "income2Less than $15,000               ***\n",
       "income2Less than $20,000               ***\n",
       "income2Less than $25,000               ***\n",
       "income2Less than $35,000               ***\n",
       "income2Less than $50,000               ***\n",
       "income2Less than $75,000               ***\n",
       "income2$75,000 or more                 ***\n",
       "physhlth                               ***\n",
       "maritalDivorced                        ***\n",
       "maritalWidowed                         ***\n",
       "maritalSeparated                       ***\n",
       "maritalNever married                   ***\n",
       "maritalA member of an unmarried couple ***\n",
       "sexFemale:income2Less than $15,000     ***\n",
       "sexFemale:income2Less than $20,000     ***\n",
       "sexFemale:income2Less than $25,000     ***\n",
       "sexFemale:income2Less than $35,000     ***\n",
       "sexFemale:income2Less than $50,000     ***\n",
       "sexFemale:income2Less than $75,000     ***\n",
       "sexFemale:income2$75,000 or more       ***\n",
       "---\n",
       "Signif. codes:  0 '***' 0.001 '**' 0.01 '*' 0.05 '.' 0.1 ' ' 1\n",
       "\n",
       "(Dispersion parameter for poisson family taken to be 1)\n",
       "\n",
       "    Null deviance: 454219  on 99808  degrees of freedom\n",
       "Residual deviance: 418044  on 99787  degrees of freedom\n",
       "AIC: 498746\n",
       "\n",
       "Number of Fisher Scoring iterations: 7\n"
      ]
     },
     "metadata": {},
     "output_type": "display_data"
    }
   ],
   "source": [
    "# Model E: Income*sex + Marital, Physical health health , Marital\n",
    "p.E = glm(drnk3ge5 ~ sex * income2 + physhlth + marital, data=mydata1, family=\"poisson\"(link=\"log\"))\n",
    "anova(p.null, p.E,test=\"Chi\")\n",
    "summary(p.E)"
   ]
  },
  {
   "cell_type": "code",
   "execution_count": 37,
   "metadata": {
    "scrolled": true
   },
   "outputs": [
    {
     "data": {
      "text/html": [
       "<table>\n",
       "<thead><tr><th scope=col>Resid. Df</th><th scope=col>Resid. Dev</th><th scope=col>Df</th><th scope=col>Deviance</th><th scope=col>Pr(&gt;Chi)</th></tr></thead>\n",
       "<tbody>\n",
       "\t<tr><td>99808   </td><td>454219.3</td><td>NA      </td><td>      NA</td><td>NA      </td></tr>\n",
       "\t<tr><td>99787   </td><td>418043.6</td><td>21      </td><td>36175.77</td><td> 0      </td></tr>\n",
       "</tbody>\n",
       "</table>\n"
      ],
      "text/latex": [
       "\\begin{tabular}{r|lllll}\n",
       " Resid. Df & Resid. Dev & Df & Deviance & Pr(>Chi)\\\\\n",
       "\\hline\n",
       "\t 99808    & 454219.3 & NA       &       NA & NA      \\\\\n",
       "\t 99787    & 418043.6 & 21       & 36175.77 &  0      \\\\\n",
       "\\end{tabular}\n"
      ],
      "text/markdown": [
       "\n",
       "| Resid. Df | Resid. Dev | Df | Deviance | Pr(>Chi) |\n",
       "|---|---|---|---|---|\n",
       "| 99808    | 454219.3 | NA       |       NA | NA       |\n",
       "| 99787    | 418043.6 | 21       | 36175.77 |  0       |\n",
       "\n"
      ],
      "text/plain": [
       "  Resid. Df Resid. Dev Df Deviance Pr(>Chi)\n",
       "1 99808     454219.3   NA       NA NA      \n",
       "2 99787     418043.6   21 36175.77  0      "
      ]
     },
     "metadata": {},
     "output_type": "display_data"
    },
    {
     "data": {
      "text/plain": [
       "\n",
       "Call:\n",
       "glm(formula = drnk3ge5 ~ sex * income2 + physhlth + marital, \n",
       "    family = poisson(link = \"log\"), data = mydata1)\n",
       "\n",
       "Deviance Residuals: \n",
       "    Min       1Q   Median       3Q      Max  \n",
       "-2.6515  -1.5414  -1.1095  -0.4886  13.6276  \n",
       "\n",
       "Coefficients:\n",
       "                                         Estimate Std. Error z value Pr(>|z|)\n",
       "(Intercept)                             0.5947412  0.0149112  39.886  < 2e-16\n",
       "sexFemale                              -0.6332028  0.0201805 -31.377  < 2e-16\n",
       "income2Less than $15,000               -0.0761054  0.0190557  -3.994 6.50e-05\n",
       "income2Less than $20,000               -0.1285652  0.0178767  -7.192 6.39e-13\n",
       "income2Less than $25,000               -0.1624729  0.0173562  -9.361  < 2e-16\n",
       "income2Less than $35,000               -0.2018567  0.0169050 -11.941  < 2e-16\n",
       "income2Less than $50,000               -0.2872558  0.0162973 -17.626  < 2e-16\n",
       "income2Less than $75,000               -0.3741274  0.0163790 -22.842  < 2e-16\n",
       "income2$75,000 or more                 -0.4333747  0.0154983 -27.963  < 2e-16\n",
       "physhlth                                0.0021840  0.0003082   7.085 1.39e-12\n",
       "maritalDivorced                         0.4356585  0.0085486  50.962  < 2e-16\n",
       "maritalWidowed                         -0.1060131  0.0140782  -7.530 5.06e-14\n",
       "maritalSeparated                        0.5295882  0.0162613  32.567  < 2e-16\n",
       "maritalNever married                    0.5968506  0.0076579  77.939  < 2e-16\n",
       "maritalA member of an unmarried couple  0.5590157  0.0129985  43.006  < 2e-16\n",
       "sexFemale:income2Less than $15,000     -0.1200565  0.0301628  -3.980 6.88e-05\n",
       "sexFemale:income2Less than $20,000     -0.2572487  0.0290015  -8.870  < 2e-16\n",
       "sexFemale:income2Less than $25,000     -0.2750458  0.0278203  -9.886  < 2e-16\n",
       "sexFemale:income2Less than $35,000     -0.2516358  0.0269148  -9.349  < 2e-16\n",
       "sexFemale:income2Less than $50,000     -0.1618130  0.0254714  -6.353 2.12e-10\n",
       "sexFemale:income2Less than $75,000     -0.1584615  0.0252943  -6.265 3.73e-10\n",
       "sexFemale:income2$75,000 or more       -0.1546665  0.0233462  -6.625 3.47e-11\n",
       "                                          \n",
       "(Intercept)                            ***\n",
       "sexFemale                              ***\n",
       "income2Less than $15,000               ***\n",
       "income2Less than $20,000               ***\n",
       "income2Less than $25,000               ***\n",
       "income2Less than $35,000               ***\n",
       "income2Less than $50,000               ***\n",
       "income2Less than $75,000               ***\n",
       "income2$75,000 or more                 ***\n",
       "physhlth                               ***\n",
       "maritalDivorced                        ***\n",
       "maritalWidowed                         ***\n",
       "maritalSeparated                       ***\n",
       "maritalNever married                   ***\n",
       "maritalA member of an unmarried couple ***\n",
       "sexFemale:income2Less than $15,000     ***\n",
       "sexFemale:income2Less than $20,000     ***\n",
       "sexFemale:income2Less than $25,000     ***\n",
       "sexFemale:income2Less than $35,000     ***\n",
       "sexFemale:income2Less than $50,000     ***\n",
       "sexFemale:income2Less than $75,000     ***\n",
       "sexFemale:income2$75,000 or more       ***\n",
       "---\n",
       "Signif. codes:  0 '***' 0.001 '**' 0.01 '*' 0.05 '.' 0.1 ' ' 1\n",
       "\n",
       "(Dispersion parameter for poisson family taken to be 1)\n",
       "\n",
       "    Null deviance: 454219  on 99808  degrees of freedom\n",
       "Residual deviance: 418044  on 99787  degrees of freedom\n",
       "AIC: 498746\n",
       "\n",
       "Number of Fisher Scoring iterations: 7\n"
      ]
     },
     "metadata": {},
     "output_type": "display_data"
    }
   ],
   "source": [
    "# Model F: Income*sex + Marital, Poor health , Marital\n",
    "p.F = glm(drnk3ge5 ~ sex * income2 + physhlth + marital, data=mydata1, family=\"poisson\"(link=\"log\"))\n",
    "anova(p.null, p.F,test=\"Chi\")\n",
    "summary(p.F)"
   ]
  },
  {
   "cell_type": "code",
   "execution_count": 38,
   "metadata": {
    "scrolled": true
   },
   "outputs": [
    {
     "data": {
      "text/html": [
       "<table>\n",
       "<thead><tr><th scope=col>Resid. Df</th><th scope=col>Resid. Dev</th><th scope=col>Df</th><th scope=col>Deviance</th><th scope=col>Pr(&gt;Chi)</th></tr></thead>\n",
       "<tbody>\n",
       "\t<tr><td>99808   </td><td>454219.3</td><td>NA      </td><td>      NA</td><td>NA      </td></tr>\n",
       "\t<tr><td>99793   </td><td>418151.3</td><td>15      </td><td>36068.02</td><td> 0      </td></tr>\n",
       "</tbody>\n",
       "</table>\n"
      ],
      "text/latex": [
       "\\begin{tabular}{r|lllll}\n",
       " Resid. Df & Resid. Dev & Df & Deviance & Pr(>Chi)\\\\\n",
       "\\hline\n",
       "\t 99808    & 454219.3 & NA       &       NA & NA      \\\\\n",
       "\t 99793    & 418151.3 & 15       & 36068.02 &  0      \\\\\n",
       "\\end{tabular}\n"
      ],
      "text/markdown": [
       "\n",
       "| Resid. Df | Resid. Dev | Df | Deviance | Pr(>Chi) |\n",
       "|---|---|---|---|---|\n",
       "| 99808    | 454219.3 | NA       |       NA | NA       |\n",
       "| 99793    | 418151.3 | 15       | 36068.02 |  0       |\n",
       "\n"
      ],
      "text/plain": [
       "  Resid. Df Resid. Dev Df Deviance Pr(>Chi)\n",
       "1 99808     454219.3   NA       NA NA      \n",
       "2 99793     418151.3   15 36068.02  0      "
      ]
     },
     "metadata": {},
     "output_type": "display_data"
    },
    {
     "data": {
      "text/plain": [
       "\n",
       "Call:\n",
       "glm(formula = drnk3ge5 ~ sex * physhlth + income2 + marital, \n",
       "    family = poisson(link = \"log\"), data = mydata1)\n",
       "\n",
       "Deviance Residuals: \n",
       "    Min       1Q   Median       3Q      Max  \n",
       "-2.7861  -1.5496  -1.1137  -0.4352  13.6179  \n",
       "\n",
       "Coefficients:\n",
       "                                         Estimate Std. Error  z value Pr(>|z|)\n",
       "(Intercept)                             0.6551876  0.0125633   52.151  < 2e-16\n",
       "sexFemale                              -0.7799203  0.0071802 -108.620  < 2e-16\n",
       "physhlth                                0.0034537  0.0003668    9.417  < 2e-16\n",
       "income2Less than $15,000               -0.1257349  0.0147705   -8.513  < 2e-16\n",
       "income2Less than $20,000               -0.2274073  0.0140634  -16.170  < 2e-16\n",
       "income2Less than $25,000               -0.2688168  0.0136080  -19.754  < 2e-16\n",
       "income2Less than $35,000               -0.2995829  0.0132501  -22.610  < 2e-16\n",
       "income2Less than $50,000               -0.3529965  0.0127423  -27.703  < 2e-16\n",
       "income2Less than $75,000               -0.4387226  0.0128365  -34.178  < 2e-16\n",
       "income2$75,000 or more                 -0.4965032  0.0123015  -40.361  < 2e-16\n",
       "maritalDivorced                         0.4341743  0.0085414   50.831  < 2e-16\n",
       "maritalWidowed                         -0.1091001  0.0140571   -7.761 8.41e-15\n",
       "maritalSeparated                        0.5330860  0.0162470   32.811  < 2e-16\n",
       "maritalNever married                    0.5973686  0.0076617   77.968  < 2e-16\n",
       "maritalA member of an unmarried couple  0.5597510  0.0129983   43.063  < 2e-16\n",
       "sexFemale:physhlth                     -0.0039872  0.0006406   -6.224 4.85e-10\n",
       "                                          \n",
       "(Intercept)                            ***\n",
       "sexFemale                              ***\n",
       "physhlth                               ***\n",
       "income2Less than $15,000               ***\n",
       "income2Less than $20,000               ***\n",
       "income2Less than $25,000               ***\n",
       "income2Less than $35,000               ***\n",
       "income2Less than $50,000               ***\n",
       "income2Less than $75,000               ***\n",
       "income2$75,000 or more                 ***\n",
       "maritalDivorced                        ***\n",
       "maritalWidowed                         ***\n",
       "maritalSeparated                       ***\n",
       "maritalNever married                   ***\n",
       "maritalA member of an unmarried couple ***\n",
       "sexFemale:physhlth                     ***\n",
       "---\n",
       "Signif. codes:  0 '***' 0.001 '**' 0.01 '*' 0.05 '.' 0.1 ' ' 1\n",
       "\n",
       "(Dispersion parameter for poisson family taken to be 1)\n",
       "\n",
       "    Null deviance: 454219  on 99808  degrees of freedom\n",
       "Residual deviance: 418151  on 99793  degrees of freedom\n",
       "AIC: 498842\n",
       "\n",
       "Number of Fisher Scoring iterations: 7\n"
      ]
     },
     "metadata": {},
     "output_type": "display_data"
    }
   ],
   "source": [
    "# Model G: Income*sex + Marital, Poor health , Marital\n",
    "p.G = glm(drnk3ge5 ~ sex * physhlth +income2 + marital, data=mydata1, family=\"poisson\"(link=\"log\"))\n",
    "anova(p.null, p.G,test=\"Chi\")\n",
    "summary(p.G)"
   ]
  },
  {
   "cell_type": "markdown",
   "metadata": {},
   "source": [
    "### Compare the AIC values for the models that you tried."
   ]
  },
  {
   "cell_type": "code",
   "execution_count": 39,
   "metadata": {},
   "outputs": [
    {
     "data": {
      "text/html": [
       "<span style=white-space:pre-wrap>'AIC_ModelA :  497937 '</span>"
      ],
      "text/latex": [
       "'AIC\\_ModelA :  497937 '"
      ],
      "text/markdown": [
       "<span style=white-space:pre-wrap>'AIC_ModelA :  497937 '</span>"
      ],
      "text/plain": [
       "[1] \"AIC_ModelA :  497937 \""
      ]
     },
     "metadata": {},
     "output_type": "display_data"
    },
    {
     "data": {
      "text/html": [
       "<span style=white-space:pre-wrap>'AIC_ModelB :  492107 '</span>"
      ],
      "text/latex": [
       "'AIC\\_ModelB :  492107 '"
      ],
      "text/markdown": [
       "<span style=white-space:pre-wrap>'AIC_ModelB :  492107 '</span>"
      ],
      "text/plain": [
       "[1] \"AIC_ModelB :  492107 \""
      ]
     },
     "metadata": {},
     "output_type": "display_data"
    },
    {
     "data": {
      "text/html": [
       "<span style=white-space:pre-wrap>'AIC_ModelC :   497469'</span>"
      ],
      "text/latex": [
       "'AIC\\_ModelC :   497469'"
      ],
      "text/markdown": [
       "<span style=white-space:pre-wrap>'AIC_ModelC :   497469'</span>"
      ],
      "text/plain": [
       "[1] \"AIC_ModelC :   497469\""
      ]
     },
     "metadata": {},
     "output_type": "display_data"
    },
    {
     "data": {
      "text/html": [
       "<span style=white-space:pre-wrap>'AIC_ModelD :  497891 '</span>"
      ],
      "text/latex": [
       "'AIC\\_ModelD :  497891 '"
      ],
      "text/markdown": [
       "<span style=white-space:pre-wrap>'AIC_ModelD :  497891 '</span>"
      ],
      "text/plain": [
       "[1] \"AIC_ModelD :  497891 \""
      ]
     },
     "metadata": {},
     "output_type": "display_data"
    },
    {
     "data": {
      "text/html": [
       "<span style=white-space:pre-wrap>'AIC_ModelE :  498746 '</span>"
      ],
      "text/latex": [
       "'AIC\\_ModelE :  498746 '"
      ],
      "text/markdown": [
       "<span style=white-space:pre-wrap>'AIC_ModelE :  498746 '</span>"
      ],
      "text/plain": [
       "[1] \"AIC_ModelE :  498746 \""
      ]
     },
     "metadata": {},
     "output_type": "display_data"
    },
    {
     "data": {
      "text/html": [
       "<span style=white-space:pre-wrap>'AIC_ModelF :  498746 '</span>"
      ],
      "text/latex": [
       "'AIC\\_ModelF :  498746 '"
      ],
      "text/markdown": [
       "<span style=white-space:pre-wrap>'AIC_ModelF :  498746 '</span>"
      ],
      "text/plain": [
       "[1] \"AIC_ModelF :  498746 \""
      ]
     },
     "metadata": {},
     "output_type": "display_data"
    },
    {
     "data": {
      "text/html": [
       "<span style=white-space:pre-wrap>'AIC_ModelG :  498842 '</span>"
      ],
      "text/latex": [
       "'AIC\\_ModelG :  498842 '"
      ],
      "text/markdown": [
       "<span style=white-space:pre-wrap>'AIC_ModelG :  498842 '</span>"
      ],
      "text/plain": [
       "[1] \"AIC_ModelG :  498842 \""
      ]
     },
     "metadata": {},
     "output_type": "display_data"
    }
   ],
   "source": [
    "sprintf(\"AIC_ModelA :  %s \" , round(AIC(p.A)))\n",
    "sprintf(\"AIC_ModelB :  %s \" , round(AIC(p.B)))\n",
    "sprintf(\"AIC_ModelC :  %s \" , round(AIC(p.C)))\n",
    "sprintf(\"AIC_ModelD :  %s \" , round(AIC(p.D)))\n",
    "sprintf(\"AIC_ModelE :  %s \" , round(AIC(p.E)))\n",
    "sprintf(\"AIC_ModelF :  %s \" , round(AIC(p.F)))\n",
    "sprintf(\"AIC_ModelG :  %s \" , round(AIC(p.G)))\n"
   ]
  },
  {
   "cell_type": "markdown",
   "metadata": {},
   "source": [
    "So our final model is model b i.e. p.B"
   ]
  }
 ],
 "metadata": {
  "kernelspec": {
   "display_name": "R",
   "language": "R",
   "name": "ir"
  },
  "language_info": {
   "codemirror_mode": "r",
   "file_extension": ".r",
   "mimetype": "text/x-r-source",
   "name": "R",
   "pygments_lexer": "r",
   "version": "3.6.1"
  }
 },
 "nbformat": 4,
 "nbformat_minor": 4
}
